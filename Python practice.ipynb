{
  "metadata": {
    "kernelspec": {
      "name": "python",
      "display_name": "Python (Pyodide)",
      "language": "python"
    },
    "language_info": {
      "codemirror_mode": {
        "name": "python",
        "version": 3
      },
      "file_extension": ".py",
      "mimetype": "text/x-python",
      "name": "python",
      "nbconvert_exporter": "python",
      "pygments_lexer": "ipython3",
      "version": "3.8"
    }
  },
  "nbformat_minor": 5,
  "nbformat": 4,
  "cells": [
    {
      "id": "b2babdcd-4bef-4b26-b010-1fb6b78dc4a9",
      "cell_type": "code",
      "source": "import re\nimport math\nfrom decimal import Decimal, ROUND_DOWN",
      "metadata": {
        "trusted": true,
        "tags": [],
        "editable": true,
        "slideshow": {
          "slide_type": ""
        }
      },
      "outputs": [],
      "execution_count": 151
    },
    {
      "id": "c29a178e-d12c-4402-94a5-c0261e097246",
      "cell_type": "code",
      "source": "first_name = \"Yasir\"\nsecond_name = \"Abdullah\"\nlast_name = \"Binsaif\"\nprint(\"This is {} {} {}\".format(first_name, second_name, last_name))",
      "metadata": {
        "trusted": true
      },
      "outputs": [
        {
          "name": "stdout",
          "output_type": "stream",
          "text": "This is Yasir Abdullah Binsaif\n"
        }
      ],
      "execution_count": 7
    },
    {
      "id": "53fc06af-5baa-4f76-bbe2-487958c205d2",
      "cell_type": "code",
      "source": "for i, x in enumerate(first_name): \n    print(i, x)",
      "metadata": {
        "trusted": true
      },
      "outputs": [
        {
          "name": "stdout",
          "output_type": "stream",
          "text": "0 Y\n1 a\n2 s\n3 i\n4 r\n"
        }
      ],
      "execution_count": 21
    },
    {
      "id": "51448db0-b90c-441c-8cd2-3f8dc1bfffcb",
      "cell_type": "code",
      "source": "name = \"This is my name: Yasir, and I want you to meet me in the garden\"\nfor i, x in enumerate(name):\n    print(i,x)\n",
      "metadata": {
        "trusted": true
      },
      "outputs": [
        {
          "name": "stdout",
          "output_type": "stream",
          "text": "0 T\n1 h\n2 i\n3 s\n4  \n5 i\n6 s\n7  \n8 m\n9 y\n10  \n11 n\n12 a\n13 m\n14 e\n15 :\n16  \n17 Y\n18 a\n19 s\n20 i\n21 r\n22 ,\n23  \n24 a\n25 n\n26 d\n27  \n28 I\n29  \n30 w\n31 a\n32 n\n33 t\n34  \n35 y\n36 o\n37 u\n38  \n39 t\n40 o\n41  \n42 m\n43 e\n44 e\n45 t\n46  \n47 m\n48 e\n49  \n50 i\n51 n\n52  \n53 t\n54 h\n55 e\n56  \n57 g\n58 a\n59 r\n60 d\n61 e\n62 n\n Yasir is my name\n"
        }
      ],
      "execution_count": 38
    },
    {
      "id": "a3eab0aa-65c5-464b-861c-732ede1c0511",
      "cell_type": "code",
      "source": "print(name[0:5:2])",
      "metadata": {
        "trusted": true
      },
      "outputs": [
        {
          "name": "stdout",
          "output_type": "stream",
          "text": "Ti \n"
        }
      ],
      "execution_count": 45
    },
    {
      "id": "765d886c-f7ce-45cb-a3b2-2e383b73326d",
      "cell_type": "code",
      "source": "print((name + \"\\t\")*3)",
      "metadata": {
        "trusted": true
      },
      "outputs": [
        {
          "name": "stdout",
          "output_type": "stream",
          "text": "This is my name: Yasir, and I want you to meet me in the garden\tThis is my name: Yasir, and I want you to meet me in the garden\tThis is my name: Yasir, and I want you to meet me in the garden\t\n"
        }
      ],
      "execution_count": 56
    },
    {
      "id": "c3d56a94-81fd-4210-b844-a81f4c5eaa13",
      "cell_type": "code",
      "source": "names = [\"yasir\", \"abdullah\", \"binsaif\"]\nfor i, x in enumerate(names):\n    corrected_name = x[0].upper() + x[1:]\n    names[i] = corrected_name\n\nprint(names)",
      "metadata": {
        "trusted": true
      },
      "outputs": [
        {
          "name": "stdout",
          "output_type": "stream",
          "text": "['Yasir', 'Abdullah', 'Binsaif']\n"
        }
      ],
      "execution_count": 12
    },
    {
      "id": "809233b0-a08e-4220-b15e-a8a7b2a61f5d",
      "cell_type": "code",
      "source": "sentence = \"my name is yasir\"\nprint(sentence.find(\"zft\"))",
      "metadata": {
        "trusted": true
      },
      "outputs": [
        {
          "name": "stdout",
          "output_type": "stream",
          "text": "-1\n"
        }
      ],
      "execution_count": 3
    },
    {
      "id": "4dd397ca-b051-4c61-bcb9-828db0dee34d",
      "cell_type": "code",
      "source": "name = \"The playmaker is good\"\nsplit_string = name.split()\nsplit_string",
      "metadata": {
        "trusted": true
      },
      "outputs": [
        {
          "execution_count": 9,
          "output_type": "execute_result",
          "data": {
            "text/plain": "['The', 'playmaker', 'is', 'good']"
          },
          "metadata": {}
        }
      ],
      "execution_count": 9
    },
    {
      "id": "53437860-bb08-44fa-8689-41771a774939",
      "cell_type": "code",
      "source": "arr = [\"ahmed\", \"faisal\", \"khaled\"]\n\nfor i, x in enumerate(arr):\n    arr[i] = x[0].upper() + x[1:]\n\nname = arr[0] +\" \"+ arr[1] +\" \"+ arr[2]",
      "metadata": {
        "trusted": true
      },
      "outputs": [
        {
          "name": "stdout",
          "output_type": "stream",
          "text": "Ahmed Faisal Khaled\n"
        }
      ],
      "execution_count": 11
    },
    {
      "id": "2978ed7d-5e52-482c-aadd-254b408b4193",
      "cell_type": "code",
      "source": "",
      "metadata": {
        "trusted": true
      },
      "outputs": [
        {
          "execution_count": 12,
          "output_type": "execute_result",
          "data": {
            "text/plain": "['He', 'is', 'good']"
          },
          "metadata": {}
        }
      ],
      "execution_count": 12
    },
    {
      "id": "aeb339bc-6a0f-4229-908a-71b1f90247a7",
      "cell_type": "code",
      "source": "sentence = \"humans must explore the universe, humans are explorers by default\"\npattern = r\"humans\"\n\nresults = re.search(pattern, sentence)\nif results:\n    print(\"Match found\", results)\nelse:\n    print(\"Match not found\", results)",
      "metadata": {
        "trusted": true
      },
      "outputs": [
        {
          "name": "stdout",
          "output_type": "stream",
          "text": "Match found <re.Match object; span=(0, 6), match='humans'>\n"
        }
      ],
      "execution_count": 27
    },
    {
      "id": "531eb011-f7c5-4b29-8cf9-03b3020a8da2",
      "cell_type": "code",
      "source": "pattern = r\"\\D\\D\"\ntext = \"My Phone number is 1234567890\"\nmatch = re.search(pattern, text)\n\nif match: \n    print(\"match found\", match)\nelse:\n    print(\"match not found\")",
      "metadata": {
        "trusted": true
      },
      "outputs": [
        {
          "name": "stdout",
          "output_type": "stream",
          "text": "match found <re.Match object; span=(0, 2), match='My'>\n"
        }
      ],
      "execution_count": 34
    },
    {
      "id": "cd10388b-f788-49bd-a3e6-42f6ca482027",
      "cell_type": "code",
      "source": "pattern = r\"\\W\"\ntext = \"Hello, world!\"\nmatches = re.findall(pattern, text)\nprint(\"Matches:\", matches)",
      "metadata": {
        "trusted": true
      },
      "outputs": [
        {
          "name": "stdout",
          "output_type": "stream",
          "text": "Matches: [',', ' ', '!']\n"
        }
      ],
      "execution_count": 35
    },
    {
      "id": "82f89b5b-ee39-4c36-a74c-6ecfa42034fb",
      "cell_type": "code",
      "source": "s2 = \"I went to the park with my dog, and I found a new toy for my dog in the way back home.\"\nresults = re.findall(\"dog\", s2)\nprint(results)",
      "metadata": {
        "trusted": true
      },
      "outputs": [
        {
          "name": "stdout",
          "output_type": "stream",
          "text": "['dog', 'dog']\n"
        }
      ],
      "execution_count": 42
    },
    {
      "id": "4592cc5a-3b75-4756-b53b-93fcea81a6b6",
      "cell_type": "code",
      "source": "split_array = re.split(r\"\\s\", s2)\nprint(split_array)",
      "metadata": {
        "trusted": true
      },
      "outputs": [
        {
          "name": "stdout",
          "output_type": "stream",
          "text": "['I', 'went', 'to', 'the', 'park', 'with', 'my', 'dog,', 'and', 'I', 'found', 'a', 'new', 'toy', 'for', 'my', 'dog', 'in', 'the', 'way', 'back', 'home.']\n"
        }
      ],
      "execution_count": 44
    },
    {
      "id": "d9dbc4a5-361e-40d8-ab5b-ec0f54b8a4c7",
      "cell_type": "code",
      "source": "pattern = r\"dog\"\nreplacement = \"cat\"\nnew_string = re.sub(pattern, replacement, s2, flags = re.IGNORECASE)\nprint(new_string)",
      "metadata": {
        "trusted": true
      },
      "outputs": [
        {
          "name": "stdout",
          "output_type": "stream",
          "text": "I went to the park with my cat, and I found a new toy for my cat in the way back home.\n"
        }
      ],
      "execution_count": 46
    },
    {
      "id": "40c8a09e-8d04-4b3f-83fa-437c79674b20",
      "cell_type": "code",
      "source": "d = \"ABCDEFG\"\nd[:3]",
      "metadata": {
        "trusted": true
      },
      "outputs": [
        {
          "execution_count": 51,
          "output_type": "execute_result",
          "data": {
            "text/plain": "'ABC'"
          },
          "metadata": {}
        }
      ],
      "execution_count": 51
    },
    {
      "id": "27c84720-03e2-48b8-8aac-96ad80c5b9a7",
      "cell_type": "code",
      "source": "e = \"clocrkr1e1c1t\"\ne[::2]",
      "metadata": {
        "trusted": true
      },
      "outputs": [
        {
          "execution_count": 52,
          "output_type": "execute_result",
          "data": {
            "text/plain": "'correct'"
          },
          "metadata": {}
        }
      ],
      "execution_count": 52
    },
    {
      "id": "83af1073-f2f7-4c1f-9851-e0ec02bd3cba",
      "cell_type": "code",
      "source": "print(\"\\\\\")",
      "metadata": {
        "trusted": true
      },
      "outputs": [
        {
          "name": "stdout",
          "output_type": "stream",
          "text": "\\\n"
        }
      ],
      "execution_count": 59
    },
    {
      "id": "41eb075f-58d7-4461-8005-3a50b81d4f5b",
      "cell_type": "code",
      "source": "f = \"You are wrong\"\nf.upper()",
      "metadata": {
        "trusted": true
      },
      "outputs": [
        {
          "execution_count": 61,
          "output_type": "execute_result",
          "data": {
            "text/plain": "'YOU ARE WRONG'"
          },
          "metadata": {}
        }
      ],
      "execution_count": 61
    },
    {
      "id": "f29d296a-8e4c-49b9-8c32-4c30d7ab9458",
      "cell_type": "code",
      "source": "g = \"Mary had a little lamb Little lamb, little lamb Mary had a little lamb \\\nIts fleece was white as snow And everywhere that Mary went Mary went, Mary went \\\nEverywhere that Mary went The lamb was sure to go\"\n",
      "metadata": {
        "trusted": true
      },
      "outputs": [],
      "execution_count": 68
    },
    {
      "id": "6ffa3395-d529-469b-b61f-c32d07e98a71",
      "cell_type": "code",
      "source": "str1 = \"The quick brown fox jumps over the lazy dog\"\nre.sub(\"fox\", \"bear\", str1)",
      "metadata": {
        "trusted": true
      },
      "outputs": [
        {
          "execution_count": 76,
          "output_type": "execute_result",
          "data": {
            "text/plain": "'The quick brown bear jumps over the lazy dog'"
          },
          "metadata": {}
        }
      ],
      "execution_count": 76
    },
    {
      "id": "1f3ad605-b136-48d7-b947-20fc95b849a8",
      "cell_type": "code",
      "source": "str2= \"How much wood would a woodchuck chuck, if a woodchuck could chuck wood?\"\nre.findall(\"woo\", str2)",
      "metadata": {
        "trusted": true
      },
      "outputs": [
        {
          "execution_count": 77,
          "output_type": "execute_result",
          "data": {
            "text/plain": "['woo', 'woo', 'woo', 'woo']"
          },
          "metadata": {}
        }
      ],
      "execution_count": 77
    },
    {
      "id": "8d53578f-cd07-44d1-bb40-e3a6981b3c6b",
      "cell_type": "code",
      "source": "print(\"AB\\nC\\nDE\")",
      "metadata": {
        "trusted": true
      },
      "outputs": [
        {
          "name": "stdout",
          "output_type": "stream",
          "text": "AB\nC\nDE\n"
        }
      ],
      "execution_count": 78
    },
    {
      "id": "e6c0f458-7ae6-4b75-a5bc-d5e5bd5440a4",
      "cell_type": "code",
      "source": "inventory = {\n        \"ProductNo1\" : \"Mobile Phone\",\n        \"ProductNo1_quantity\" :5,\n        \"ProductNo1_price\" : 20000,\n        \"ProductNo1_releaseYear\" : 2020\n}\nprint(inventory)",
      "metadata": {
        "trusted": true
      },
      "outputs": [
        {
          "name": "stdout",
          "output_type": "stream",
          "text": "{'ProductNo1': 'Mobile Phone', 'ProductNo1_quantity': 5, 'ProductNo1_price': 20000, 'ProductNo1_releaseYear': 2020}\n"
        }
      ],
      "execution_count": 32
    },
    {
      "id": "b0a5626a-ff3d-4560-9719-cf2609beaea5",
      "cell_type": "code",
      "source": "del(inventory[\"ProductNo1\"])",
      "metadata": {
        "trusted": true
      },
      "outputs": [],
      "execution_count": 33
    },
    {
      "id": "35428fc8-3a52-473e-ac8e-8621bb1886c6",
      "cell_type": "code",
      "source": "print(inventory)",
      "metadata": {
        "trusted": true
      },
      "outputs": [
        {
          "name": "stdout",
          "output_type": "stream",
          "text": "{'ProductNo1_quantity': 5, 'ProductNo1_price': 20000, 'ProductNo1_releaseYear': 2020}\n"
        }
      ],
      "execution_count": 34
    },
    {
      "id": "6e64ef2b-5d9e-436c-8ee6-68a872ef2311",
      "cell_type": "code",
      "source": "inventory.keys()\n",
      "metadata": {
        "trusted": true
      },
      "outputs": [
        {
          "execution_count": 39,
          "output_type": "execute_result",
          "data": {
            "text/plain": "dict_keys(['ProductNo1_quantity', 'ProductNo1_price', 'ProductNo1_releaseYear'])"
          },
          "metadata": {}
        }
      ],
      "execution_count": 39
    },
    {
      "id": "68fbc598-5deb-456f-92a0-76cd9dedd712",
      "cell_type": "code",
      "source": "A = {\n    \"a\": 1,\n    \"b\": 2\n}",
      "metadata": {
        "trusted": true
      },
      "outputs": [],
      "execution_count": 36
    },
    {
      "id": "ea73b830-8c8a-4af0-958d-5fae24ecf2cc",
      "cell_type": "code",
      "source": "print(A.keys())",
      "metadata": {
        "trusted": true
      },
      "outputs": [
        {
          "name": "stdout",
          "output_type": "stream",
          "text": "dict_keys(['a', 'b'])\n"
        }
      ],
      "execution_count": 38
    },
    {
      "id": "05a6cf30-6b98-4b73-afd6-5a993aac300f",
      "cell_type": "code",
      "source": "setA = {1,2,3,4,5}\nprint(list(setA))\nsetA.remove(1)\nprint(setA)",
      "metadata": {
        "trusted": true
      },
      "outputs": [
        {
          "name": "stdout",
          "output_type": "stream",
          "text": "[1, 2, 3, 4, 5]\n{2, 3, 4, 5}\n"
        }
      ],
      "execution_count": 50
    },
    {
      "id": "854a34c0-d87d-43bd-952e-1a4bc8054103",
      "cell_type": "code",
      "source": "list_of_names = [\"ahmed\",\"faisal\",\"yasir\",\"osama\",\"ibrahim\",\"yasir\"]\nprint(set(list_of_names))",
      "metadata": {
        "trusted": true
      },
      "outputs": [
        {
          "name": "stdout",
          "output_type": "stream",
          "text": "{'yasir', 'faisal', 'ahmed', 'ibrahim', 'osama'}\n"
        }
      ],
      "execution_count": 47
    },
    {
      "id": "de158145-89c6-4861-95a7-6afc3ce16b26",
      "cell_type": "code",
      "source": "setA = {11,25,11,23,42,24}\nsetB= {23,43,22,14,18}\nsetC = setA & setB \nprint(setC) \n",
      "metadata": {
        "trusted": true
      },
      "outputs": [
        {
          "name": "stdout",
          "output_type": "stream",
          "text": "{23}\n"
        }
      ],
      "execution_count": 51
    },
    {
      "id": "87f7e728-1333-4f8f-9a16-377421379f4a",
      "cell_type": "code",
      "source": "setA = {11,25,11,23,42,24}\nsetB= {23,43,22,14,18}\nsetC = setA.union(setB)\nprint(setC, len(setA), len(setB), len(setC), setA.issubset(setC)) \n",
      "metadata": {
        "trusted": true
      },
      "outputs": [
        {
          "name": "stdout",
          "output_type": "stream",
          "text": "{42, 11, 43, 14, 18, 22, 23, 24, 25} 5 5 9 True\n"
        }
      ],
      "execution_count": 58
    },
    {
      "id": "bc5aa953-8223-4a1f-8747-7f98eceb32a2",
      "cell_type": "code",
      "source": "A = set([\"Thriller\", \"Back in Black\", \"AC/DC\"])\nA",
      "metadata": {
        "trusted": true
      },
      "outputs": [
        {
          "execution_count": 59,
          "output_type": "execute_result",
          "data": {
            "text/plain": "{'AC/DC', 'Back in Black', 'Thriller'}"
          },
          "metadata": {}
        }
      ],
      "execution_count": 59
    },
    {
      "id": "89413959-f7bf-4573-ba02-bed3308b09a6",
      "cell_type": "code",
      "source": "A.add(\"NSYNC\")\nA",
      "metadata": {
        "trusted": true
      },
      "outputs": [
        {
          "execution_count": 61,
          "output_type": "execute_result",
          "data": {
            "text/plain": "{'AC/DC', 'Back in Black', 'NSYNC', 'Thriller'}"
          },
          "metadata": {}
        }
      ],
      "execution_count": 61
    },
    {
      "id": "bb394e0f-92c8-4f0b-8115-76fa8274d072",
      "cell_type": "code",
      "source": "A.remove(\"NSYNC\")\nA",
      "metadata": {
        "trusted": true
      },
      "outputs": [
        {
          "execution_count": 62,
          "output_type": "execute_result",
          "data": {
            "text/plain": "{'AC/DC', 'Back in Black', 'Thriller'}"
          },
          "metadata": {}
        }
      ],
      "execution_count": 62
    },
    {
      "id": "9923def0-c6c4-4f70-8400-10fe5111d96b",
      "cell_type": "code",
      "source": "\"AC/DC\" in A",
      "metadata": {
        "trusted": true
      },
      "outputs": [
        {
          "execution_count": 63,
          "output_type": "execute_result",
          "data": {
            "text/plain": "True"
          },
          "metadata": {}
        }
      ],
      "execution_count": 63
    },
    {
      "id": "ed24e039-44ab-40cf-a4ce-ac8de9b77b53",
      "cell_type": "code",
      "source": "album_set1 = set([\"Thriller\", 'AC/DC', 'Back in Black'])\nalbum_set2 = set([ \"AC/DC\", \"Back in Black\", \"The Dark Side of the Moon\"])\nintersection = album_set1 & album_set2\nunion = album_set1 | album_set2  ## we can also do album_set1.union(album_set2)\n# print(intersection)\n# print(album_set1.difference(album_set2))\n# print(album_set2.difference(album_set1))\n# print(album_set1.intersection(album_set2))\n# print(album_set1 | album_set2)\nset(album_set1).issuperset(album_set2)\nset(album_set2).issuperset(album_set1)\nalbum_set1.issubset(album_set2)",
      "metadata": {
        "trusted": true
      },
      "outputs": [
        {
          "execution_count": 75,
          "output_type": "execute_result",
          "data": {
            "text/plain": "False"
          },
          "metadata": {}
        }
      ],
      "execution_count": 75
    },
    {
      "id": "4974c785-4a88-47a3-b84c-d1670457c1c7",
      "cell_type": "code",
      "source": "music_types= set(['rap','house','electronic music', 'rap'])\n",
      "metadata": {
        "trusted": true
      },
      "outputs": [
        {
          "name": "stdout",
          "output_type": "stream",
          "text": "{'rap', 'electronic music', 'house'}\n"
        }
      ],
      "execution_count": 77
    },
    {
      "id": "03500009-632e-4668-8859-9912f534c68c",
      "cell_type": "code",
      "source": "A = [1, 2, 2, 1]\nB = set([1, 2, 2, 1])\nsum(A) == sum(B) ",
      "metadata": {
        "trusted": true
      },
      "outputs": [
        {
          "execution_count": 80,
          "output_type": "execute_result",
          "data": {
            "text/plain": "False"
          },
          "metadata": {}
        }
      ],
      "execution_count": 80
    },
    {
      "id": "807c536f-1ec1-4ef0-b6f1-9f1313d7439a",
      "cell_type": "code",
      "source": "album_set1 = set([\"Thriller\", 'AC/DC', 'Back in Black'])\nalbum_set2 = set([ \"AC/DC\", \"Back in Black\", \"The Dark Side of the Moon\"])\nalbum_set3 = album_set1 | album_set2 \nprint(album_set3 ,len(album_set1), len(album_set2), len(album_set3))",
      "metadata": {
        "trusted": true
      },
      "outputs": [
        {
          "name": "stdout",
          "output_type": "stream",
          "text": "{'Back in Black', 'The Dark Side of the Moon', 'Thriller', 'AC/DC'} 3 3 4\n"
        }
      ],
      "execution_count": 83
    },
    {
      "id": "f39c7b9e-f5ae-467a-9722-2845d3a1970a",
      "cell_type": "code",
      "source": "album_set1.issubset(album_set3)",
      "metadata": {
        "trusted": true
      },
      "outputs": [
        {
          "execution_count": 85,
          "output_type": "execute_result",
          "data": {
            "text/plain": "True"
          },
          "metadata": {}
        }
      ],
      "execution_count": 85
    },
    {
      "id": "42a5815c-f6bf-4d18-8d14-2868ae01f7e7",
      "cell_type": "code",
      "source": "visitors = {'user123', 'user456'}\nvisitors.add('user789')\nvisitors",
      "metadata": {
        "trusted": true
      },
      "outputs": [
        {
          "execution_count": 3,
          "output_type": "execute_result",
          "data": {
            "text/plain": "{'user123', 'user456', 'user789'}"
          },
          "metadata": {}
        }
      ],
      "execution_count": 3
    },
    {
      "id": "1376a8e2-50cd-4885-a6f6-2e5d8d1a9203",
      "cell_type": "code",
      "source": "a = 5\nb = 7\na == b",
      "metadata": {
        "trusted": true
      },
      "outputs": [
        {
          "execution_count": 4,
          "output_type": "execute_result",
          "data": {
            "text/plain": "False"
          },
          "metadata": {}
        }
      ],
      "execution_count": 4
    },
    {
      "id": "9a6f2b1d-2de5-47c3-baaa-d3847ea1a4bc",
      "cell_type": "code",
      "source": "i = 6\ni >= 5",
      "metadata": {
        "trusted": true
      },
      "outputs": [
        {
          "execution_count": 8,
          "output_type": "execute_result",
          "data": {
            "text/plain": "True"
          },
          "metadata": {}
        }
      ],
      "execution_count": 8
    },
    {
      "id": "f3ad733f-4687-4863-ba8c-a8736a7271a6",
      "cell_type": "code",
      "source": "i!=5",
      "metadata": {
        "trusted": true
      },
      "outputs": [
        {
          "execution_count": 14,
          "output_type": "execute_result",
          "data": {
            "text/plain": "True"
          },
          "metadata": {}
        }
      ],
      "execution_count": 14
    },
    {
      "id": "48a604f5-175a-4bb5-8b56-24a1e5b6d96b",
      "cell_type": "code",
      "source": "name = \"ahmed\"\nif name == \"yasir\":\n    print(\"Correct!\")\nelif name == \"ahmed\":\n    print(\"Maybe!\")\nelse: \n    print(\"Wrong!\")",
      "metadata": {
        "trusted": true
      },
      "outputs": [
        {
          "name": "stdout",
          "output_type": "stream",
          "text": "Maybe!\n"
        }
      ],
      "execution_count": 16
    },
    {
      "id": "afbfbba3-6c06-4679-b2c6-3b3a1ccf1297",
      "cell_type": "code",
      "source": "not(True)\nnot(False)",
      "metadata": {
        "trusted": true
      },
      "outputs": [
        {
          "execution_count": 18,
          "output_type": "execute_result",
          "data": {
            "text/plain": "True"
          },
          "metadata": {}
        }
      ],
      "execution_count": 18
    },
    {
      "id": "a547d9e9-08e7-44a5-9969-e503ace426ea",
      "cell_type": "code",
      "source": "False or False ",
      "metadata": {
        "trusted": true
      },
      "outputs": [
        {
          "execution_count": 19,
          "output_type": "execute_result",
          "data": {
            "text/plain": "False"
          },
          "metadata": {}
        }
      ],
      "execution_count": 19
    },
    {
      "id": "9acde8db-add9-4507-87a5-0e25b29871ba",
      "cell_type": "code",
      "source": "False or True ",
      "metadata": {
        "trusted": true
      },
      "outputs": [
        {
          "execution_count": 20,
          "output_type": "execute_result",
          "data": {
            "text/plain": "True"
          },
          "metadata": {}
        }
      ],
      "execution_count": 20
    },
    {
      "id": "7c039674-30de-4bf8-9e24-b5c8f56a8364",
      "cell_type": "code",
      "source": "album_year = 1990\nif (album_year < 1980) or (album_year > 1989):\n    print(\"The Album was made in the 70's or 90's\")\nelse:\n    print(\"The Album was made in the 1980's\")",
      "metadata": {
        "trusted": true
      },
      "outputs": [
        {
          "name": "stdout",
          "output_type": "stream",
          "text": "The Album was made in the 70's or 90's\n"
        }
      ],
      "execution_count": 32
    },
    {
      "id": "e24c6875-1407-428d-aced-6561c353e8dc",
      "cell_type": "code",
      "source": "skills = [\"football\", \"basketball\"]\nif \"football\" in skills and \"basketball\" in skills:\n    print(\"Good job!\")\nelse: \n    print(\"Try again!\")",
      "metadata": {
        "trusted": true
      },
      "outputs": [
        {
          "name": "stdout",
          "output_type": "stream",
          "text": "Good job!\n"
        }
      ],
      "execution_count": 33
    },
    {
      "id": "2cfea95a-5aa3-436c-b0aa-41f469b6873c",
      "cell_type": "code",
      "source": "skills = [\"football\", \"tennis\"]\nif \"football\" in skills and \"basketball\" in skills:\n    print(\"Good job!\")\nelse: \n    print(\"Try again!\")",
      "metadata": {
        "trusted": true
      },
      "outputs": [
        {
          "name": "stdout",
          "output_type": "stream",
          "text": "Try again!\n"
        }
      ],
      "execution_count": 34
    },
    {
      "id": "15eee8fa-fbf0-40b2-9d46-6b388ddd2ae0",
      "cell_type": "code",
      "source": "sales = [\n    {\"product\": \"Apple\", \"price\": 1.2, \"quantity\": 10},\n    {\"product\": \"Banana\", \"price\": 0.8, \"quantity\": 25},\n    {\"product\": \"Orange\", \"price\": 1.5, \"quantity\": 8},\n    {\"product\": \"Mango\", \"price\": 2.0, \"quantity\": 5},\n    {\"product\": \"Apple\", \"price\": 1.2, \"quantity\": 15},\n    {\"product\": \"Banana\", \"price\": 0.8, \"quantity\": 30}\n]\n\ndef analyze_data (data):\n    \n    total_revenue = 0\n    quantity_dict = {}\n    revenue_dict = {}\n    prices_dict = {}\n\n    for row in data: \n        product, price, quantity = row[\"product\"], row[\"price\"], row[\"quantity\"]\n\n        total_revenue += price * quantity\n\n        quantity_dict[product] = quantity_dict.get(product,0) + quantity\n\n        revenue_dict[product] = revenue_dict.get(product,0) + price * quantity\n\n        prices_dict.setdefault(product, price)\n\n    most_popular = max(quantity_dict, key=quantity_dict.get)\n\n    average_price = sum(prices_dict.values())/len(prices_dict)\n\n    top_revenue = max(revenue_dict, key=revenue_dict.get)\n\n\n    return {\n        \"quantities\": quantity_dict,\n        \"revenues\": revenue_dict, \n        \"prices\": prices_dict,\n        \"most_popular_product\": most_popular,\n        \"average_price\": average_price, \n        \"top_revenue_product\": top_revenue\n    }\nanalyze_data(sales)",
      "metadata": {
        "trusted": true
      },
      "outputs": [
        {
          "execution_count": 107,
          "output_type": "execute_result",
          "data": {
            "text/plain": "{'quantities': {'Apple': 25, 'Banana': 55, 'Orange': 8, 'Mango': 5},\n 'revenues': {'Apple': 30.0, 'Banana': 44.0, 'Orange': 12.0, 'Mango': 10.0},\n 'prices': {'Apple': 1.2, 'Banana': 0.8, 'Orange': 1.5, 'Mango': 2.0},\n 'most_popular_product': 'Banana',\n 'average_price': 1.375,\n 'top_revenue_product': 'Banana'}"
          },
          "metadata": {}
        }
      ],
      "execution_count": 107
    },
    {
      "id": "47d6d6c8-44bc-4247-bb82-183738e09c1c",
      "cell_type": "code",
      "source": "# movies = [\n#     {\"title\": \"Inception\", \"genre\": \"Sci-Fi\", \"rating\": 8.8, \"votes\": 1200},\n#     {\"title\": \"The Matrix\", \"genre\": \"Sci-Fi\", \"rating\": 8.7, \"votes\": 950},\n#     {\"title\": \"Interstellar\", \"genre\": \"Sci-Fi\", \"rating\": 8.6, \"votes\": 1000},\n#     {\"title\": \"The Godfather\", \"genre\": \"Crime\", \"rating\": 9.2, \"votes\": 1500},\n#     {\"title\": \"The Dark Knight\", \"genre\": \"Action\", \"rating\": 9.0, \"votes\": 2000},\n#     {\"title\": \"Pulp Fiction\", \"genre\": \"Crime\", \"rating\": 8.9, \"votes\": 1100},\n# ]\n\n# def analyze_movie (data):\n\n#     ratings = []\n#     votes_dict = {}\n#     movies_per_genre = {}\n#     weighted_ratings_dict = {}\n#     top_rated_movies = {}\n    \n#     for row in data: \n#         title, genre, rating, votes = row[\"title\"], row[\"genre\"], row[\"rating\"], row[\"votes\"]\n#     # add the name of the movie and his rating \n#         ratings.append(rating)\n#     # add movie name and votes\n#         votes_dict[title] = votes_dict.get(title, 0) + votes\n#     # add movies and genre\n#         movies_per_genre[genre] = movies_per_genre.get(genre, 0) + 1\n#     # find highest rated per genre\n    \n#         if genre not in top_rated_movies:\n#               top_rated_movies[genre] = row\n             \n#         else:\n#                   top_rated_movies[genre] = row\n                  \n        \n#     # find the highest weighted rating movie\n#         weighted_ratings_dict[title] = weighted_ratings_dict.get(title, 0) + rating * votes\n#     # find the average rating\n#     average_rating = sum(ratings)/len(ratings)\n  \n#     # find the most voted movie\n#     most_voted_movie = max(votes_dict, key=votes_dict.get)\n#     highest_weighted_movie = max(weighted_ratings_dict, key=weighted_ratings_dict.get)\n#     top_titles = {g: m[\"title\"] for g, m in top_rated_movies.items()}\n    \n    \n#     return {\n#         \"average_rating\": float(average_rating),\n#         \"most_voted_movie\": most_voted_movie,\n#         \"movies_per_genre\": movies_per_genre, \n#         \"highest_weighted_movie\": highest_weighted_movie,\n#          \"top_rated_title\": top_titles,\n#     }\n    \n# analyze_movie(movies)",
      "metadata": {
        "trusted": true
      },
      "outputs": [],
      "execution_count": 374
    },
    {
      "id": "ac47f5f5-41d8-4f9e-9350-2a66f2ed5728",
      "cell_type": "code",
      "source": "",
      "metadata": {
        "trusted": true
      },
      "outputs": [],
      "execution_count": null
    },
    {
      "id": "b4453786-7538-4b12-a630-9e9f55a988a2",
      "cell_type": "code",
      "source": "",
      "metadata": {
        "trusted": true
      },
      "outputs": [],
      "execution_count": null
    },
    {
      "id": "7f245cd1-c1ce-43f3-83e3-b3d75dd306b2",
      "cell_type": "code",
      "source": "",
      "metadata": {
        "trusted": true
      },
      "outputs": [],
      "execution_count": null
    },
    {
      "id": "e19e4833-c26c-4d9d-8b8e-6086f6110759",
      "cell_type": "code",
      "source": "",
      "metadata": {
        "trusted": true
      },
      "outputs": [],
      "execution_count": null
    },
    {
      "id": "c92a483b-18f7-462e-9499-68cfb65d5e3d",
      "cell_type": "code",
      "source": "",
      "metadata": {
        "trusted": true
      },
      "outputs": [],
      "execution_count": null
    },
    {
      "id": "f8b8a6b4-7dec-406a-b2e7-6228a16de078",
      "cell_type": "code",
      "source": "",
      "metadata": {
        "trusted": true
      },
      "outputs": [],
      "execution_count": null
    },
    {
      "id": "c180b479-3e07-4361-bafa-e1978b34b4f9",
      "cell_type": "code",
      "source": "# movies = [\n#     {\"title\": \"Inception\", \"genre\": \"Sci-Fi\", \"rating\": 8.8, \"votes\": 1200},\n#     {\"title\": \"The Matrix\", \"genre\": \"Sci-Fi\", \"rating\": 8.7, \"votes\": 950},\n#     {\"title\": \"Interstellar\", \"genre\": \"Sci-Fi\", \"rating\": 8.6, \"votes\": 1000},\n#     {\"title\": \"The Godfather\", \"genre\": \"Crime\", \"rating\": 9.2, \"votes\": 1500},\n#     {\"title\": \"The Dark Knight\", \"genre\": \"Action\", \"rating\": 9.0, \"votes\": 2000},\n#     {\"title\": \"Pulp Fiction\", \"genre\": \"Crime\", \"rating\": 8.9, \"votes\": 1100},\n# ]\n# def analyze_movies (data): \n#     ratings = []\n#     votes_dict = {}\n#     movies_by_genre = {}\n#     highest_rated_movies = {}\n#     highest_weighted_movies = {}\n\n#     for row in data:\n#         # Assign the data \n#         title, genre, rating, votes = row[\"title\"], row[\"genre\"], row[\"rating\"], row[\"votes\"]\n#         # add ratings to ratings list \n#         ratings.append(rating)\n#         # find the movie with the most amount of votes \n#         votes_dict[title] = votes\n#         # count movies per genre\n#         movies_by_genre[genre]= movies_by_genre.get(genre, 0) + 1\n#         # find highest rated per genre \n#         if genre not in highest_rated_movies:\n#             highest_rated_movies[genre] = row\n#         else: \n#             if rating > highest_rated_movies[genre][\"rating\"]:\n#                 highest_rated_movies = row\n\n#         # add weighted ratings to the dict\n#         highest_weighted_movies[title] = rating * votes\n#     # average rating\n#     average_rating = sum(ratings)/len(ratings)\n#     # most voted movie\n#     most_voted_movie = max(votes_dict, key=votes_dict.get)\n#     # highest weighted movie \n#     highest_weighted_movie = max(highest_weighted_movies, key=highest_weighted_movies.get)\n#     # highest rated movie dict cleaner\n#     highest_rated_movies = {genre: title[\"title\"] for genre, title in highest_rated_movies.items()}\n\n#     return {\n#         \"average_rating\": average_rating,\n#         \"most_voted_movie\": most_voted_movie,\n#         \"movies_per_genre\": movies_by_genre,\n#         \"highest_rated_movies\": highest_rated_movies,\n#         \"highest_weighted_movie\": highest_weighted_movie\n#     }\n    \n# analyze_movies(movies)\n\n",
      "metadata": {
        "trusted": true
      },
      "outputs": [],
      "execution_count": 1
    },
    {
      "id": "4574cf89-26fb-4c19-b9eb-1e2ba139c58e",
      "cell_type": "code",
      "source": "# movies = [\n#     {\"title\": \"Inception\", \"genre\": \"Sci-Fi\", \"rating\": 8.8, \"votes\": 1200},\n#     {\"title\": \"The Matrix\", \"genre\": \"Sci-Fi\", \"rating\": 8.7, \"votes\": 900},\n#     {\"title\": \"The Godfather\", \"genre\": \"Crime\", \"rating\": 9.2, \"votes\": 1500},\n#     {\"title\": \"The Dark Knight\", \"genre\": \"Action\", \"rating\": 9.0, \"votes\": 2000},\n#     {\"title\": \"Pulp Fiction\", \"genre\": \"Crime\", \"rating\": 8.9, \"votes\": 1700},\n#     {\"title\": \"Avengers: Endgame\", \"genre\": \"Action\", \"rating\": 8.4, \"votes\": 2200}\n# ]\n\n# def analyze_movies (data):\n#     most_voted_movie_per_genre = {}\n\n#     for row in data: \n#         title, genre, rating, votes = row[\"title\"], row[\"genre\"], row[\"rating\"], row[\"votes\"]\n#         # populate most_voted_movie_per_genre\n#         if genre not in most_voted_movie_per_genre:\n#             most_voted_movie_per_genre[genre] = row\n#         else:\n#             if votes > most_voted_movie_per_genre[genre][\"votes\"]:\n#                 most_voted_movie_per_genre[genre] = row\n\n#     # clean most_voted_movie_per_genre\n#     most_voted_movie_per_genre = {genre: {\"title\": old_dict[\"title\"], \"votes\": old_dict[\"votes\"]} for genre, old_dict in most_voted_movie_per_genre.items()}\n\n#     return most_voted_movie_per_genre\n# analyze_movies(movies)",
      "metadata": {
        "trusted": true
      },
      "outputs": [
        {
          "execution_count": 68,
          "output_type": "execute_result",
          "data": {
            "text/plain": "{'Sci-Fi': {'title': 'Inception', 'votes': 1200},\n 'Crime': {'title': 'Pulp Fiction', 'votes': 1700},\n 'Action': {'title': 'Avengers: Endgame', 'votes': 2200}}"
          },
          "metadata": {}
        }
      ],
      "execution_count": 68
    },
    {
      "id": "d1b6ab67-6977-43f0-af69-3ed941e30655",
      "cell_type": "code",
      "source": "squares = [\"orange\", \"orange\", \"purple\", \"orange\", \"blue\"]\nnew_squares = []\ni = 0 \nwhile squares[i] == \"orange\":\n    new_squares.append(squares[i])\n    i = i + 1\n\nprint(new_squares)",
      "metadata": {
        "trusted": true
      },
      "outputs": [
        {
          "name": "stdout",
          "output_type": "stream",
          "text": "['orange', 'orange']\n"
        }
      ],
      "execution_count": 95
    },
    {
      "id": "260d47b1-e2b0-4f76-ba2b-06ec22220020",
      "cell_type": "code",
      "source": "for number in range(11):\n    print(number)\n\n# for number in range(1,11):\n #   print(number)",
      "metadata": {
        "trusted": true
      },
      "outputs": [
        {
          "name": "stdout",
          "output_type": "stream",
          "text": "0\n1\n2\n3\n4\n5\n6\n7\n8\n9\n10\n"
        }
      ],
      "execution_count": 102
    },
    {
      "id": "87c2301c-4743-4bf7-9cdc-1cd4c7faf922",
      "cell_type": "code",
      "source": "count = 1\nwhile count < 10:\n    print(count)\n    count+=1\n\n",
      "metadata": {
        "trusted": true
      },
      "outputs": [
        {
          "name": "stdout",
          "output_type": "stream",
          "text": "1\n2\n3\n4\n5\n6\n7\n8\n9\n"
        }
      ],
      "execution_count": 104
    },
    {
      "id": "74cce97c-64b4-4c0f-a188-6e4f43a5d0a6",
      "cell_type": "code",
      "source": "squares = ['red', 'yellow', 'green', 'purple', 'blue']\n\nfor i in range(0, 5):\n    print(\"Before square \", i, 'is',  squares[i])\n    squares[i] = 'white'\n    print(\"After square \", i, 'is',  squares[i])",
      "metadata": {
        "trusted": true
      },
      "outputs": [
        {
          "name": "stdout",
          "output_type": "stream",
          "text": "Before square  0 is red\nAfter square  0 is white\nBefore square  1 is yellow\nAfter square  1 is white\nBefore square  2 is green\nAfter square  2 is white\nBefore square  3 is purple\nAfter square  3 is white\nBefore square  4 is blue\nAfter square  4 is white\n"
        }
      ],
      "execution_count": 105
    },
    {
      "id": "07ea5ca8-a6c1-4fec-ac3b-423e3cc26eb6",
      "cell_type": "code",
      "source": "",
      "metadata": {
        "trusted": true
      },
      "outputs": [
        {
          "name": "stdout",
          "output_type": "stream",
          "text": "['ahmed', 'faisal', 'osama']\n"
        }
      ],
      "execution_count": 78
    },
    {
      "id": "279b0bc3-191c-4e34-8c2b-a00f2ae8cd19",
      "cell_type": "code",
      "source": "squares=['red', 'yellow', 'green', 'purple', 'blue']\nfor square in squares:\n    print(square)",
      "metadata": {
        "trusted": true
      },
      "outputs": [
        {
          "name": "stdout",
          "output_type": "stream",
          "text": "red\nyellow\ngreen\npurple\nblue\n"
        }
      ],
      "execution_count": 114
    },
    {
      "id": "22b19735-962a-497e-a9ce-1de2f746bdc9",
      "cell_type": "code",
      "source": "squares = ['orange', 'orange', 'purple', 'blue ', 'orange']\nnew_squares = []\ni = 0 \nwhile i < len(squares) and squares[i] == \"orange\":\n    new_squares.append(\"orange\")\n    i+=1\nprint(new_squares)",
      "metadata": {
        "trusted": true
      },
      "outputs": [
        {
          "name": "stdout",
          "output_type": "stream",
          "text": "['orange', 'orange']\n"
        }
      ],
      "execution_count": 131
    },
    {
      "id": "fdcf6e5a-ca42-437d-bc0e-9bc69803ebb5",
      "cell_type": "code",
      "source": "def frequency_counter (string):\n    \n\n    words = string.split(\" \")\n    words_dict = {}\n    \n    for word in words:\n        print(word)\n\n\n\n\nfrequency_counter(\"Mary had a little lamb Little lamb, little lamb Mary had a little lamb.Its fleece was white as snow And everywhere that Mary went Mary went, Mary went \\\nEverywhere that Mary went The lamb was sure to go\")",
      "metadata": {
        "trusted": true
      },
      "outputs": [
        {
          "name": "stdout",
          "output_type": "stream",
          "text": "Mary\nhad\na\nlittle\nlamb\nLittle\nlamb,\nlittle\nlamb\nMary\nhad\na\nlittle\nlamb.Its\nfleece\nwas\nwhite\nas\nsnow\nAnd\neverywhere\nthat\nMary\nwent\nMary\nwent,\nMary\nwent\nEverywhere\nthat\nMary\nwent\nThe\nlamb\nwas\nsure\nto\ngo\n"
        }
      ],
      "execution_count": 153
    },
    {
      "id": "f508f094-66f5-4eb9-9f97-64dce3ebba04",
      "cell_type": "code",
      "source": "if \".\" in \"lamb.its\": \n    print(\"lamb.its\".replace(\".\", \" \"))\nelse:\n    print(\"no\")",
      "metadata": {
        "trusted": true
      },
      "outputs": [
        {
          "name": "stdout",
          "output_type": "stream",
          "text": "lamb its\n"
        }
      ],
      "execution_count": 145
    },
    {
      "id": "f8c1aa5e-bd2f-49c9-99f2-959643031d38",
      "cell_type": "code",
      "source": "def freq(string):\n    \n    #step1: A list variable is declared and initialized to an empty list.\n    words = []\n    \n    #step2: Break the string into list of words\n    words = string.split() # or string.lower().split()\n    \n    #step3: Declare a dictionary\n    Dict = {}\n    \n    #step4: Use for loop to iterate words and values to the dictionary\n    for key in words:\n        Dict[key] = words.count(key)\n        \n    #step5: Print the dictionary\n    print(\"The Frequency of words is:\",Dict)\n    \n#step6: Call function and pass string in it\nfreq(\"Mary had a little lamb Little lamb, little lamb Mary had a little lamb.Its fleece was white as snow And everywhere that Mary went Mary went, Mary went \\\nEverywhere that Mary went The lamb was sure to go\")",
      "metadata": {
        "trusted": true
      },
      "outputs": [
        {
          "name": "stdout",
          "output_type": "stream",
          "text": "The Frequency of words is: {'Mary': 6, 'had': 2, 'a': 2, 'little': 3, 'lamb': 3, 'Little': 1, 'lamb,': 1, 'lamb.Its': 1, 'fleece': 1, 'was': 2, 'white': 1, 'as': 1, 'snow': 1, 'And': 1, 'everywhere': 1, 'that': 2, 'went': 3, 'went,': 1, 'Everywhere': 1, 'The': 1, 'sure': 1, 'to': 1, 'go': 1}\n"
        }
      ],
      "execution_count": 178
    },
    {
      "id": "cde47e09-7284-4ce5-b4a1-4231448563ad",
      "cell_type": "code",
      "source": "def ratings (rating=4):\n    print(rating)\nratings()",
      "metadata": {
        "trusted": true
      },
      "outputs": [
        {
          "name": "stdout",
          "output_type": "stream",
          "text": "4\n"
        }
      ],
      "execution_count": 184
    },
    {
      "id": "d0c775bd-7264-4fca-87c9-3aea18caded1",
      "cell_type": "code",
      "source": "def movies (**names_and_sometimes_rating):\n    for key, value in names_and_sometimes_rating.items():\n        print(key, value)\n        \nmovies(Thegodfather=7)",
      "metadata": {
        "trusted": true
      },
      "outputs": [
        {
          "name": "stdout",
          "output_type": "stream",
          "text": "Thegodfather 7\n"
        }
      ],
      "execution_count": 198
    },
    {
      "id": "407f75fc-2de6-4586-a04c-ea90c0a7c3b1",
      "cell_type": "code",
      "source": "def con(a,b):\n    return (a+b)\ncon(\"hello\", \"world\")",
      "metadata": {
        "trusted": true
      },
      "outputs": [
        {
          "execution_count": 16,
          "output_type": "execute_result",
          "data": {
            "text/plain": "'helloworld'"
          },
          "metadata": {}
        }
      ],
      "execution_count": 19
    },
    {
      "id": "cc96b2ff-4721-4464-9767-109f64af50d0",
      "cell_type": "code",
      "source": "con",
      "metadata": {
        "trusted": true
      },
      "outputs": [
        {
          "execution_count": 21,
          "output_type": "execute_result",
          "data": {
            "text/plain": "[1, 2, 3, 4]"
          },
          "metadata": {}
        }
      ],
      "execution_count": 24
    },
    {
      "id": "6aa179ef-9a8f-468c-9e93-eb5104567eac",
      "cell_type": "code",
      "source": "",
      "metadata": {
        "trusted": true
      },
      "outputs": [],
      "execution_count": null
    }
  ]
}