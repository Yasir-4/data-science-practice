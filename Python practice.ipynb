{
  "metadata": {
    "kernelspec": {
      "name": "python",
      "display_name": "Python (Pyodide)",
      "language": "python"
    },
    "language_info": {
      "codemirror_mode": {
        "name": "python",
        "version": 3
      },
      "file_extension": ".py",
      "mimetype": "text/x-python",
      "name": "python",
      "nbconvert_exporter": "python",
      "pygments_lexer": "ipython3",
      "version": "3.8"
    }
  },
  "nbformat_minor": 5,
  "nbformat": 4,
  "cells": [
    {
      "id": "b2babdcd-4bef-4b26-b010-1fb6b78dc4a9",
      "cell_type": "code",
      "source": "import re\nimport math\nfrom decimal import Decimal, ROUND_DOWN\nimport matplotlib.pyplot as plt\n%matplotlib inline  ",
      "metadata": {
        "trusted": true,
        "tags": [],
        "editable": true,
        "slideshow": {
          "slide_type": ""
        }
      },
      "outputs": [
        {
          "name": "stderr",
          "output_type": "stream",
          "text": "Matplotlib is building the font cache; this may take a moment.\n"
        }
      ],
      "execution_count": 1
    },
    {
      "id": "c29a178e-d12c-4402-94a5-c0261e097246",
      "cell_type": "code",
      "source": "first_name = \"Yasir\"\nsecond_name = \"Abdullah\"\nlast_name = \"Binsaif\"\nprint(\"This is {} {} {}\".format(first_name, second_name, last_name))",
      "metadata": {
        "trusted": true
      },
      "outputs": [
        {
          "name": "stdout",
          "output_type": "stream",
          "text": "This is Yasir Abdullah Binsaif\n"
        }
      ],
      "execution_count": 7
    },
    {
      "id": "53fc06af-5baa-4f76-bbe2-487958c205d2",
      "cell_type": "code",
      "source": "for i, x in enumerate(first_name): \n    print(i, x)",
      "metadata": {
        "trusted": true
      },
      "outputs": [
        {
          "name": "stdout",
          "output_type": "stream",
          "text": "0 Y\n1 a\n2 s\n3 i\n4 r\n"
        }
      ],
      "execution_count": 21
    },
    {
      "id": "51448db0-b90c-441c-8cd2-3f8dc1bfffcb",
      "cell_type": "code",
      "source": "# name = \"This is my name: Yasir, and I want you to meet me in the garden\"\n# for i, x in enumerate(name):\n#     print(i,x)\n",
      "metadata": {
        "trusted": true
      },
      "outputs": [],
      "execution_count": 1
    },
    {
      "id": "a3eab0aa-65c5-464b-861c-732ede1c0511",
      "cell_type": "code",
      "source": "print(name[0:5:2])",
      "metadata": {
        "trusted": true
      },
      "outputs": [
        {
          "name": "stdout",
          "output_type": "stream",
          "text": "Ti \n"
        }
      ],
      "execution_count": 45
    },
    {
      "id": "765d886c-f7ce-45cb-a3b2-2e383b73326d",
      "cell_type": "code",
      "source": "print((name + \"\\t\")*3)",
      "metadata": {
        "trusted": true
      },
      "outputs": [
        {
          "name": "stdout",
          "output_type": "stream",
          "text": "This is my name: Yasir, and I want you to meet me in the garden\tThis is my name: Yasir, and I want you to meet me in the garden\tThis is my name: Yasir, and I want you to meet me in the garden\t\n"
        }
      ],
      "execution_count": 56
    },
    {
      "id": "c3d56a94-81fd-4210-b844-a81f4c5eaa13",
      "cell_type": "code",
      "source": "names = [\"yasir\", \"abdullah\", \"binsaif\"]\nfor i, x in enumerate(names):\n    corrected_name = x[0].upper() + x[1:]\n    names[i] = corrected_name\n\nprint(names)",
      "metadata": {
        "trusted": true
      },
      "outputs": [
        {
          "name": "stdout",
          "output_type": "stream",
          "text": "['Yasir', 'Abdullah', 'Binsaif']\n"
        }
      ],
      "execution_count": 12
    },
    {
      "id": "809233b0-a08e-4220-b15e-a8a7b2a61f5d",
      "cell_type": "code",
      "source": "sentence = \"my name is yasir\"\nprint(sentence.find(\"zft\"))",
      "metadata": {
        "trusted": true
      },
      "outputs": [
        {
          "name": "stdout",
          "output_type": "stream",
          "text": "-1\n"
        }
      ],
      "execution_count": 3
    },
    {
      "id": "4dd397ca-b051-4c61-bcb9-828db0dee34d",
      "cell_type": "code",
      "source": "name = \"The playmaker is good\"\nsplit_string = name.split()\nsplit_string",
      "metadata": {
        "trusted": true
      },
      "outputs": [
        {
          "execution_count": 9,
          "output_type": "execute_result",
          "data": {
            "text/plain": "['The', 'playmaker', 'is', 'good']"
          },
          "metadata": {}
        }
      ],
      "execution_count": 9
    },
    {
      "id": "53437860-bb08-44fa-8689-41771a774939",
      "cell_type": "code",
      "source": "arr = [\"ahmed\", \"faisal\", \"khaled\"]\n\nfor i, x in enumerate(arr):\n    arr[i] = x[0].upper() + x[1:]\n\nname = arr[0] +\" \"+ arr[1] +\" \"+ arr[2]",
      "metadata": {
        "trusted": true
      },
      "outputs": [
        {
          "name": "stdout",
          "output_type": "stream",
          "text": "Ahmed Faisal Khaled\n"
        }
      ],
      "execution_count": 11
    },
    {
      "id": "2978ed7d-5e52-482c-aadd-254b408b4193",
      "cell_type": "code",
      "source": "",
      "metadata": {
        "trusted": true
      },
      "outputs": [],
      "execution_count": null
    },
    {
      "id": "aeb339bc-6a0f-4229-908a-71b1f90247a7",
      "cell_type": "code",
      "source": "sentence = \"humans must explore the universe, humans are explorers by default\"\npattern = r\"humans\"\n\nresults = re.search(pattern, sentence)\nif results:\n    print(\"Match found\", results)\nelse:\n    print(\"Match not found\", results)",
      "metadata": {
        "trusted": true
      },
      "outputs": [
        {
          "name": "stdout",
          "output_type": "stream",
          "text": "Match found <re.Match object; span=(0, 6), match='humans'>\n"
        }
      ],
      "execution_count": 27
    },
    {
      "id": "531eb011-f7c5-4b29-8cf9-03b3020a8da2",
      "cell_type": "code",
      "source": "pattern = r\"\\D\\D\"\ntext = \"My Phone number is 1234567890\"\nmatch = re.search(pattern, text)\n\nif match: \n    print(\"match found\", match)\nelse:\n    print(\"match not found\")",
      "metadata": {
        "trusted": true
      },
      "outputs": [
        {
          "name": "stdout",
          "output_type": "stream",
          "text": "match found <re.Match object; span=(0, 2), match='My'>\n"
        }
      ],
      "execution_count": 34
    },
    {
      "id": "cd10388b-f788-49bd-a3e6-42f6ca482027",
      "cell_type": "code",
      "source": "pattern = r\"\\W\"\ntext = \"Hello, world!\"\nmatches = re.findall(pattern, text)\nprint(\"Matches:\", matches)",
      "metadata": {
        "trusted": true
      },
      "outputs": [
        {
          "name": "stdout",
          "output_type": "stream",
          "text": "Matches: [',', ' ', '!']\n"
        }
      ],
      "execution_count": 35
    },
    {
      "id": "82f89b5b-ee39-4c36-a74c-6ecfa42034fb",
      "cell_type": "code",
      "source": "s2 = \"I went to the park with my dog, and I found a new toy for my dog in the way back home.\"\nresults = re.findall(\"dog\", s2)\nprint(results)",
      "metadata": {
        "trusted": true
      },
      "outputs": [
        {
          "name": "stdout",
          "output_type": "stream",
          "text": "['dog', 'dog']\n"
        }
      ],
      "execution_count": 42
    },
    {
      "id": "4592cc5a-3b75-4756-b53b-93fcea81a6b6",
      "cell_type": "code",
      "source": "split_array = re.split(r\"\\s\", s2)\nprint(split_array)",
      "metadata": {
        "trusted": true
      },
      "outputs": [
        {
          "name": "stdout",
          "output_type": "stream",
          "text": "['I', 'went', 'to', 'the', 'park', 'with', 'my', 'dog,', 'and', 'I', 'found', 'a', 'new', 'toy', 'for', 'my', 'dog', 'in', 'the', 'way', 'back', 'home.']\n"
        }
      ],
      "execution_count": 44
    },
    {
      "id": "d9dbc4a5-361e-40d8-ab5b-ec0f54b8a4c7",
      "cell_type": "code",
      "source": "pattern = r\"dog\"\nreplacement = \"cat\"\nnew_string = re.sub(pattern, replacement, s2, flags = re.IGNORECASE)\nprint(new_string)",
      "metadata": {
        "trusted": true
      },
      "outputs": [
        {
          "name": "stdout",
          "output_type": "stream",
          "text": "I went to the park with my cat, and I found a new toy for my cat in the way back home.\n"
        }
      ],
      "execution_count": 46
    },
    {
      "id": "40c8a09e-8d04-4b3f-83fa-437c79674b20",
      "cell_type": "code",
      "source": "d = \"ABCDEFG\"\nd[:3]",
      "metadata": {
        "trusted": true
      },
      "outputs": [
        {
          "execution_count": 51,
          "output_type": "execute_result",
          "data": {
            "text/plain": "'ABC'"
          },
          "metadata": {}
        }
      ],
      "execution_count": 51
    },
    {
      "id": "27c84720-03e2-48b8-8aac-96ad80c5b9a7",
      "cell_type": "code",
      "source": "e = \"clocrkr1e1c1t\"\ne[::2]",
      "metadata": {
        "trusted": true
      },
      "outputs": [
        {
          "execution_count": 52,
          "output_type": "execute_result",
          "data": {
            "text/plain": "'correct'"
          },
          "metadata": {}
        }
      ],
      "execution_count": 52
    },
    {
      "id": "83af1073-f2f7-4c1f-9851-e0ec02bd3cba",
      "cell_type": "code",
      "source": "print(\"\\\\\")",
      "metadata": {
        "trusted": true
      },
      "outputs": [
        {
          "name": "stdout",
          "output_type": "stream",
          "text": "\\\n"
        }
      ],
      "execution_count": 59
    },
    {
      "id": "41eb075f-58d7-4461-8005-3a50b81d4f5b",
      "cell_type": "code",
      "source": "f = \"Hello world\"\nf.upper()",
      "metadata": {
        "trusted": true
      },
      "outputs": [
        {
          "execution_count": 2,
          "output_type": "execute_result",
          "data": {
            "text/plain": "'HELLO WORLD'"
          },
          "metadata": {}
        }
      ],
      "execution_count": 2
    },
    {
      "id": "f29d296a-8e4c-49b9-8c32-4c30d7ab9458",
      "cell_type": "code",
      "source": "g = \"Mary had a little lamb Little lamb, little lamb Mary had a little lamb \\\nIts fleece was white as snow And everywhere that Mary went Mary went, Mary went \\\nEverywhere that Mary went The lamb was sure to go\"\n",
      "metadata": {
        "trusted": true
      },
      "outputs": [],
      "execution_count": 68
    },
    {
      "id": "6ffa3395-d529-469b-b61f-c32d07e98a71",
      "cell_type": "code",
      "source": "str1 = \"The quick brown fox jumps over the lazy dog\"\nre.sub(\"fox\", \"bear\", str1)",
      "metadata": {
        "trusted": true
      },
      "outputs": [
        {
          "execution_count": 76,
          "output_type": "execute_result",
          "data": {
            "text/plain": "'The quick brown bear jumps over the lazy dog'"
          },
          "metadata": {}
        }
      ],
      "execution_count": 76
    },
    {
      "id": "1f3ad605-b136-48d7-b947-20fc95b849a8",
      "cell_type": "code",
      "source": "str2= \"How much wood would a woodchuck chuck, if a woodchuck could chuck wood?\"\nre.findall(\"woo\", str2)",
      "metadata": {
        "trusted": true
      },
      "outputs": [
        {
          "execution_count": 77,
          "output_type": "execute_result",
          "data": {
            "text/plain": "['woo', 'woo', 'woo', 'woo']"
          },
          "metadata": {}
        }
      ],
      "execution_count": 77
    },
    {
      "id": "8d53578f-cd07-44d1-bb40-e3a6981b3c6b",
      "cell_type": "code",
      "source": "print(\"AB\\nC\\nDE\")",
      "metadata": {
        "trusted": true
      },
      "outputs": [
        {
          "name": "stdout",
          "output_type": "stream",
          "text": "AB\nC\nDE\n"
        }
      ],
      "execution_count": 78
    },
    {
      "id": "e6c0f458-7ae6-4b75-a5bc-d5e5bd5440a4",
      "cell_type": "code",
      "source": "inventory = {\n        \"ProductNo1\" : \"Mobile Phone\",\n        \"ProductNo1_quantity\" :5,\n        \"ProductNo1_price\" : 20000,\n        \"ProductNo1_releaseYear\" : 2020\n}\nprint(inventory)",
      "metadata": {
        "trusted": true
      },
      "outputs": [
        {
          "name": "stdout",
          "output_type": "stream",
          "text": "{'ProductNo1': 'Mobile Phone', 'ProductNo1_quantity': 5, 'ProductNo1_price': 20000, 'ProductNo1_releaseYear': 2020}\n"
        }
      ],
      "execution_count": 32
    },
    {
      "id": "b0a5626a-ff3d-4560-9719-cf2609beaea5",
      "cell_type": "code",
      "source": "del(inventory[\"ProductNo1\"])",
      "metadata": {
        "trusted": true
      },
      "outputs": [],
      "execution_count": 33
    },
    {
      "id": "35428fc8-3a52-473e-ac8e-8621bb1886c6",
      "cell_type": "code",
      "source": "print(inventory)",
      "metadata": {
        "trusted": true
      },
      "outputs": [
        {
          "name": "stdout",
          "output_type": "stream",
          "text": "{'ProductNo1_quantity': 5, 'ProductNo1_price': 20000, 'ProductNo1_releaseYear': 2020}\n"
        }
      ],
      "execution_count": 34
    },
    {
      "id": "6e64ef2b-5d9e-436c-8ee6-68a872ef2311",
      "cell_type": "code",
      "source": "inventory.keys()\n",
      "metadata": {
        "trusted": true
      },
      "outputs": [
        {
          "execution_count": 39,
          "output_type": "execute_result",
          "data": {
            "text/plain": "dict_keys(['ProductNo1_quantity', 'ProductNo1_price', 'ProductNo1_releaseYear'])"
          },
          "metadata": {}
        }
      ],
      "execution_count": 39
    },
    {
      "id": "68fbc598-5deb-456f-92a0-76cd9dedd712",
      "cell_type": "code",
      "source": "A = {\n    \"a\": 1,\n    \"b\": 2\n}",
      "metadata": {
        "trusted": true
      },
      "outputs": [],
      "execution_count": 36
    },
    {
      "id": "ea73b830-8c8a-4af0-958d-5fae24ecf2cc",
      "cell_type": "code",
      "source": "print(A.keys())",
      "metadata": {
        "trusted": true
      },
      "outputs": [
        {
          "name": "stdout",
          "output_type": "stream",
          "text": "dict_keys(['a', 'b'])\n"
        }
      ],
      "execution_count": 38
    },
    {
      "id": "05a6cf30-6b98-4b73-afd6-5a993aac300f",
      "cell_type": "code",
      "source": "setA = {1,2,3,4,5}\nprint(list(setA))\nsetA.remove(1)\nprint(setA)",
      "metadata": {
        "trusted": true
      },
      "outputs": [
        {
          "name": "stdout",
          "output_type": "stream",
          "text": "[1, 2, 3, 4, 5]\n{2, 3, 4, 5}\n"
        }
      ],
      "execution_count": 50
    },
    {
      "id": "854a34c0-d87d-43bd-952e-1a4bc8054103",
      "cell_type": "code",
      "source": "list_of_names = [\"ahmed\",\"faisal\",\"yasir\",\"osama\",\"ibrahim\",\"yasir\"]\nprint(set(list_of_names))",
      "metadata": {
        "trusted": true
      },
      "outputs": [
        {
          "name": "stdout",
          "output_type": "stream",
          "text": "{'yasir', 'faisal', 'ahmed', 'ibrahim', 'osama'}\n"
        }
      ],
      "execution_count": 47
    },
    {
      "id": "de158145-89c6-4861-95a7-6afc3ce16b26",
      "cell_type": "code",
      "source": "setA = {11,25,11,23,42,24}\nsetB= {23,43,22,14,18}\nsetC = setA & setB \nprint(setC) \n",
      "metadata": {
        "trusted": true
      },
      "outputs": [
        {
          "name": "stdout",
          "output_type": "stream",
          "text": "{23}\n"
        }
      ],
      "execution_count": 51
    },
    {
      "id": "87f7e728-1333-4f8f-9a16-377421379f4a",
      "cell_type": "code",
      "source": "setA = {11,25,11,23,42,24}\nsetB= {23,43,22,14,18}\nsetC = setA.union(setB)\nprint(setC, len(setA), len(setB), len(setC), setA.issubset(setC)) \n",
      "metadata": {
        "trusted": true
      },
      "outputs": [
        {
          "name": "stdout",
          "output_type": "stream",
          "text": "{42, 11, 43, 14, 18, 22, 23, 24, 25} 5 5 9 True\n"
        }
      ],
      "execution_count": 58
    },
    {
      "id": "bc5aa953-8223-4a1f-8747-7f98eceb32a2",
      "cell_type": "code",
      "source": "A = set([\"Thriller\", \"Back in Black\", \"AC/DC\"])\nA",
      "metadata": {
        "trusted": true
      },
      "outputs": [
        {
          "execution_count": 59,
          "output_type": "execute_result",
          "data": {
            "text/plain": "{'AC/DC', 'Back in Black', 'Thriller'}"
          },
          "metadata": {}
        }
      ],
      "execution_count": 59
    },
    {
      "id": "89413959-f7bf-4573-ba02-bed3308b09a6",
      "cell_type": "code",
      "source": "A.add(\"NSYNC\")\nA",
      "metadata": {
        "trusted": true
      },
      "outputs": [
        {
          "execution_count": 61,
          "output_type": "execute_result",
          "data": {
            "text/plain": "{'AC/DC', 'Back in Black', 'NSYNC', 'Thriller'}"
          },
          "metadata": {}
        }
      ],
      "execution_count": 61
    },
    {
      "id": "bb394e0f-92c8-4f0b-8115-76fa8274d072",
      "cell_type": "code",
      "source": "A.remove(\"NSYNC\")\nA",
      "metadata": {
        "trusted": true
      },
      "outputs": [
        {
          "execution_count": 62,
          "output_type": "execute_result",
          "data": {
            "text/plain": "{'AC/DC', 'Back in Black', 'Thriller'}"
          },
          "metadata": {}
        }
      ],
      "execution_count": 62
    },
    {
      "id": "9923def0-c6c4-4f70-8400-10fe5111d96b",
      "cell_type": "code",
      "source": "\"AC/DC\" in A",
      "metadata": {
        "trusted": true
      },
      "outputs": [
        {
          "execution_count": 63,
          "output_type": "execute_result",
          "data": {
            "text/plain": "True"
          },
          "metadata": {}
        }
      ],
      "execution_count": 63
    },
    {
      "id": "ed24e039-44ab-40cf-a4ce-ac8de9b77b53",
      "cell_type": "code",
      "source": "album_set1 = set([\"Thriller\", 'AC/DC', 'Back in Black'])\nalbum_set2 = set([ \"AC/DC\", \"Back in Black\", \"The Dark Side of the Moon\"])\nintersection = album_set1 & album_set2\nunion = album_set1 | album_set2  ## we can also do album_set1.union(album_set2)\n# print(intersection)\n# print(album_set1.difference(album_set2))\n# print(album_set2.difference(album_set1))\n# print(album_set1.intersection(album_set2))\n# print(album_set1 | album_set2)\nset(album_set1).issuperset(album_set2)\nset(album_set2).issuperset(album_set1)\nalbum_set1.issubset(album_set2)",
      "metadata": {
        "trusted": true
      },
      "outputs": [
        {
          "execution_count": 75,
          "output_type": "execute_result",
          "data": {
            "text/plain": "False"
          },
          "metadata": {}
        }
      ],
      "execution_count": 75
    },
    {
      "id": "4974c785-4a88-47a3-b84c-d1670457c1c7",
      "cell_type": "code",
      "source": "music_types= set(['rap','house','electronic music', 'rap'])\n",
      "metadata": {
        "trusted": true
      },
      "outputs": [
        {
          "name": "stdout",
          "output_type": "stream",
          "text": "{'rap', 'electronic music', 'house'}\n"
        }
      ],
      "execution_count": 77
    },
    {
      "id": "03500009-632e-4668-8859-9912f534c68c",
      "cell_type": "code",
      "source": "A = [1, 2, 2, 1]\nB = set([1, 2, 2, 1])\nsum(A) == sum(B) ",
      "metadata": {
        "trusted": true
      },
      "outputs": [
        {
          "execution_count": 80,
          "output_type": "execute_result",
          "data": {
            "text/plain": "False"
          },
          "metadata": {}
        }
      ],
      "execution_count": 80
    },
    {
      "id": "807c536f-1ec1-4ef0-b6f1-9f1313d7439a",
      "cell_type": "code",
      "source": "album_set1 = set([\"Thriller\", 'AC/DC', 'Back in Black'])\nalbum_set2 = set([ \"AC/DC\", \"Back in Black\", \"The Dark Side of the Moon\"])\nalbum_set3 = album_set1 | album_set2 \nprint(album_set3 ,len(album_set1), len(album_set2), len(album_set3))",
      "metadata": {
        "trusted": true
      },
      "outputs": [
        {
          "name": "stdout",
          "output_type": "stream",
          "text": "{'Back in Black', 'The Dark Side of the Moon', 'Thriller', 'AC/DC'} 3 3 4\n"
        }
      ],
      "execution_count": 83
    },
    {
      "id": "f39c7b9e-f5ae-467a-9722-2845d3a1970a",
      "cell_type": "code",
      "source": "album_set1.issubset(album_set3)",
      "metadata": {
        "trusted": true
      },
      "outputs": [
        {
          "execution_count": 85,
          "output_type": "execute_result",
          "data": {
            "text/plain": "True"
          },
          "metadata": {}
        }
      ],
      "execution_count": 85
    },
    {
      "id": "42a5815c-f6bf-4d18-8d14-2868ae01f7e7",
      "cell_type": "code",
      "source": "visitors = {'user123', 'user456'}\nvisitors.add('user789')\nvisitors",
      "metadata": {
        "trusted": true
      },
      "outputs": [
        {
          "execution_count": 3,
          "output_type": "execute_result",
          "data": {
            "text/plain": "{'user123', 'user456', 'user789'}"
          },
          "metadata": {}
        }
      ],
      "execution_count": 3
    },
    {
      "id": "1376a8e2-50cd-4885-a6f6-2e5d8d1a9203",
      "cell_type": "code",
      "source": "a = 5\nb = 7\na == b",
      "metadata": {
        "trusted": true
      },
      "outputs": [
        {
          "execution_count": 4,
          "output_type": "execute_result",
          "data": {
            "text/plain": "False"
          },
          "metadata": {}
        }
      ],
      "execution_count": 4
    },
    {
      "id": "9a6f2b1d-2de5-47c3-baaa-d3847ea1a4bc",
      "cell_type": "code",
      "source": "i = 6\ni >= 5",
      "metadata": {
        "trusted": true
      },
      "outputs": [
        {
          "execution_count": 8,
          "output_type": "execute_result",
          "data": {
            "text/plain": "True"
          },
          "metadata": {}
        }
      ],
      "execution_count": 8
    },
    {
      "id": "f3ad733f-4687-4863-ba8c-a8736a7271a6",
      "cell_type": "code",
      "source": "i!=5",
      "metadata": {
        "trusted": true
      },
      "outputs": [
        {
          "execution_count": 14,
          "output_type": "execute_result",
          "data": {
            "text/plain": "True"
          },
          "metadata": {}
        }
      ],
      "execution_count": 14
    },
    {
      "id": "48a604f5-175a-4bb5-8b56-24a1e5b6d96b",
      "cell_type": "code",
      "source": "name = \"ahmed\"\nif name == \"yasir\":\n    print(\"Correct!\")\nelif name == \"ahmed\":\n    print(\"Maybe!\")\nelse: \n    print(\"Wrong!\")",
      "metadata": {
        "trusted": true
      },
      "outputs": [
        {
          "name": "stdout",
          "output_type": "stream",
          "text": "Maybe!\n"
        }
      ],
      "execution_count": 16
    },
    {
      "id": "afbfbba3-6c06-4679-b2c6-3b3a1ccf1297",
      "cell_type": "code",
      "source": "not(True)\nnot(False)",
      "metadata": {
        "trusted": true
      },
      "outputs": [
        {
          "execution_count": 18,
          "output_type": "execute_result",
          "data": {
            "text/plain": "True"
          },
          "metadata": {}
        }
      ],
      "execution_count": 18
    },
    {
      "id": "a547d9e9-08e7-44a5-9969-e503ace426ea",
      "cell_type": "code",
      "source": "False or False ",
      "metadata": {
        "trusted": true
      },
      "outputs": [
        {
          "execution_count": 19,
          "output_type": "execute_result",
          "data": {
            "text/plain": "False"
          },
          "metadata": {}
        }
      ],
      "execution_count": 19
    },
    {
      "id": "9acde8db-add9-4507-87a5-0e25b29871ba",
      "cell_type": "code",
      "source": "False or True ",
      "metadata": {
        "trusted": true
      },
      "outputs": [
        {
          "execution_count": 20,
          "output_type": "execute_result",
          "data": {
            "text/plain": "True"
          },
          "metadata": {}
        }
      ],
      "execution_count": 20
    },
    {
      "id": "7c039674-30de-4bf8-9e24-b5c8f56a8364",
      "cell_type": "code",
      "source": "album_year = 1990\nif (album_year < 1980) or (album_year > 1989):\n    print(\"The Album was made in the 70's or 90's\")\nelse:\n    print(\"The Album was made in the 1980's\")",
      "metadata": {
        "trusted": true
      },
      "outputs": [
        {
          "name": "stdout",
          "output_type": "stream",
          "text": "The Album was made in the 70's or 90's\n"
        }
      ],
      "execution_count": 32
    },
    {
      "id": "e24c6875-1407-428d-aced-6561c353e8dc",
      "cell_type": "code",
      "source": "skills = [\"football\", \"basketball\"]\nif \"football\" in skills and \"basketball\" in skills:\n    print(\"Good job!\")\nelse: \n    print(\"Try again!\")",
      "metadata": {
        "trusted": true
      },
      "outputs": [
        {
          "name": "stdout",
          "output_type": "stream",
          "text": "Good job!\n"
        }
      ],
      "execution_count": 33
    },
    {
      "id": "2cfea95a-5aa3-436c-b0aa-41f469b6873c",
      "cell_type": "code",
      "source": "skills = [\"football\", \"tennis\"]\nif \"football\" in skills and \"basketball\" in skills:\n    print(\"Good job!\")\nelse: \n    print(\"Try again!\")",
      "metadata": {
        "trusted": true
      },
      "outputs": [
        {
          "name": "stdout",
          "output_type": "stream",
          "text": "Try again!\n"
        }
      ],
      "execution_count": 34
    },
    {
      "id": "15eee8fa-fbf0-40b2-9d46-6b388ddd2ae0",
      "cell_type": "code",
      "source": "sales = [\n    {\"product\": \"Apple\", \"price\": 1.2, \"quantity\": 10},\n    {\"product\": \"Banana\", \"price\": 0.8, \"quantity\": 25},\n    {\"product\": \"Orange\", \"price\": 1.5, \"quantity\": 8},\n    {\"product\": \"Mango\", \"price\": 2.0, \"quantity\": 5},\n    {\"product\": \"Apple\", \"price\": 1.2, \"quantity\": 15},\n    {\"product\": \"Banana\", \"price\": 0.8, \"quantity\": 30}\n]\n\ndef analyze_data (data):\n    \n    total_revenue = 0\n    quantity_dict = {}\n    revenue_dict = {}\n    prices_dict = {}\n\n    for row in data: \n        product, price, quantity = row[\"product\"], row[\"price\"], row[\"quantity\"]\n\n        total_revenue += price * quantity\n\n        quantity_dict[product] = quantity_dict.get(product,0) + quantity\n\n        revenue_dict[product] = revenue_dict.get(product,0) + price * quantity\n\n        prices_dict.setdefault(product, price)\n\n    most_popular = max(quantity_dict, key=quantity_dict.get)\n\n    average_price = sum(prices_dict.values())/len(prices_dict)\n\n    top_revenue = max(revenue_dict, key=revenue_dict.get)\n\n\n    return {\n        \"quantities\": quantity_dict,\n        \"revenues\": revenue_dict, \n        \"prices\": prices_dict,\n        \"most_popular_product\": most_popular,\n        \"average_price\": average_price, \n        \"top_revenue_product\": top_revenue\n    }\nanalyze_data(sales)",
      "metadata": {
        "trusted": true
      },
      "outputs": [
        {
          "execution_count": 107,
          "output_type": "execute_result",
          "data": {
            "text/plain": "{'quantities': {'Apple': 25, 'Banana': 55, 'Orange': 8, 'Mango': 5},\n 'revenues': {'Apple': 30.0, 'Banana': 44.0, 'Orange': 12.0, 'Mango': 10.0},\n 'prices': {'Apple': 1.2, 'Banana': 0.8, 'Orange': 1.5, 'Mango': 2.0},\n 'most_popular_product': 'Banana',\n 'average_price': 1.375,\n 'top_revenue_product': 'Banana'}"
          },
          "metadata": {}
        }
      ],
      "execution_count": 107
    },
    {
      "id": "47d6d6c8-44bc-4247-bb82-183738e09c1c",
      "cell_type": "code",
      "source": "# movies = [\n#     {\"title\": \"Inception\", \"genre\": \"Sci-Fi\", \"rating\": 8.8, \"votes\": 1200},\n#     {\"title\": \"The Matrix\", \"genre\": \"Sci-Fi\", \"rating\": 8.7, \"votes\": 950},\n#     {\"title\": \"Interstellar\", \"genre\": \"Sci-Fi\", \"rating\": 8.6, \"votes\": 1000},\n#     {\"title\": \"The Godfather\", \"genre\": \"Crime\", \"rating\": 9.2, \"votes\": 1500},\n#     {\"title\": \"The Dark Knight\", \"genre\": \"Action\", \"rating\": 9.0, \"votes\": 2000},\n#     {\"title\": \"Pulp Fiction\", \"genre\": \"Crime\", \"rating\": 8.9, \"votes\": 1100},\n# ]\n\n# def analyze_movie (data):\n\n#     ratings = []\n#     votes_dict = {}\n#     movies_per_genre = {}\n#     weighted_ratings_dict = {}\n#     top_rated_movies = {}\n    \n#     for row in data: \n#         title, genre, rating, votes = row[\"title\"], row[\"genre\"], row[\"rating\"], row[\"votes\"]\n#     # add the name of the movie and his rating \n#         ratings.append(rating)\n#     # add movie name and votes\n#         votes_dict[title] = votes_dict.get(title, 0) + votes\n#     # add movies and genre\n#         movies_per_genre[genre] = movies_per_genre.get(genre, 0) + 1\n#     # find highest rated per genre\n    \n#         if genre not in top_rated_movies:\n#               top_rated_movies[genre] = row\n             \n#         else:\n#                   top_rated_movies[genre] = row\n                  \n        \n#     # find the highest weighted rating movie\n#         weighted_ratings_dict[title] = weighted_ratings_dict.get(title, 0) + rating * votes\n#     # find the average rating\n#     average_rating = sum(ratings)/len(ratings)\n  \n#     # find the most voted movie\n#     most_voted_movie = max(votes_dict, key=votes_dict.get)\n#     highest_weighted_movie = max(weighted_ratings_dict, key=weighted_ratings_dict.get)\n#     top_titles = {g: m[\"title\"] for g, m in top_rated_movies.items()}\n    \n    \n#     return {\n#         \"average_rating\": float(average_rating),\n#         \"most_voted_movie\": most_voted_movie,\n#         \"movies_per_genre\": movies_per_genre, \n#         \"highest_weighted_movie\": highest_weighted_movie,\n#          \"top_rated_title\": top_titles,\n#     }\n    \n# analyze_movie(movies)",
      "metadata": {
        "trusted": true
      },
      "outputs": [],
      "execution_count": 374
    },
    {
      "id": "ac47f5f5-41d8-4f9e-9350-2a66f2ed5728",
      "cell_type": "code",
      "source": "",
      "metadata": {
        "trusted": true
      },
      "outputs": [],
      "execution_count": null
    },
    {
      "id": "b4453786-7538-4b12-a630-9e9f55a988a2",
      "cell_type": "code",
      "source": "",
      "metadata": {
        "trusted": true
      },
      "outputs": [],
      "execution_count": null
    },
    {
      "id": "7f245cd1-c1ce-43f3-83e3-b3d75dd306b2",
      "cell_type": "code",
      "source": "",
      "metadata": {
        "trusted": true
      },
      "outputs": [],
      "execution_count": null
    },
    {
      "id": "e19e4833-c26c-4d9d-8b8e-6086f6110759",
      "cell_type": "code",
      "source": "",
      "metadata": {
        "trusted": true
      },
      "outputs": [],
      "execution_count": null
    },
    {
      "id": "c92a483b-18f7-462e-9499-68cfb65d5e3d",
      "cell_type": "code",
      "source": "",
      "metadata": {
        "trusted": true
      },
      "outputs": [],
      "execution_count": null
    },
    {
      "id": "f8b8a6b4-7dec-406a-b2e7-6228a16de078",
      "cell_type": "code",
      "source": "",
      "metadata": {
        "trusted": true
      },
      "outputs": [],
      "execution_count": null
    },
    {
      "id": "c180b479-3e07-4361-bafa-e1978b34b4f9",
      "cell_type": "code",
      "source": "movies = [\n    {\"title\": \"Inception\", \"genre\": \"Sci-Fi\", \"rating\": 8.8, \"votes\": 1200},\n    {\"title\": \"The Matrix\", \"genre\": \"Sci-Fi\", \"rating\": 8.7, \"votes\": 950},\n    {\"title\": \"Interstellar\", \"genre\": \"Sci-Fi\", \"rating\": 8.6, \"votes\": 1000},\n    {\"title\": \"The Godfather\", \"genre\": \"Crime\", \"rating\": 9.2, \"votes\": 1500},\n    {\"title\": \"The Dark Knight\", \"genre\": \"Action\", \"rating\": 9.0, \"votes\": 2000},\n    {\"title\": \"Pulp Fiction\", \"genre\": \"Crime\", \"rating\": 8.9, \"votes\": 1100},\n]\ndef analyze_movies (data): \n    ratings = []\n    votes_dict = {}\n    movies_by_genre = {}\n    highest_rated_movies = {}\n    highest_weighted_movies = {}\n\n    for row in data:\n        # Assign the data \n        title, genre, rating, votes = row[\"title\"], row[\"genre\"], row[\"rating\"], row[\"votes\"]\n        # add ratings to ratings list \n        ratings.append(rating)\n        # find the movie with the most amount of votes \n        votes_dict[title] = votes\n        # count movies per genre\n        movies_by_genre[genre]= movies_by_genre.get(genre, 0) + 1\n        # find highest rated per genre \n        if genre not in highest_rated_movies:\n            highest_rated_movies[genre] = row\n        else: \n            if rating > highest_rated_movies[genre][\"rating\"]:\n                highest_rated_movies = row\n\n        # add weighted ratings to the dict\n        highest_weighted_movies[title] = rating * votes\n    # average rating\n    average_rating = sum(ratings)/len(ratings)\n    # most voted movie\n    most_voted_movie = max(votes_dict, key=votes_dict.get)\n    # highest weighted movie \n    highest_weighted_movie = max(highest_weighted_movies, key=highest_weighted_movies.get)\n    # highest rated movie dict cleaner\n    highest_rated_movies = {genre: title[\"title\"] for genre, title in highest_rated_movies.items()}\n\n    return {\n        \"average_rating\": average_rating,\n        \"most_voted_movie\": most_voted_movie,\n        \"movies_per_genre\": movies_by_genre,\n        \"highest_rated_movies\": highest_rated_movies,\n        \"highest_weighted_movie\": highest_weighted_movie\n    }\n    \nanalyze_movies(movies)\n\n",
      "metadata": {
        "trusted": true
      },
      "outputs": [
        {
          "execution_count": 3,
          "output_type": "execute_result",
          "data": {
            "text/plain": "{'average_rating': 8.866666666666667,\n 'most_voted_movie': 'The Dark Knight',\n 'movies_per_genre': {'Sci-Fi': 3, 'Crime': 2, 'Action': 1},\n 'highest_rated_movies': {'Sci-Fi': 'Inception',\n  'Crime': 'The Godfather',\n  'Action': 'The Dark Knight'},\n 'highest_weighted_movie': 'The Dark Knight'}"
          },
          "metadata": {}
        }
      ],
      "execution_count": 3
    },
    {
      "id": "4574cf89-26fb-4c19-b9eb-1e2ba139c58e",
      "cell_type": "code",
      "source": "# movies = [\n#     {\"title\": \"Inception\", \"genre\": \"Sci-Fi\", \"rating\": 8.8, \"votes\": 1200},\n#     {\"title\": \"The Matrix\", \"genre\": \"Sci-Fi\", \"rating\": 8.7, \"votes\": 900},\n#     {\"title\": \"The Godfather\", \"genre\": \"Crime\", \"rating\": 9.2, \"votes\": 1500},\n#     {\"title\": \"The Dark Knight\", \"genre\": \"Action\", \"rating\": 9.0, \"votes\": 2000},\n#     {\"title\": \"Pulp Fiction\", \"genre\": \"Crime\", \"rating\": 8.9, \"votes\": 1700},\n#     {\"title\": \"Avengers: Endgame\", \"genre\": \"Action\", \"rating\": 8.4, \"votes\": 2200}\n# ]\n\n# def analyze_movies (data):\n#     most_voted_movie_per_genre = {}\n\n#     for row in data: \n#         title, genre, rating, votes = row[\"title\"], row[\"genre\"], row[\"rating\"], row[\"votes\"]\n#         # populate most_voted_movie_per_genre\n#         if genre not in most_voted_movie_per_genre:\n#             most_voted_movie_per_genre[genre] = row\n#         else:\n#             if votes > most_voted_movie_per_genre[genre][\"votes\"]:\n#                 most_voted_movie_per_genre[genre] = row\n\n#     # clean most_voted_movie_per_genre\n#     most_voted_movie_per_genre = {genre: {\"title\": old_dict[\"title\"], \"votes\": old_dict[\"votes\"]} for genre, old_dict in most_voted_movie_per_genre.items()}\n\n#     return most_voted_movie_per_genre\n# analyze_movies(movies)",
      "metadata": {
        "trusted": true
      },
      "outputs": [
        {
          "execution_count": 68,
          "output_type": "execute_result",
          "data": {
            "text/plain": "{'Sci-Fi': {'title': 'Inception', 'votes': 1200},\n 'Crime': {'title': 'Pulp Fiction', 'votes': 1700},\n 'Action': {'title': 'Avengers: Endgame', 'votes': 2200}}"
          },
          "metadata": {}
        }
      ],
      "execution_count": 68
    },
    {
      "id": "d1b6ab67-6977-43f0-af69-3ed941e30655",
      "cell_type": "code",
      "source": "squares = [\"orange\", \"orange\", \"purple\", \"orange\", \"blue\"]\nnew_squares = []\ni = 0 \nwhile squares[i] == \"orange\":\n    new_squares.append(squares[i])\n    i = i + 1\n\nprint(new_squares)",
      "metadata": {
        "trusted": true
      },
      "outputs": [
        {
          "name": "stdout",
          "output_type": "stream",
          "text": "['orange', 'orange']\n"
        }
      ],
      "execution_count": 95
    },
    {
      "id": "260d47b1-e2b0-4f76-ba2b-06ec22220020",
      "cell_type": "code",
      "source": "for number in range(11):\n    print(number)\n\n# for number in range(1,11):\n #   print(number)",
      "metadata": {
        "trusted": true
      },
      "outputs": [
        {
          "name": "stdout",
          "output_type": "stream",
          "text": "0\n1\n2\n3\n4\n5\n6\n7\n8\n9\n10\n"
        }
      ],
      "execution_count": 102
    },
    {
      "id": "87c2301c-4743-4bf7-9cdc-1cd4c7faf922",
      "cell_type": "code",
      "source": "count = 1\nwhile count < 10:\n    print(count)\n    count+=1\n\n",
      "metadata": {
        "trusted": true
      },
      "outputs": [
        {
          "name": "stdout",
          "output_type": "stream",
          "text": "1\n2\n3\n4\n5\n6\n7\n8\n9\n"
        }
      ],
      "execution_count": 104
    },
    {
      "id": "74cce97c-64b4-4c0f-a188-6e4f43a5d0a6",
      "cell_type": "code",
      "source": "squares = ['red', 'yellow', 'green', 'purple', 'blue']\n\nfor i in range(0, 5):\n    print(\"Before square \", i, 'is',  squares[i])\n    squares[i] = 'white'\n    print(\"After square \", i, 'is',  squares[i])",
      "metadata": {
        "trusted": true
      },
      "outputs": [
        {
          "name": "stdout",
          "output_type": "stream",
          "text": "Before square  0 is red\nAfter square  0 is white\nBefore square  1 is yellow\nAfter square  1 is white\nBefore square  2 is green\nAfter square  2 is white\nBefore square  3 is purple\nAfter square  3 is white\nBefore square  4 is blue\nAfter square  4 is white\n"
        }
      ],
      "execution_count": 105
    },
    {
      "id": "07ea5ca8-a6c1-4fec-ac3b-423e3cc26eb6",
      "cell_type": "code",
      "source": "",
      "metadata": {
        "trusted": true
      },
      "outputs": [
        {
          "name": "stdout",
          "output_type": "stream",
          "text": "['ahmed', 'faisal', 'osama']\n"
        }
      ],
      "execution_count": 78
    },
    {
      "id": "279b0bc3-191c-4e34-8c2b-a00f2ae8cd19",
      "cell_type": "code",
      "source": "squares=['red', 'yellow', 'green', 'purple', 'blue']\nfor square in squares:\n    print(square)",
      "metadata": {
        "trusted": true
      },
      "outputs": [
        {
          "name": "stdout",
          "output_type": "stream",
          "text": "red\nyellow\ngreen\npurple\nblue\n"
        }
      ],
      "execution_count": 114
    },
    {
      "id": "22b19735-962a-497e-a9ce-1de2f746bdc9",
      "cell_type": "code",
      "source": "squares = ['orange', 'orange', 'purple', 'blue ', 'orange']\nnew_squares = []\ni = 0 \nwhile i < len(squares) and squares[i] == \"orange\":\n    new_squares.append(\"orange\")\n    i+=1\nprint(new_squares)",
      "metadata": {
        "trusted": true
      },
      "outputs": [
        {
          "name": "stdout",
          "output_type": "stream",
          "text": "['orange', 'orange']\n"
        }
      ],
      "execution_count": 131
    },
    {
      "id": "fdcf6e5a-ca42-437d-bc0e-9bc69803ebb5",
      "cell_type": "code",
      "source": "def frequency_counter (string):\n    \n\n    words = string.split(\" \")\n    words_dict = {}\n    \n    for word in words:\n        print(word)\n\n\n\n\nfrequency_counter(\"Mary had a little lamb Little lamb, little lamb Mary had a little lamb.Its fleece was white as snow And everywhere that Mary went Mary went, Mary went \\\nEverywhere that Mary went The lamb was sure to go\")",
      "metadata": {
        "trusted": true
      },
      "outputs": [
        {
          "name": "stdout",
          "output_type": "stream",
          "text": "Mary\nhad\na\nlittle\nlamb\nLittle\nlamb,\nlittle\nlamb\nMary\nhad\na\nlittle\nlamb.Its\nfleece\nwas\nwhite\nas\nsnow\nAnd\neverywhere\nthat\nMary\nwent\nMary\nwent,\nMary\nwent\nEverywhere\nthat\nMary\nwent\nThe\nlamb\nwas\nsure\nto\ngo\n"
        }
      ],
      "execution_count": 153
    },
    {
      "id": "f508f094-66f5-4eb9-9f97-64dce3ebba04",
      "cell_type": "code",
      "source": "if \".\" in \"lamb.its\": \n    print(\"lamb.its\".replace(\".\", \" \"))\nelse:\n    print(\"no\")",
      "metadata": {
        "trusted": true
      },
      "outputs": [
        {
          "name": "stdout",
          "output_type": "stream",
          "text": "lamb its\n"
        }
      ],
      "execution_count": 145
    },
    {
      "id": "f8c1aa5e-bd2f-49c9-99f2-959643031d38",
      "cell_type": "code",
      "source": "def freq(string):\n    \n    #step1: A list variable is declared and initialized to an empty list.\n    words = []\n    \n    #step2: Break the string into list of words\n    words = string.split() # or string.lower().split()\n    \n    #step3: Declare a dictionary\n    Dict = {}\n    \n    #step4: Use for loop to iterate words and values to the dictionary\n    for key in words:\n        Dict[key] = words.count(key)\n        \n    #step5: Print the dictionary\n    print(\"The Frequency of words is:\",Dict)\n    \n#step6: Call function and pass string in it\nfreq(\"Mary had a little lamb Little lamb, little lamb Mary had a little lamb.Its fleece was white as snow And everywhere that Mary went Mary went, Mary went \\\nEverywhere that Mary went The lamb was sure to go\")",
      "metadata": {
        "trusted": true
      },
      "outputs": [
        {
          "name": "stdout",
          "output_type": "stream",
          "text": "The Frequency of words is: {'Mary': 6, 'had': 2, 'a': 2, 'little': 3, 'lamb': 3, 'Little': 1, 'lamb,': 1, 'lamb.Its': 1, 'fleece': 1, 'was': 2, 'white': 1, 'as': 1, 'snow': 1, 'And': 1, 'everywhere': 1, 'that': 2, 'went': 3, 'went,': 1, 'Everywhere': 1, 'The': 1, 'sure': 1, 'to': 1, 'go': 1}\n"
        }
      ],
      "execution_count": 178
    },
    {
      "id": "cde47e09-7284-4ce5-b4a1-4231448563ad",
      "cell_type": "code",
      "source": "def ratings (rating=4):\n    print(rating)\nratings()",
      "metadata": {
        "trusted": true
      },
      "outputs": [
        {
          "name": "stdout",
          "output_type": "stream",
          "text": "4\n"
        }
      ],
      "execution_count": 184
    },
    {
      "id": "d0c775bd-7264-4fca-87c9-3aea18caded1",
      "cell_type": "code",
      "source": "def movies (**names_and_sometimes_rating):\n    for key, value in names_and_sometimes_rating.items():\n        print(key, value)\n        \nmovies(Thegodfather=7)",
      "metadata": {
        "trusted": true
      },
      "outputs": [
        {
          "name": "stdout",
          "output_type": "stream",
          "text": "Thegodfather 7\n"
        }
      ],
      "execution_count": 198
    },
    {
      "id": "407f75fc-2de6-4586-a04c-ea90c0a7c3b1",
      "cell_type": "code",
      "source": "def con(a,b):\n    return (a+b)\ncon(\"hello\", \"world\")",
      "metadata": {
        "trusted": true
      },
      "outputs": [
        {
          "execution_count": 16,
          "output_type": "execute_result",
          "data": {
            "text/plain": "'helloworld'"
          },
          "metadata": {}
        }
      ],
      "execution_count": 19
    },
    {
      "id": "cc96b2ff-4721-4464-9767-109f64af50d0",
      "cell_type": "code",
      "source": "def count_little (string):\n    # convert to lower case then add to list\n    words = string.lower().split(\" \")\n    # add a counter \n    little_counter = 0\n    # loop over the created list\n    for word in words:\n        if word == \"little\":\n            # update the counter\n            little_counter += 1\n\n    print(little_counter)\n            \n        \ncount_little(\"Mary had a little lamb Little lamb, little lamb Mary had a little lamb.Its fleece was white as snow And everywhere that Mary went Mary went, Mary went Everywhere that Mary went The lamb was sure to go\")",
      "metadata": {
        "trusted": true
      },
      "outputs": [
        {
          "name": "stdout",
          "output_type": "stream",
          "text": "4\n"
        }
      ],
      "execution_count": 16
    },
    {
      "id": "6aa179ef-9a8f-468c-9e93-eb5104567eac",
      "cell_type": "code",
      "source": "# results = 10 / 0 \n# print(results)\n# # Raises ZeroDivisonError\n\n# num = int(\"abc\")\n# # Raises ValueError\n\n# with open(\"nonexistent_file.txt\", \"r\") as file:\n#         content = file.read() # Raises FileNotfoundError\n\n# my_list  = [1,2,3]\n# value = my_list[1] # No IndexError, within range\n# missing = my_list[5] # Raises IndexError\n\n# my_dict = {\"name\": \"alice\", \"age\": 30}\n# value = my_dict.get(\"city\") # No KeyError, using .get() method\n# missing = my_dict[\"city\"] # Raises KeyError\n\n# results = \"hello\" + 5 # Raises typeError\n\n# text = \"example\"\n# length = len(text) # No AttributeError, correct method usage\n# missing = text.some_method() # Raises AttributeError\n\n# using Try - except\ntry:\n    # Attempting to divide 10 by 0 \n    results = 10/0\n\nexcept ZeroDivisionError:\n    # Handling the ZeroDivisionError and printing an error message \n    print(\"Error: Cannot divide by zero\")\n# This line will be executed regardless of whether an exception occurred\nprint(\"outside of try and except block\")",
      "metadata": {
        "trusted": true
      },
      "outputs": [
        {
          "name": "stdout",
          "output_type": "stream",
          "text": "Error: Cannot divide by zero\noutside of try and except block\n"
        }
      ],
      "execution_count": 35
    },
    {
      "id": "d9ab4411-272a-4a6f-bf0a-59f823ee060a",
      "cell_type": "code",
      "source": "# try: \n#     1/0\n# except: \n#     print(\"You can't divide by zero\")\n# print(\"hello world\")",
      "metadata": {
        "trusted": true
      },
      "outputs": [],
      "execution_count": 11
    },
    {
      "id": "a70e4dda-18fc-4f85-ad09-68edfc9095e8",
      "cell_type": "code",
      "source": "# a = 1 \n\n# try: \n#     b = int(input(\"Please enter a number to divdie a\"))\n#     a = a/b\n#     print(\"Success a =\", a)\n# except: \n#     print(\"Pick another number\")",
      "metadata": {
        "trusted": true
      },
      "outputs": [],
      "execution_count": 12
    },
    {
      "id": "72286f04-dc56-41fb-94b3-9932649abf33",
      "cell_type": "code",
      "source": "# a = 1 \n# try: \n#     b = int(input(\"Please enter a number to divide a\"))\n#     a = a/b\n#     print(\"Success a =\", a)\n# except ZeroDivisionError:\n#     print(\"The number you provided can't divide 1 because it is 0\")\n# except ValueError:\n#     print(\"You did not provide a number\")\n# except: \n#     print(\"Something went wrong\")",
      "metadata": {
        "trusted": true
      },
      "outputs": [],
      "execution_count": 13
    },
    {
      "id": "93f56a51-b1fb-4521-a734-a420700702a5",
      "cell_type": "code",
      "source": "a = 1 \ntry: \n    b = int(input(\"Please enter a number to divide a\"))\n    a = a/b\nexcept ZeroDivisionError:\n    print(\"You can't divide by zero, please pick another number\")\nexcept ValueError:\n    print(\"Please pick a number\")\nexcept: \n    print(\"Something went wrong\")\nelse:\n    print(\"Success a = \", a)",
      "metadata": {
        "trusted": true
      },
      "outputs": [
        {
          "output_type": "stream",
          "name": "stdin",
          "text": "Please enter a number to divide a 2\n"
        },
        {
          "name": "stdout",
          "output_type": "stream",
          "text": "Success a =  0.5\n"
        }
      ],
      "execution_count": 10
    },
    {
      "id": "58447377-9beb-49fb-9d21-3da3a6b1b5bf",
      "cell_type": "code",
      "source": "def safe_divide (numerator, denominator):\n    try: \n        results = numerator/denominator\n        return f\"The results of the divison is {results}\"\n    except ZeroDivisionError:\n        return \"You can't pick zero as a denominator\"\n\n    \ntry:\n    user_numerator = int(input(\"Please enter the number that you want to use as a numerator\"))\n    user_denominator = int(input(\"Please enter the number that you want to use as a denominator \"))\n    print(safe_divide(user_numerator, user_denominator))\nexcept ValueError:\n    print(\"Please pick a number instead\")\n",
      "metadata": {
        "trusted": true
      },
      "outputs": [
        {
          "output_type": "stream",
          "name": "stdin",
          "text": "Please enter the number that you want to use as a numerator a\n"
        },
        {
          "name": "stdout",
          "output_type": "stream",
          "text": "Please pick a number instead\n"
        }
      ],
      "execution_count": 56
    },
    {
      "id": "285453fd-e559-46ca-8427-b1e75aab166b",
      "cell_type": "code",
      "source": "# def square_root (num):\n   \n#     return num ** 0.5\n\n    \n# square_root(49)\n    ",
      "metadata": {
        "trusted": true
      },
      "outputs": [
        {
          "execution_count": 62,
          "output_type": "execute_result",
          "data": {
            "text/plain": "7.0"
          },
          "metadata": {}
        }
      ],
      "execution_count": 62
    },
    {
      "id": "50c31eda-21d8-4960-b734-63ca68e4e293",
      "cell_type": "code",
      "source": "def square_root (num):\n    if num >= 0:\n        return math.sqrt(num)\n    else:\n        return \"You can't pick a negative number\"\n\ntry:\n    print(square_root(int(input(\"Please enter a number\"))))\nexcept ValueError:\n    print(\"That is not a number, please enter a number\")\n",
      "metadata": {
        "trusted": true
      },
      "outputs": [
        {
          "output_type": "stream",
          "name": "stdin",
          "text": "Please enter a number /\n"
        },
        {
          "name": "stdout",
          "output_type": "stream",
          "text": "That is not a number, please enter a number\n"
        }
      ],
      "execution_count": 75
    },
    {
      "id": "7c6a3d68-7845-4530-a0a6-378950826165",
      "cell_type": "code",
      "source": "def modify_number (num):\n    results = num/(num - 5) \n    return results\n    \ntry: \n    print(modify_number(float(input(\"Please enter a number\"))))\nexcept Exception as e:\n    print(\"An error occurred during calculation\", e)\n    ",
      "metadata": {
        "trusted": true
      },
      "outputs": [
        {
          "output_type": "stream",
          "name": "stdin",
          "text": "Please enter a number 10\n"
        },
        {
          "name": "stdout",
          "output_type": "stream",
          "text": "2.0\n"
        }
      ],
      "execution_count": 97
    },
    {
      "id": "9d034e54-1ba6-4cec-95d3-6aacc0378983",
      "cell_type": "code",
      "source": "# def complex_calculation (num):\n#     try: \n#         results = num / (num - 5)\n#         print(f\"Results: {results}\")\n#     except Exception as e:\n#         print(\"An error occured during calculation.\")\n\n# user_input = float(input(\"Enter a number: \"))\n# complex_calculation(user_input)",
      "metadata": {
        "trusted": true
      },
      "outputs": [
        {
          "output_type": "stream",
          "name": "stdin",
          "text": "Enter a number:  10\n"
        },
        {
          "name": "stdout",
          "output_type": "stream",
          "text": "Results: 2.0\n"
        }
      ],
      "execution_count": 95
    },
    {
      "id": "21e106dc-50ac-47b8-a107-ae15b48d78ed",
      "cell_type": "code",
      "source": "# class Circle (object):\n#     def __init__(self, radius, color= \"red\"):\n#         self.radius = radius \n#         self.color = color\n#     def add_radius (self, r):\n#         self.radius = self.radius + r \n# class Rectangle (object):\n#     def __init__(self, width, height):\n#         self.width = width\n#         self.height = height\n\n# RedCircle = Circle(10, \"red\")\n# RedCircle.color = \"blue\"\n# print(RedCircle.color)\n\n# RedCircle.add_radius(5)\n# RedCircle.radius\n\n",
      "metadata": {
        "trusted": true
      },
      "outputs": [
        {
          "name": "stdout",
          "output_type": "stream",
          "text": "blue\n"
        },
        {
          "execution_count": 13,
          "output_type": "execute_result",
          "data": {
            "text/plain": "15"
          },
          "metadata": {}
        }
      ],
      "execution_count": 13
    },
    {
      "id": "e54c997f-8936-4993-8ac0-b296f9e3ad98",
      "cell_type": "code",
      "source": "class Car (object):\n    # Class attribute (shared by all instances)\n    max_speed = 120 \n    # Constructor method (initialize instance attributes)\n    def __init__(self, make, model, color, speed=0):\n        self.make = make \n        self.model = model\n        self.color = color \n        self.speed = speed # initial speed is set to 0 \n\n    # Method for accelerating the car \n    def accelerate(self, acceleration):\n        if acceleration <= self.max_speed: \n            self.speed = acceleration\n        else: \n            self.speed = max_speed\n    # Method for finding the speed of the car \n    def get_speed(self):\n        return self.speed\n\nCamry = Car(\"Toyota\", \"Camry\", \"White\")\nprint(Camry.speed)\nCamry.accelerate(120)\nCamry.get_speed()",
      "metadata": {
        "trusted": true
      },
      "outputs": [
        {
          "name": "stdout",
          "output_type": "stream",
          "text": "0\n"
        },
        {
          "execution_count": 39,
          "output_type": "execute_result",
          "data": {
            "text/plain": "120"
          },
          "metadata": {}
        }
      ],
      "execution_count": 39
    },
    {
      "id": "b8edb3e3-d059-44ab-b7c7-eaa048cba091",
      "cell_type": "code",
      "source": "# Create a class Circle\nclass Circle:\n\n    # Constructor \n    def __init__ (self, radius=3, color= \"blue\"):\n        self.radius = radius\n        self.color = color\n    # Method\n    def add_radius (self, r):\n        self.radius = self.radius + r\n        return (self.radius)\n    # Method\n    def drawCircle (self):\n        plt.gca().add_patch(plt.Circle((0,0), radius=self.radius, fc=self.color))\n        plt.axis(\"scaled\")\n        plt.show()\n\nRedCircle = Circle(10, \"red\")\n# if you want to check the methods \n# dir(RedCircle)\n\nRedCircle.radius\nRedCircle.color\nRedCircle.radius = 12\nprint(RedCircle.radius)\n\nBlueCircle = Circle(radius = 100)\nBlueCircle.radius\nBlueCircle.color\nBlueCircle.drawCircle()\nRedCircle.drawCircle()\n",
      "metadata": {
        "trusted": true
      },
      "outputs": [
        {
          "name": "stdout",
          "output_type": "stream",
          "text": "12\n"
        },
        {
          "output_type": "display_data",
          "data": {
            "text/plain": "<Figure size 640x480 with 1 Axes>",
            "image/png": "[encoded data removed]"
          },
          "metadata": {}
        },
        {
          "output_type": "display_data",
          "data": {
            "text/plain": "<Figure size 640x480 with 1 Axes>",
            "image/png": "[encoded data removed]"
          },
          "metadata": {}
        }
      ],
      "execution_count": 30
    },
    {
      "id": "4e365527-747d-4a11-81a4-fc203b4fa094",
      "cell_type": "code",
      "source": "class Rectangle:\n\n    # constructor\n    def __init__(self, width=2, height=3, color=\"r\"):\n        self.width = width\n        self.height = height\n        self.color = color\n    # Method \n    def draw_rectangle (self):\n        plt.gca().add_patch(plt.Rectangle((0,0), self.width, self.height, fc=self.color))\n        plt.axis(\"scaled\")\n        plt.show()\n\ntall_blue_rectangle = Rectangle(2,3,\"blue\")\ntall_blue_rectangle.draw_rectangle()\n\nwide_yellow_rectangle = Rectangle(20, 5, \"yellow\")\nwide_yellow_rectangle.draw_rectangle()",
      "metadata": {
        "trusted": true
      },
      "outputs": [
        {
          "output_type": "display_data",
          "data": {
            "text/plain": "<Figure size 640x480 with 1 Axes>",
            "image/png": "[encoded data removed]"
          },
          "metadata": {}
        },
        {
          "output_type": "display_data",
          "data": {
            "text/plain": "<Figure size 640x480 with 1 Axes>",
            "image/png": "[encoded data removed]"
          },
          "metadata": {}
        }
      ],
      "execution_count": 29
    },
    {
      "id": "0f4b6b6a-9f8d-4b4b-88b4-019ed68f19ba",
      "cell_type": "code",
      "source": "class Vehicles:\n    \n    def __init__(self, maximum_speed, mileage, color = \"white\"):\n        self.maximum_speed = maximum_speed\n        self.mileage = mileage\n        self.color = color\n\n    def seating_capacity (self, seating_capacity):\n        self.seating_capacity = seating_capacity\n\n    def show_attributes (self):\n        return {\n            \"color\": self.color,\n            \"maximum_speed\": self.maximum_speed,\n            \"mileage\": self.mileage,\n            \"seating_capacity\": self.seating_capacity\n        }\n        \n\ncamry = Vehicles(120, 10, \"red\")\ncamry.color\ncamry.seating_capacity(4)\ncamry.seating_capacity\ncamry.show_attributes()\n\ncrown_victoria = Vehicles(200, 20)\ncrown_victoria.seating_capacity(5)\n\nhummer_h1 = Vehicles(180, 25)\nhummer_h1.seating_capacity(4)\n\nprint(hummer_h1.show_attributes(), crown_victoria.show_attributes())\n",
      "metadata": {
        "trusted": true
      },
      "outputs": [
        {
          "name": "stdout",
          "output_type": "stream",
          "text": "{'color': 'white', 'maximum_speed': 180, 'mileage': 25, 'seating_capacity': 4} {'color': 'white', 'maximum_speed': 200, 'mileage': 20, 'seating_capacity': 5}\n"
        }
      ],
      "execution_count": 28
    },
    {
      "id": "e10ef1cb-3a90-40a3-b9e8-a34a8570e00c",
      "cell_type": "code",
      "source": "given_string = \"Lorem ipsum dolor! diam amet, consetetur Lorem magna. sed diam nonumy eirmod tempor. diam et labore? et diam magna. et diam amet.\"\n\n# Create a class called text analyzer\nclass TextAnalyzer:\n    # Define the construtor function \n    def __init__(self, text):\n        # Make text lower case \n        self.text = text.lower()\n        # Remove commas, periods, exclamation marks, question marks\n        self.formatted_text = self.text.replace(\"!\", \"\").replace(\".\", \"\").replace(\",\", \"\").replace(\"?\", \"\")\n        # Create a method to add the words to a dict with the word as key and the count as value\n    def word_counter (self):\n        # Make a list of all words\n        word_list = self.formatted_text.split(\" \")\n        # Make an empty dictionary to track words and their count\n        word_counter_dict = {}\n        \n        for word in word_list:\n        # Add the word as a key in the dictionary and the value will be the counter\n            word_counter_dict[word] = word_counter_dict.get(word, 0) + 1\n        \n        return word_counter_dict\n        # Create a method to look for a word and |return the number of times it was mentioned\n    def frequency_of_word (self,word):\n        # import the dict of words \n        dict_of_words = self.word_counter()\n        frequency_of_word = dict_of_words.get(word, 0)\n        return frequency_of_word\n        \nreview = TextAnalyzer(\"Hello. ?wor?ld! wow name yasir, wwhat maybe, ! sky,, hello word word wordd hello\")        \ntest_2 = TextAnalyzer(given_string)\nprint(test_2.word_counter())\ntest_2.frequency_of_word(\"diam\")",
      "metadata": {
        "trusted": true
      },
      "outputs": [
        {
          "name": "stdout",
          "output_type": "stream",
          "text": "{'lorem': 2, 'ipsum': 1, 'dolor': 1, 'diam': 5, 'amet': 2, 'consetetur': 1, 'magna': 2, 'sed': 1, 'nonumy': 1, 'eirmod': 1, 'tempor': 1, 'et': 3, 'labore': 1}\n"
        },
        {
          "execution_count": 5,
          "output_type": "execute_result",
          "data": {
            "text/plain": "5"
          },
          "metadata": {}
        }
      ],
      "execution_count": 5
    },
    {
      "id": "35f768b0-266e-4c31-93e7-ea90c749b9ab",
      "cell_type": "code",
      "source": "name = \"YASIR\"\nname.lower()",
      "metadata": {
        "trusted": true
      },
      "outputs": [
        {
          "execution_count": 34,
          "output_type": "execute_result",
          "data": {
            "text/plain": "'yasir'"
          },
          "metadata": {}
        }
      ],
      "execution_count": 34
    },
    {
      "id": "e9578715-6b7d-4c04-9a64-276b076f5fac",
      "cell_type": "code",
      "source": "# given_string = \"Lorem ipsum dolor! diam amet, consetetur Lorem magna. sed diam nonumy eirmod tempor. diam et labore? et diam magna. et diam amet.\"\n\n# class TextAnalyzer:\n    \n#     def __init__(self,text):\n#         self.text = text.lower()\n        \n#     def word_counter (self):\n#         # r to make it raw string, [] character class: match any single charcter that's inside the rackets, a-z: matches lowercase letters a through z, A-Z: match Uppercase letters A through Z\n#         # ^ at the beginning means not so [^a-zA-Z] means \"anything that is NOT a letter\"\n#         cleaned_text_list = re.sub(r\"[^a-zA-Z]\", \" \", self.text).split()\n#         words_dict = {}\n\n#         for word in cleaned_text_list:\n#             # add the key and values + start counting \n#             words_dict[word] = words_dict.get(word, 0) + 1\n            \n#         return words_dict\n\n#     def word_count_finder (self, word):\n#         # Clean the coming word \n#         cleaned_word = re.sub(r\"[^a-zA-Z]\", \"\", word).lower()\n#         # Get the dict of words from the word_counter\n#         frequency_of_word_dict = self.word_counter()\n#         # find how many times the word was mentioned \n#         frequency_of_word = frequency_of_word_dict.get(cleaned_word,0)\n#         return frequency_of_word\n\n        \n# text_1 = TextAnalyzer(given_string)\n# text_1.word_counter()\n# text_1.word_count_finder(\"d3iam__\")\n# text_1.word_count_finder(\"aysir\")",
      "metadata": {
        "trusted": true
      },
      "outputs": [
        {
          "execution_count": 61,
          "output_type": "execute_result",
          "data": {
            "text/plain": "0"
          },
          "metadata": {}
        }
      ],
      "execution_count": 61
    },
    {
      "id": "1f4615a4-4661-4bec-a5d6-b058f09d1324",
      "cell_type": "code",
      "source": "given_string = \"Lorem ipsum dolor! diam amet, consetetur Lorem magna. sed diam nonumy eirmod tempor. diam et labore? et diam magna. et diam amet.\"\n\nclass TextAnalyzer:\n\n    def __init__(self, text):\n        self.text = text.lower()\n\n\n    def word_counter (self):\n        cleaned_text_list = re.sub(r\"[^a-zA-Z]\", \" \", self.text).split()\n        word_count_dict = {}\n\n        for word in cleaned_text_list:\n            word_count_dict[word] = word_count_dict.get(word, 0) + 1\n        return word_count_dict\n\n    def word_frequency (self, word):\n        cleaned_word = re.sub(r\"[^a-zA-Z]\", \"\", word.lower())\n        frequency_of_word = self.word_counter().get(cleaned_word, 0)\n\n        return frequency_of_word\n        \ntest_2 = TextAnalyzer(given_string)\nprint(test_2.word_counter())\ntest_2.word_frequency(\"d**ia3m\")",
      "metadata": {
        "trusted": true
      },
      "outputs": [
        {
          "name": "stdout",
          "output_type": "stream",
          "text": "{'lorem': 2, 'ipsum': 1, 'dolor': 1, 'diam': 5, 'amet': 2, 'consetetur': 1, 'magna': 2, 'sed': 1, 'nonumy': 1, 'eirmod': 1, 'tempor': 1, 'et': 3, 'labore': 1}\n"
        },
        {
          "execution_count": 76,
          "output_type": "execute_result",
          "data": {
            "text/plain": "5"
          },
          "metadata": {}
        }
      ],
      "execution_count": 76
    },
    {
      "id": "de070a5c-e0f2-4202-85c9-cf875546d0f4",
      "cell_type": "code",
      "source": "age = 20 \n10 <= age <= 40",
      "metadata": {
        "trusted": true
      },
      "outputs": [
        {
          "execution_count": 77,
          "output_type": "execute_result",
          "data": {
            "text/plain": "True"
          },
          "metadata": {}
        }
      ],
      "execution_count": 77
    },
    {
      "id": "4ae9cad4-9826-41a1-a6df-347af009994a",
      "cell_type": "code",
      "source": "sum([1,2])",
      "metadata": {
        "trusted": true
      },
      "outputs": [
        {
          "execution_count": 79,
          "output_type": "execute_result",
          "data": {
            "text/plain": "3"
          },
          "metadata": {}
        }
      ],
      "execution_count": 79
    },
    {
      "id": "cd3f6842-f0ce-421e-8bc7-478ba7ac9f99",
      "cell_type": "code",
      "source": "from pyodide.http import pyfetch\n\nimport pandas as pd\n\nfilename = \"https://cf-courses-data.s3.us.cloud-object-storage.appdomain.cloud/IBMDeveloperSkillsNetwork-PY0101EN-SkillsNetwork/labs/Module%204/data/example1.txt\"\n\nasync def download(url, filename):\n\n    response = await pyfetch(url)\n\n    if response.status == 200:\n\n        with open(filename, \"wb\") as f:\n\n            f.write(await response.bytes())\n\nawait download(filename, \"example1.txt\")\n\nprint(\"done\")",
      "metadata": {
        "trusted": true
      },
      "outputs": [
        {
          "name": "stdout",
          "output_type": "stream",
          "text": "done\n"
        }
      ],
      "execution_count": 81
    },
    {
      "id": "1c18c198-f360-41eb-833b-09be8787e20d",
      "cell_type": "code",
      "source": "# example1 = \"example1.txt\"\n# example2 = \"example2.txt\"\n# lines = [\"this is line 1 \\n\", \"this is line 2 \\n\", \"this is line 3 \\n\"]\n\n# # # with open(example1, \"w\") as file1:\n# #     for line in lines:\n# #         file1.write(line)\n    \n# with open(example1, \"r\") as source_file:\n#     with open(example2, \"w\") as destination_file:\n#         for line in source_file:\n#             destination_file.write(line)",
      "metadata": {
        "trusted": true
      },
      "outputs": [],
      "execution_count": 2
    },
    {
      "id": "f8756c66-679e-4c3b-a160-3091cd0ae038",
      "cell_type": "code",
      "source": "",
      "metadata": {
        "trusted": true
      },
      "outputs": [],
      "execution_count": null
    },
    {
      "id": "1b245b1b-4bb7-4876-9ca9-14f32e91431c",
      "cell_type": "code",
      "source": "",
      "metadata": {
        "trusted": true
      },
      "outputs": [],
      "execution_count": null
    }
  ]
}