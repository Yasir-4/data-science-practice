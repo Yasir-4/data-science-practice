{
  "metadata": {
    "kernelspec": {
      "name": "python",
      "display_name": "Python (Pyodide)",
      "language": "python"
    },
    "language_info": {
      "codemirror_mode": {
        "name": "python",
        "version": 3
      },
      "file_extension": ".py",
      "mimetype": "text/x-python",
      "name": "python",
      "nbconvert_exporter": "python",
      "pygments_lexer": "ipython3",
      "version": "3.8"
    }
  },
  "nbformat_minor": 5,
  "nbformat": 4,
  "cells": [
    {
      "id": "b2babdcd-4bef-4b26-b010-1fb6b78dc4a9",
      "cell_type": "code",
      "source": "import re\nimport math\nimport pandas as pd\nimport numpy as np\nfrom decimal import Decimal, ROUND_DOWN\nimport matplotlib.pyplot as plt\n%matplotlib inline  \n",
      "metadata": {
        "trusted": true,
        "tags": [],
        "editable": true,
        "slideshow": {
          "slide_type": ""
        }
      },
      "outputs": [
        {
          "name": "stderr",
          "output_type": "stream",
          "text": "Matplotlib is building the font cache; this may take a moment.\n"
        }
      ],
      "execution_count": 1
    },
    {
      "id": "c29a178e-d12c-4402-94a5-c0261e097246",
      "cell_type": "code",
      "source": "first_name = \"Yasir\"\nsecond_name = \"Abdullah\"\nlast_name = \"Binsaif\"\nprint(\"This is {} {} {}\".format(first_name, second_name, last_name))",
      "metadata": {
        "trusted": true
      },
      "outputs": [
        {
          "name": "stdout",
          "output_type": "stream",
          "text": "This is Yasir Abdullah Binsaif\n"
        }
      ],
      "execution_count": 7
    },
    {
      "id": "53fc06af-5baa-4f76-bbe2-487958c205d2",
      "cell_type": "code",
      "source": "for i, x in enumerate(first_name): \n    print(i, x)",
      "metadata": {
        "trusted": true
      },
      "outputs": [
        {
          "name": "stdout",
          "output_type": "stream",
          "text": "0 Y\n1 a\n2 s\n3 i\n4 r\n"
        }
      ],
      "execution_count": 21
    },
    {
      "id": "51448db0-b90c-441c-8cd2-3f8dc1bfffcb",
      "cell_type": "code",
      "source": "# name = \"This is my name: Yasir, and I want you to meet me in the garden\"\n# for i, x in enumerate(name):\n#     print(i,x)\n",
      "metadata": {
        "trusted": true
      },
      "outputs": [],
      "execution_count": 1
    },
    {
      "id": "a3eab0aa-65c5-464b-861c-732ede1c0511",
      "cell_type": "code",
      "source": "print(name[0:5:2])",
      "metadata": {
        "trusted": true
      },
      "outputs": [
        {
          "name": "stdout",
          "output_type": "stream",
          "text": "Ti \n"
        }
      ],
      "execution_count": 45
    },
    {
      "id": "765d886c-f7ce-45cb-a3b2-2e383b73326d",
      "cell_type": "code",
      "source": "print((name + \"\\t\")*3)",
      "metadata": {
        "trusted": true
      },
      "outputs": [
        {
          "name": "stdout",
          "output_type": "stream",
          "text": "This is my name: Yasir, and I want you to meet me in the garden\tThis is my name: Yasir, and I want you to meet me in the garden\tThis is my name: Yasir, and I want you to meet me in the garden\t\n"
        }
      ],
      "execution_count": 56
    },
    {
      "id": "c3d56a94-81fd-4210-b844-a81f4c5eaa13",
      "cell_type": "code",
      "source": "names = [\"yasir\", \"abdullah\", \"binsaif\"]\nfor i, x in enumerate(names):\n    corrected_name = x[0].upper() + x[1:]\n    names[i] = corrected_name\n\nprint(names)",
      "metadata": {
        "trusted": true
      },
      "outputs": [
        {
          "name": "stdout",
          "output_type": "stream",
          "text": "['Yasir', 'Abdullah', 'Binsaif']\n"
        }
      ],
      "execution_count": 12
    },
    {
      "id": "809233b0-a08e-4220-b15e-a8a7b2a61f5d",
      "cell_type": "code",
      "source": "sentence = \"my name is yasir\"\nprint(sentence.find(\"zft\"))",
      "metadata": {
        "trusted": true
      },
      "outputs": [
        {
          "name": "stdout",
          "output_type": "stream",
          "text": "-1\n"
        }
      ],
      "execution_count": 3
    },
    {
      "id": "4dd397ca-b051-4c61-bcb9-828db0dee34d",
      "cell_type": "code",
      "source": "name = \"The playmaker is good\"\nsplit_string = name.split()\nsplit_string",
      "metadata": {
        "trusted": true
      },
      "outputs": [
        {
          "execution_count": 9,
          "output_type": "execute_result",
          "data": {
            "text/plain": "['The', 'playmaker', 'is', 'good']"
          },
          "metadata": {}
        }
      ],
      "execution_count": 9
    },
    {
      "id": "53437860-bb08-44fa-8689-41771a774939",
      "cell_type": "code",
      "source": "arr = [\"ahmed\", \"faisal\", \"khaled\"]\n\nfor i, x in enumerate(arr):\n    arr[i] = x[0].upper() + x[1:]\n\nname = arr[0] +\" \"+ arr[1] +\" \"+ arr[2]",
      "metadata": {
        "trusted": true
      },
      "outputs": [
        {
          "name": "stdout",
          "output_type": "stream",
          "text": "Ahmed Faisal Khaled\n"
        }
      ],
      "execution_count": 11
    },
    {
      "id": "2978ed7d-5e52-482c-aadd-254b408b4193",
      "cell_type": "code",
      "source": "",
      "metadata": {
        "trusted": true
      },
      "outputs": [],
      "execution_count": null
    },
    {
      "id": "aeb339bc-6a0f-4229-908a-71b1f90247a7",
      "cell_type": "code",
      "source": "sentence = \"humans must explore the universe, humans are explorers by default\"\npattern = r\"humans\"\n\nresults = re.search(pattern, sentence)\nif results:\n    print(\"Match found\", results)\nelse:\n    print(\"Match not found\", results)",
      "metadata": {
        "trusted": true
      },
      "outputs": [
        {
          "name": "stdout",
          "output_type": "stream",
          "text": "Match found <re.Match object; span=(0, 6), match='humans'>\n"
        }
      ],
      "execution_count": 27
    },
    {
      "id": "531eb011-f7c5-4b29-8cf9-03b3020a8da2",
      "cell_type": "code",
      "source": "pattern = r\"\\D\\D\"\ntext = \"My Phone number is 1234567890\"\nmatch = re.search(pattern, text)\n\nif match: \n    print(\"match found\", match)\nelse:\n    print(\"match not found\")",
      "metadata": {
        "trusted": true
      },
      "outputs": [
        {
          "name": "stdout",
          "output_type": "stream",
          "text": "match found <re.Match object; span=(0, 2), match='My'>\n"
        }
      ],
      "execution_count": 34
    },
    {
      "id": "cd10388b-f788-49bd-a3e6-42f6ca482027",
      "cell_type": "code",
      "source": "pattern = r\"\\W\"\ntext = \"Hello, world!\"\nmatches = re.findall(pattern, text)\nprint(\"Matches:\", matches)",
      "metadata": {
        "trusted": true
      },
      "outputs": [
        {
          "name": "stdout",
          "output_type": "stream",
          "text": "Matches: [',', ' ', '!']\n"
        }
      ],
      "execution_count": 35
    },
    {
      "id": "82f89b5b-ee39-4c36-a74c-6ecfa42034fb",
      "cell_type": "code",
      "source": "s2 = \"I went to the park with my dog, and I found a new toy for my dog in the way back home.\"\nresults = re.findall(\"dog\", s2)\nprint(results)",
      "metadata": {
        "trusted": true
      },
      "outputs": [
        {
          "name": "stdout",
          "output_type": "stream",
          "text": "['dog', 'dog']\n"
        }
      ],
      "execution_count": 42
    },
    {
      "id": "4592cc5a-3b75-4756-b53b-93fcea81a6b6",
      "cell_type": "code",
      "source": "split_array = re.split(r\"\\s\", s2)\nprint(split_array)",
      "metadata": {
        "trusted": true
      },
      "outputs": [
        {
          "name": "stdout",
          "output_type": "stream",
          "text": "['I', 'went', 'to', 'the', 'park', 'with', 'my', 'dog,', 'and', 'I', 'found', 'a', 'new', 'toy', 'for', 'my', 'dog', 'in', 'the', 'way', 'back', 'home.']\n"
        }
      ],
      "execution_count": 44
    },
    {
      "id": "d9dbc4a5-361e-40d8-ab5b-ec0f54b8a4c7",
      "cell_type": "code",
      "source": "pattern = r\"dog\"\nreplacement = \"cat\"\nnew_string = re.sub(pattern, replacement, s2, flags = re.IGNORECASE)\nprint(new_string)",
      "metadata": {
        "trusted": true
      },
      "outputs": [
        {
          "name": "stdout",
          "output_type": "stream",
          "text": "I went to the park with my cat, and I found a new toy for my cat in the way back home.\n"
        }
      ],
      "execution_count": 46
    },
    {
      "id": "40c8a09e-8d04-4b3f-83fa-437c79674b20",
      "cell_type": "code",
      "source": "d = \"ABCDEFG\"\nd[:3]",
      "metadata": {
        "trusted": true
      },
      "outputs": [
        {
          "execution_count": 51,
          "output_type": "execute_result",
          "data": {
            "text/plain": "'ABC'"
          },
          "metadata": {}
        }
      ],
      "execution_count": 51
    },
    {
      "id": "27c84720-03e2-48b8-8aac-96ad80c5b9a7",
      "cell_type": "code",
      "source": "e = \"clocrkr1e1c1t\"\ne[::2]",
      "metadata": {
        "trusted": true
      },
      "outputs": [
        {
          "execution_count": 52,
          "output_type": "execute_result",
          "data": {
            "text/plain": "'correct'"
          },
          "metadata": {}
        }
      ],
      "execution_count": 52
    },
    {
      "id": "83af1073-f2f7-4c1f-9851-e0ec02bd3cba",
      "cell_type": "code",
      "source": "print(\"\\\\\")",
      "metadata": {
        "trusted": true
      },
      "outputs": [
        {
          "name": "stdout",
          "output_type": "stream",
          "text": "\\\n"
        }
      ],
      "execution_count": 59
    },
    {
      "id": "41eb075f-58d7-4461-8005-3a50b81d4f5b",
      "cell_type": "code",
      "source": "f = \"Hello world\"\nf.upper()",
      "metadata": {
        "trusted": true
      },
      "outputs": [
        {
          "execution_count": 2,
          "output_type": "execute_result",
          "data": {
            "text/plain": "'HELLO WORLD'"
          },
          "metadata": {}
        }
      ],
      "execution_count": 2
    },
    {
      "id": "f29d296a-8e4c-49b9-8c32-4c30d7ab9458",
      "cell_type": "code",
      "source": "g = \"Mary had a little lamb Little lamb, little lamb Mary had a little lamb \\\nIts fleece was white as snow And everywhere that Mary went Mary went, Mary went \\\nEverywhere that Mary went The lamb was sure to go\"\n",
      "metadata": {
        "trusted": true
      },
      "outputs": [],
      "execution_count": 68
    },
    {
      "id": "6ffa3395-d529-469b-b61f-c32d07e98a71",
      "cell_type": "code",
      "source": "str1 = \"The quick brown fox jumps over the lazy dog\"\nre.sub(\"fox\", \"bear\", str1)",
      "metadata": {
        "trusted": true
      },
      "outputs": [
        {
          "execution_count": 76,
          "output_type": "execute_result",
          "data": {
            "text/plain": "'The quick brown bear jumps over the lazy dog'"
          },
          "metadata": {}
        }
      ],
      "execution_count": 76
    },
    {
      "id": "1f3ad605-b136-48d7-b947-20fc95b849a8",
      "cell_type": "code",
      "source": "str2= \"How much wood would a woodchuck chuck, if a woodchuck could chuck wood?\"\nre.findall(\"woo\", str2)",
      "metadata": {
        "trusted": true
      },
      "outputs": [
        {
          "execution_count": 77,
          "output_type": "execute_result",
          "data": {
            "text/plain": "['woo', 'woo', 'woo', 'woo']"
          },
          "metadata": {}
        }
      ],
      "execution_count": 77
    },
    {
      "id": "8d53578f-cd07-44d1-bb40-e3a6981b3c6b",
      "cell_type": "code",
      "source": "print(\"AB\\nC\\nDE\")",
      "metadata": {
        "trusted": true
      },
      "outputs": [
        {
          "name": "stdout",
          "output_type": "stream",
          "text": "AB\nC\nDE\n"
        }
      ],
      "execution_count": 78
    },
    {
      "id": "e6c0f458-7ae6-4b75-a5bc-d5e5bd5440a4",
      "cell_type": "code",
      "source": "inventory = {\n        \"ProductNo1\" : \"Mobile Phone\",\n        \"ProductNo1_quantity\" :5,\n        \"ProductNo1_price\" : 20000,\n        \"ProductNo1_releaseYear\" : 2020\n}\nprint(inventory)",
      "metadata": {
        "trusted": true
      },
      "outputs": [
        {
          "name": "stdout",
          "output_type": "stream",
          "text": "{'ProductNo1': 'Mobile Phone', 'ProductNo1_quantity': 5, 'ProductNo1_price': 20000, 'ProductNo1_releaseYear': 2020}\n"
        }
      ],
      "execution_count": 32
    },
    {
      "id": "b0a5626a-ff3d-4560-9719-cf2609beaea5",
      "cell_type": "code",
      "source": "del(inventory[\"ProductNo1\"])",
      "metadata": {
        "trusted": true
      },
      "outputs": [],
      "execution_count": 33
    },
    {
      "id": "35428fc8-3a52-473e-ac8e-8621bb1886c6",
      "cell_type": "code",
      "source": "print(inventory)",
      "metadata": {
        "trusted": true
      },
      "outputs": [
        {
          "name": "stdout",
          "output_type": "stream",
          "text": "{'ProductNo1_quantity': 5, 'ProductNo1_price': 20000, 'ProductNo1_releaseYear': 2020}\n"
        }
      ],
      "execution_count": 34
    },
    {
      "id": "6e64ef2b-5d9e-436c-8ee6-68a872ef2311",
      "cell_type": "code",
      "source": "inventory.keys()\n",
      "metadata": {
        "trusted": true
      },
      "outputs": [
        {
          "execution_count": 39,
          "output_type": "execute_result",
          "data": {
            "text/plain": "dict_keys(['ProductNo1_quantity', 'ProductNo1_price', 'ProductNo1_releaseYear'])"
          },
          "metadata": {}
        }
      ],
      "execution_count": 39
    },
    {
      "id": "68fbc598-5deb-456f-92a0-76cd9dedd712",
      "cell_type": "code",
      "source": "A = {\n    \"a\": 1,\n    \"b\": 2\n}",
      "metadata": {
        "trusted": true
      },
      "outputs": [],
      "execution_count": 36
    },
    {
      "id": "ea73b830-8c8a-4af0-958d-5fae24ecf2cc",
      "cell_type": "code",
      "source": "print(A.keys())",
      "metadata": {
        "trusted": true
      },
      "outputs": [
        {
          "name": "stdout",
          "output_type": "stream",
          "text": "dict_keys(['a', 'b'])\n"
        }
      ],
      "execution_count": 38
    },
    {
      "id": "05a6cf30-6b98-4b73-afd6-5a993aac300f",
      "cell_type": "code",
      "source": "setA = {1,2,3,4,5}\nprint(list(setA))\nsetA.remove(1)\nprint(setA)",
      "metadata": {
        "trusted": true
      },
      "outputs": [
        {
          "name": "stdout",
          "output_type": "stream",
          "text": "[1, 2, 3, 4, 5]\n{2, 3, 4, 5}\n"
        }
      ],
      "execution_count": 50
    },
    {
      "id": "854a34c0-d87d-43bd-952e-1a4bc8054103",
      "cell_type": "code",
      "source": "list_of_names = [\"ahmed\",\"faisal\",\"yasir\",\"osama\",\"ibrahim\",\"yasir\"]\nprint(set(list_of_names))",
      "metadata": {
        "trusted": true
      },
      "outputs": [
        {
          "name": "stdout",
          "output_type": "stream",
          "text": "{'yasir', 'faisal', 'ahmed', 'ibrahim', 'osama'}\n"
        }
      ],
      "execution_count": 47
    },
    {
      "id": "de158145-89c6-4861-95a7-6afc3ce16b26",
      "cell_type": "code",
      "source": "setA = {11,25,11,23,42,24}\nsetB= {23,43,22,14,18}\nsetC = setA & setB \nprint(setC) \n",
      "metadata": {
        "trusted": true
      },
      "outputs": [
        {
          "name": "stdout",
          "output_type": "stream",
          "text": "{23}\n"
        }
      ],
      "execution_count": 51
    },
    {
      "id": "87f7e728-1333-4f8f-9a16-377421379f4a",
      "cell_type": "code",
      "source": "setA = {11,25,11,23,42,24}\nsetB= {23,43,22,14,18}\nsetC = setA.union(setB)\nprint(setC, len(setA), len(setB), len(setC), setA.issubset(setC)) \n",
      "metadata": {
        "trusted": true
      },
      "outputs": [
        {
          "name": "stdout",
          "output_type": "stream",
          "text": "{42, 11, 43, 14, 18, 22, 23, 24, 25} 5 5 9 True\n"
        }
      ],
      "execution_count": 58
    },
    {
      "id": "bc5aa953-8223-4a1f-8747-7f98eceb32a2",
      "cell_type": "code",
      "source": "A = set([\"Thriller\", \"Back in Black\", \"AC/DC\"])\nA",
      "metadata": {
        "trusted": true
      },
      "outputs": [
        {
          "execution_count": 59,
          "output_type": "execute_result",
          "data": {
            "text/plain": "{'AC/DC', 'Back in Black', 'Thriller'}"
          },
          "metadata": {}
        }
      ],
      "execution_count": 59
    },
    {
      "id": "89413959-f7bf-4573-ba02-bed3308b09a6",
      "cell_type": "code",
      "source": "A.add(\"NSYNC\")\nA",
      "metadata": {
        "trusted": true
      },
      "outputs": [
        {
          "execution_count": 61,
          "output_type": "execute_result",
          "data": {
            "text/plain": "{'AC/DC', 'Back in Black', 'NSYNC', 'Thriller'}"
          },
          "metadata": {}
        }
      ],
      "execution_count": 61
    },
    {
      "id": "bb394e0f-92c8-4f0b-8115-76fa8274d072",
      "cell_type": "code",
      "source": "A.remove(\"NSYNC\")\nA",
      "metadata": {
        "trusted": true
      },
      "outputs": [
        {
          "execution_count": 62,
          "output_type": "execute_result",
          "data": {
            "text/plain": "{'AC/DC', 'Back in Black', 'Thriller'}"
          },
          "metadata": {}
        }
      ],
      "execution_count": 62
    },
    {
      "id": "9923def0-c6c4-4f70-8400-10fe5111d96b",
      "cell_type": "code",
      "source": "\"AC/DC\" in A",
      "metadata": {
        "trusted": true
      },
      "outputs": [
        {
          "execution_count": 63,
          "output_type": "execute_result",
          "data": {
            "text/plain": "True"
          },
          "metadata": {}
        }
      ],
      "execution_count": 63
    },
    {
      "id": "ed24e039-44ab-40cf-a4ce-ac8de9b77b53",
      "cell_type": "code",
      "source": "album_set1 = set([\"Thriller\", 'AC/DC', 'Back in Black'])\nalbum_set2 = set([ \"AC/DC\", \"Back in Black\", \"The Dark Side of the Moon\"])\nintersection = album_set1 & album_set2\nunion = album_set1 | album_set2  ## we can also do album_set1.union(album_set2)\n# print(intersection)\n# print(album_set1.difference(album_set2))\n# print(album_set2.difference(album_set1))\n# print(album_set1.intersection(album_set2))\n# print(album_set1 | album_set2)\nset(album_set1).issuperset(album_set2)\nset(album_set2).issuperset(album_set1)\nalbum_set1.issubset(album_set2)",
      "metadata": {
        "trusted": true
      },
      "outputs": [
        {
          "execution_count": 75,
          "output_type": "execute_result",
          "data": {
            "text/plain": "False"
          },
          "metadata": {}
        }
      ],
      "execution_count": 75
    },
    {
      "id": "4974c785-4a88-47a3-b84c-d1670457c1c7",
      "cell_type": "code",
      "source": "music_types= set(['rap','house','electronic music', 'rap'])\n",
      "metadata": {
        "trusted": true
      },
      "outputs": [
        {
          "name": "stdout",
          "output_type": "stream",
          "text": "{'rap', 'electronic music', 'house'}\n"
        }
      ],
      "execution_count": 77
    },
    {
      "id": "03500009-632e-4668-8859-9912f534c68c",
      "cell_type": "code",
      "source": "A = [1, 2, 2, 1]\nB = set([1, 2, 2, 1])\nsum(A) == sum(B) ",
      "metadata": {
        "trusted": true
      },
      "outputs": [
        {
          "execution_count": 80,
          "output_type": "execute_result",
          "data": {
            "text/plain": "False"
          },
          "metadata": {}
        }
      ],
      "execution_count": 80
    },
    {
      "id": "807c536f-1ec1-4ef0-b6f1-9f1313d7439a",
      "cell_type": "code",
      "source": "album_set1 = set([\"Thriller\", 'AC/DC', 'Back in Black'])\nalbum_set2 = set([ \"AC/DC\", \"Back in Black\", \"The Dark Side of the Moon\"])\nalbum_set3 = album_set1 | album_set2 \nprint(album_set3 ,len(album_set1), len(album_set2), len(album_set3))",
      "metadata": {
        "trusted": true
      },
      "outputs": [
        {
          "name": "stdout",
          "output_type": "stream",
          "text": "{'Back in Black', 'The Dark Side of the Moon', 'Thriller', 'AC/DC'} 3 3 4\n"
        }
      ],
      "execution_count": 83
    },
    {
      "id": "f39c7b9e-f5ae-467a-9722-2845d3a1970a",
      "cell_type": "code",
      "source": "album_set1.issubset(album_set3)",
      "metadata": {
        "trusted": true
      },
      "outputs": [
        {
          "execution_count": 85,
          "output_type": "execute_result",
          "data": {
            "text/plain": "True"
          },
          "metadata": {}
        }
      ],
      "execution_count": 85
    },
    {
      "id": "42a5815c-f6bf-4d18-8d14-2868ae01f7e7",
      "cell_type": "code",
      "source": "visitors = {'user123', 'user456'}\nvisitors.add('user789')\nvisitors",
      "metadata": {
        "trusted": true
      },
      "outputs": [
        {
          "execution_count": 3,
          "output_type": "execute_result",
          "data": {
            "text/plain": "{'user123', 'user456', 'user789'}"
          },
          "metadata": {}
        }
      ],
      "execution_count": 3
    },
    {
      "id": "1376a8e2-50cd-4885-a6f6-2e5d8d1a9203",
      "cell_type": "code",
      "source": "a = 5\nb = 7\na == b",
      "metadata": {
        "trusted": true
      },
      "outputs": [
        {
          "execution_count": 4,
          "output_type": "execute_result",
          "data": {
            "text/plain": "False"
          },
          "metadata": {}
        }
      ],
      "execution_count": 4
    },
    {
      "id": "9a6f2b1d-2de5-47c3-baaa-d3847ea1a4bc",
      "cell_type": "code",
      "source": "i = 6\ni >= 5",
      "metadata": {
        "trusted": true
      },
      "outputs": [
        {
          "execution_count": 8,
          "output_type": "execute_result",
          "data": {
            "text/plain": "True"
          },
          "metadata": {}
        }
      ],
      "execution_count": 8
    },
    {
      "id": "f3ad733f-4687-4863-ba8c-a8736a7271a6",
      "cell_type": "code",
      "source": "i!=5",
      "metadata": {
        "trusted": true
      },
      "outputs": [
        {
          "execution_count": 14,
          "output_type": "execute_result",
          "data": {
            "text/plain": "True"
          },
          "metadata": {}
        }
      ],
      "execution_count": 14
    },
    {
      "id": "48a604f5-175a-4bb5-8b56-24a1e5b6d96b",
      "cell_type": "code",
      "source": "name = \"ahmed\"\nif name == \"yasir\":\n    print(\"Correct!\")\nelif name == \"ahmed\":\n    print(\"Maybe!\")\nelse: \n    print(\"Wrong!\")",
      "metadata": {
        "trusted": true
      },
      "outputs": [
        {
          "name": "stdout",
          "output_type": "stream",
          "text": "Maybe!\n"
        }
      ],
      "execution_count": 16
    },
    {
      "id": "afbfbba3-6c06-4679-b2c6-3b3a1ccf1297",
      "cell_type": "code",
      "source": "not(True)\nnot(False)",
      "metadata": {
        "trusted": true
      },
      "outputs": [
        {
          "execution_count": 18,
          "output_type": "execute_result",
          "data": {
            "text/plain": "True"
          },
          "metadata": {}
        }
      ],
      "execution_count": 18
    },
    {
      "id": "a547d9e9-08e7-44a5-9969-e503ace426ea",
      "cell_type": "code",
      "source": "False or False ",
      "metadata": {
        "trusted": true
      },
      "outputs": [
        {
          "execution_count": 19,
          "output_type": "execute_result",
          "data": {
            "text/plain": "False"
          },
          "metadata": {}
        }
      ],
      "execution_count": 19
    },
    {
      "id": "9acde8db-add9-4507-87a5-0e25b29871ba",
      "cell_type": "code",
      "source": "False or True ",
      "metadata": {
        "trusted": true
      },
      "outputs": [
        {
          "execution_count": 20,
          "output_type": "execute_result",
          "data": {
            "text/plain": "True"
          },
          "metadata": {}
        }
      ],
      "execution_count": 20
    },
    {
      "id": "7c039674-30de-4bf8-9e24-b5c8f56a8364",
      "cell_type": "code",
      "source": "album_year = 1990\nif (album_year < 1980) or (album_year > 1989):\n    print(\"The Album was made in the 70's or 90's\")\nelse:\n    print(\"The Album was made in the 1980's\")",
      "metadata": {
        "trusted": true
      },
      "outputs": [
        {
          "name": "stdout",
          "output_type": "stream",
          "text": "The Album was made in the 70's or 90's\n"
        }
      ],
      "execution_count": 32
    },
    {
      "id": "e24c6875-1407-428d-aced-6561c353e8dc",
      "cell_type": "code",
      "source": "skills = [\"football\", \"basketball\"]\nif \"football\" in skills and \"basketball\" in skills:\n    print(\"Good job!\")\nelse: \n    print(\"Try again!\")",
      "metadata": {
        "trusted": true
      },
      "outputs": [
        {
          "name": "stdout",
          "output_type": "stream",
          "text": "Good job!\n"
        }
      ],
      "execution_count": 33
    },
    {
      "id": "2cfea95a-5aa3-436c-b0aa-41f469b6873c",
      "cell_type": "code",
      "source": "skills = [\"football\", \"tennis\"]\nif \"football\" in skills and \"basketball\" in skills:\n    print(\"Good job!\")\nelse: \n    print(\"Try again!\")",
      "metadata": {
        "trusted": true
      },
      "outputs": [
        {
          "name": "stdout",
          "output_type": "stream",
          "text": "Try again!\n"
        }
      ],
      "execution_count": 34
    },
    {
      "id": "15eee8fa-fbf0-40b2-9d46-6b388ddd2ae0",
      "cell_type": "code",
      "source": "sales = [\n    {\"product\": \"Apple\", \"price\": 1.2, \"quantity\": 10},\n    {\"product\": \"Banana\", \"price\": 0.8, \"quantity\": 25},\n    {\"product\": \"Orange\", \"price\": 1.5, \"quantity\": 8},\n    {\"product\": \"Mango\", \"price\": 2.0, \"quantity\": 5},\n    {\"product\": \"Apple\", \"price\": 1.2, \"quantity\": 15},\n    {\"product\": \"Banana\", \"price\": 0.8, \"quantity\": 30}\n]\n\ndef analyze_data (data):\n    \n    total_revenue = 0\n    quantity_dict = {}\n    revenue_dict = {}\n    prices_dict = {}\n\n    for row in data: \n        product, price, quantity = row[\"product\"], row[\"price\"], row[\"quantity\"]\n\n        total_revenue += price * quantity\n\n        quantity_dict[product] = quantity_dict.get(product,0) + quantity\n\n        revenue_dict[product] = revenue_dict.get(product,0) + price * quantity\n\n        prices_dict.setdefault(product, price)\n\n    most_popular = max(quantity_dict, key=quantity_dict.get)\n\n    average_price = sum(prices_dict.values())/len(prices_dict)\n\n    top_revenue = max(revenue_dict, key=revenue_dict.get)\n\n\n    return {\n        \"quantities\": quantity_dict,\n        \"revenues\": revenue_dict, \n        \"prices\": prices_dict,\n        \"most_popular_product\": most_popular,\n        \"average_price\": average_price, \n        \"top_revenue_product\": top_revenue\n    }\nanalyze_data(sales)",
      "metadata": {
        "trusted": true
      },
      "outputs": [
        {
          "execution_count": 107,
          "output_type": "execute_result",
          "data": {
            "text/plain": "{'quantities': {'Apple': 25, 'Banana': 55, 'Orange': 8, 'Mango': 5},\n 'revenues': {'Apple': 30.0, 'Banana': 44.0, 'Orange': 12.0, 'Mango': 10.0},\n 'prices': {'Apple': 1.2, 'Banana': 0.8, 'Orange': 1.5, 'Mango': 2.0},\n 'most_popular_product': 'Banana',\n 'average_price': 1.375,\n 'top_revenue_product': 'Banana'}"
          },
          "metadata": {}
        }
      ],
      "execution_count": 107
    },
    {
      "id": "47d6d6c8-44bc-4247-bb82-183738e09c1c",
      "cell_type": "code",
      "source": "# movies = [\n#     {\"title\": \"Inception\", \"genre\": \"Sci-Fi\", \"rating\": 8.8, \"votes\": 1200},\n#     {\"title\": \"The Matrix\", \"genre\": \"Sci-Fi\", \"rating\": 8.7, \"votes\": 950},\n#     {\"title\": \"Interstellar\", \"genre\": \"Sci-Fi\", \"rating\": 8.6, \"votes\": 1000},\n#     {\"title\": \"The Godfather\", \"genre\": \"Crime\", \"rating\": 9.2, \"votes\": 1500},\n#     {\"title\": \"The Dark Knight\", \"genre\": \"Action\", \"rating\": 9.0, \"votes\": 2000},\n#     {\"title\": \"Pulp Fiction\", \"genre\": \"Crime\", \"rating\": 8.9, \"votes\": 1100},\n# ]\n\n# def analyze_movie (data):\n\n#     ratings = []\n#     votes_dict = {}\n#     movies_per_genre = {}\n#     weighted_ratings_dict = {}\n#     top_rated_movies = {}\n    \n#     for row in data: \n#         title, genre, rating, votes = row[\"title\"], row[\"genre\"], row[\"rating\"], row[\"votes\"]\n#     # add the name of the movie and his rating \n#         ratings.append(rating)\n#     # add movie name and votes\n#         votes_dict[title] = votes_dict.get(title, 0) + votes\n#     # add movies and genre\n#         movies_per_genre[genre] = movies_per_genre.get(genre, 0) + 1\n#     # find highest rated per genre\n    \n#         if genre not in top_rated_movies:\n#               top_rated_movies[genre] = row\n             \n#         else:\n#                   top_rated_movies[genre] = row\n                  \n        \n#     # find the highest weighted rating movie\n#         weighted_ratings_dict[title] = weighted_ratings_dict.get(title, 0) + rating * votes\n#     # find the average rating\n#     average_rating = sum(ratings)/len(ratings)\n  \n#     # find the most voted movie\n#     most_voted_movie = max(votes_dict, key=votes_dict.get)\n#     highest_weighted_movie = max(weighted_ratings_dict, key=weighted_ratings_dict.get)\n#     top_titles = {g: m[\"title\"] for g, m in top_rated_movies.items()}\n    \n    \n#     return {\n#         \"average_rating\": float(average_rating),\n#         \"most_voted_movie\": most_voted_movie,\n#         \"movies_per_genre\": movies_per_genre, \n#         \"highest_weighted_movie\": highest_weighted_movie,\n#          \"top_rated_title\": top_titles,\n#     }\n    \n# analyze_movie(movies)",
      "metadata": {
        "trusted": true
      },
      "outputs": [],
      "execution_count": 374
    },
    {
      "id": "ac47f5f5-41d8-4f9e-9350-2a66f2ed5728",
      "cell_type": "code",
      "source": "",
      "metadata": {
        "trusted": true
      },
      "outputs": [],
      "execution_count": null
    },
    {
      "id": "b4453786-7538-4b12-a630-9e9f55a988a2",
      "cell_type": "code",
      "source": "",
      "metadata": {
        "trusted": true
      },
      "outputs": [],
      "execution_count": null
    },
    {
      "id": "7f245cd1-c1ce-43f3-83e3-b3d75dd306b2",
      "cell_type": "code",
      "source": "",
      "metadata": {
        "trusted": true
      },
      "outputs": [],
      "execution_count": null
    },
    {
      "id": "e19e4833-c26c-4d9d-8b8e-6086f6110759",
      "cell_type": "code",
      "source": "",
      "metadata": {
        "trusted": true
      },
      "outputs": [],
      "execution_count": null
    },
    {
      "id": "c92a483b-18f7-462e-9499-68cfb65d5e3d",
      "cell_type": "code",
      "source": "",
      "metadata": {
        "trusted": true
      },
      "outputs": [],
      "execution_count": null
    },
    {
      "id": "f8b8a6b4-7dec-406a-b2e7-6228a16de078",
      "cell_type": "code",
      "source": "",
      "metadata": {
        "trusted": true
      },
      "outputs": [],
      "execution_count": null
    },
    {
      "id": "c180b479-3e07-4361-bafa-e1978b34b4f9",
      "cell_type": "code",
      "source": "movies = [\n    {\"title\": \"Inception\", \"genre\": \"Sci-Fi\", \"rating\": 8.8, \"votes\": 1200},\n    {\"title\": \"The Matrix\", \"genre\": \"Sci-Fi\", \"rating\": 8.7, \"votes\": 950},\n    {\"title\": \"Interstellar\", \"genre\": \"Sci-Fi\", \"rating\": 8.6, \"votes\": 1000},\n    {\"title\": \"The Godfather\", \"genre\": \"Crime\", \"rating\": 9.2, \"votes\": 1500},\n    {\"title\": \"The Dark Knight\", \"genre\": \"Action\", \"rating\": 9.0, \"votes\": 2000},\n    {\"title\": \"Pulp Fiction\", \"genre\": \"Crime\", \"rating\": 8.9, \"votes\": 1100},\n]\ndef analyze_movies (data): \n    ratings = []\n    votes_dict = {}\n    movies_by_genre = {}\n    highest_rated_movies = {}\n    highest_weighted_movies = {}\n\n    for row in data:\n        # Assign the data \n        title, genre, rating, votes = row[\"title\"], row[\"genre\"], row[\"rating\"], row[\"votes\"]\n        # add ratings to ratings list \n        ratings.append(rating)\n        # find the movie with the most amount of votes \n        votes_dict[title] = votes\n        # count movies per genre\n        movies_by_genre[genre]= movies_by_genre.get(genre, 0) + 1\n        # find highest rated per genre \n        if genre not in highest_rated_movies:\n            highest_rated_movies[genre] = row\n        else: \n            if rating > highest_rated_movies[genre][\"rating\"]:\n                highest_rated_movies = row\n\n        # add weighted ratings to the dict\n        highest_weighted_movies[title] = rating * votes\n    # average rating\n    average_rating = sum(ratings)/len(ratings)\n    # most voted movie\n    most_voted_movie = max(votes_dict, key=votes_dict.get)\n    # highest weighted movie \n    highest_weighted_movie = max(highest_weighted_movies, key=highest_weighted_movies.get)\n    # highest rated movie dict cleaner\n    highest_rated_movies = {genre: title[\"title\"] for genre, title in highest_rated_movies.items()}\n\n    return {\n        \"average_rating\": average_rating,\n        \"most_voted_movie\": most_voted_movie,\n        \"movies_per_genre\": movies_by_genre,\n        \"highest_rated_movies\": highest_rated_movies,\n        \"highest_weighted_movie\": highest_weighted_movie\n    }\n    \nanalyze_movies(movies)\n\n",
      "metadata": {
        "trusted": true
      },
      "outputs": [
        {
          "execution_count": 3,
          "output_type": "execute_result",
          "data": {
            "text/plain": "{'average_rating': 8.866666666666667,\n 'most_voted_movie': 'The Dark Knight',\n 'movies_per_genre': {'Sci-Fi': 3, 'Crime': 2, 'Action': 1},\n 'highest_rated_movies': {'Sci-Fi': 'Inception',\n  'Crime': 'The Godfather',\n  'Action': 'The Dark Knight'},\n 'highest_weighted_movie': 'The Dark Knight'}"
          },
          "metadata": {}
        }
      ],
      "execution_count": 3
    },
    {
      "id": "4574cf89-26fb-4c19-b9eb-1e2ba139c58e",
      "cell_type": "code",
      "source": "# movies = [\n#     {\"title\": \"Inception\", \"genre\": \"Sci-Fi\", \"rating\": 8.8, \"votes\": 1200},\n#     {\"title\": \"The Matrix\", \"genre\": \"Sci-Fi\", \"rating\": 8.7, \"votes\": 900},\n#     {\"title\": \"The Godfather\", \"genre\": \"Crime\", \"rating\": 9.2, \"votes\": 1500},\n#     {\"title\": \"The Dark Knight\", \"genre\": \"Action\", \"rating\": 9.0, \"votes\": 2000},\n#     {\"title\": \"Pulp Fiction\", \"genre\": \"Crime\", \"rating\": 8.9, \"votes\": 1700},\n#     {\"title\": \"Avengers: Endgame\", \"genre\": \"Action\", \"rating\": 8.4, \"votes\": 2200}\n# ]\n\n# def analyze_movies (data):\n#     most_voted_movie_per_genre = {}\n\n#     for row in data: \n#         title, genre, rating, votes = row[\"title\"], row[\"genre\"], row[\"rating\"], row[\"votes\"]\n#         # populate most_voted_movie_per_genre\n#         if genre not in most_voted_movie_per_genre:\n#             most_voted_movie_per_genre[genre] = row\n#         else:\n#             if votes > most_voted_movie_per_genre[genre][\"votes\"]:\n#                 most_voted_movie_per_genre[genre] = row\n\n#     # clean most_voted_movie_per_genre\n#     most_voted_movie_per_genre = {genre: {\"title\": old_dict[\"title\"], \"votes\": old_dict[\"votes\"]} for genre, old_dict in most_voted_movie_per_genre.items()}\n\n#     return most_voted_movie_per_genre\n# analyze_movies(movies)",
      "metadata": {
        "trusted": true
      },
      "outputs": [
        {
          "execution_count": 68,
          "output_type": "execute_result",
          "data": {
            "text/plain": "{'Sci-Fi': {'title': 'Inception', 'votes': 1200},\n 'Crime': {'title': 'Pulp Fiction', 'votes': 1700},\n 'Action': {'title': 'Avengers: Endgame', 'votes': 2200}}"
          },
          "metadata": {}
        }
      ],
      "execution_count": 68
    },
    {
      "id": "d1b6ab67-6977-43f0-af69-3ed941e30655",
      "cell_type": "code",
      "source": "squares = [\"orange\", \"orange\", \"purple\", \"orange\", \"blue\"]\nnew_squares = []\ni = 0 \nwhile squares[i] == \"orange\":\n    new_squares.append(squares[i])\n    i = i + 1\n\nprint(new_squares)",
      "metadata": {
        "trusted": true
      },
      "outputs": [
        {
          "name": "stdout",
          "output_type": "stream",
          "text": "['orange', 'orange']\n"
        }
      ],
      "execution_count": 95
    },
    {
      "id": "260d47b1-e2b0-4f76-ba2b-06ec22220020",
      "cell_type": "code",
      "source": "for number in range(11):\n    print(number)\n\n# for number in range(1,11):\n #   print(number)",
      "metadata": {
        "trusted": true
      },
      "outputs": [
        {
          "name": "stdout",
          "output_type": "stream",
          "text": "0\n1\n2\n3\n4\n5\n6\n7\n8\n9\n10\n"
        }
      ],
      "execution_count": 102
    },
    {
      "id": "87c2301c-4743-4bf7-9cdc-1cd4c7faf922",
      "cell_type": "code",
      "source": "count = 1\nwhile count < 10:\n    print(count)\n    count+=1\n\n",
      "metadata": {
        "trusted": true
      },
      "outputs": [
        {
          "name": "stdout",
          "output_type": "stream",
          "text": "1\n2\n3\n4\n5\n6\n7\n8\n9\n"
        }
      ],
      "execution_count": 104
    },
    {
      "id": "74cce97c-64b4-4c0f-a188-6e4f43a5d0a6",
      "cell_type": "code",
      "source": "squares = ['red', 'yellow', 'green', 'purple', 'blue']\n\nfor i in range(0, 5):\n    print(\"Before square \", i, 'is',  squares[i])\n    squares[i] = 'white'\n    print(\"After square \", i, 'is',  squares[i])",
      "metadata": {
        "trusted": true
      },
      "outputs": [
        {
          "name": "stdout",
          "output_type": "stream",
          "text": "Before square  0 is red\nAfter square  0 is white\nBefore square  1 is yellow\nAfter square  1 is white\nBefore square  2 is green\nAfter square  2 is white\nBefore square  3 is purple\nAfter square  3 is white\nBefore square  4 is blue\nAfter square  4 is white\n"
        }
      ],
      "execution_count": 105
    },
    {
      "id": "07ea5ca8-a6c1-4fec-ac3b-423e3cc26eb6",
      "cell_type": "code",
      "source": "",
      "metadata": {
        "trusted": true
      },
      "outputs": [
        {
          "name": "stdout",
          "output_type": "stream",
          "text": "['ahmed', 'faisal', 'osama']\n"
        }
      ],
      "execution_count": 78
    },
    {
      "id": "279b0bc3-191c-4e34-8c2b-a00f2ae8cd19",
      "cell_type": "code",
      "source": "squares=['red', 'yellow', 'green', 'purple', 'blue']\nfor square in squares:\n    print(square)",
      "metadata": {
        "trusted": true
      },
      "outputs": [
        {
          "name": "stdout",
          "output_type": "stream",
          "text": "red\nyellow\ngreen\npurple\nblue\n"
        }
      ],
      "execution_count": 114
    },
    {
      "id": "22b19735-962a-497e-a9ce-1de2f746bdc9",
      "cell_type": "code",
      "source": "squares = ['orange', 'orange', 'purple', 'blue ', 'orange']\nnew_squares = []\ni = 0 \nwhile i < len(squares) and squares[i] == \"orange\":\n    new_squares.append(\"orange\")\n    i+=1\nprint(new_squares)",
      "metadata": {
        "trusted": true
      },
      "outputs": [
        {
          "name": "stdout",
          "output_type": "stream",
          "text": "['orange', 'orange']\n"
        }
      ],
      "execution_count": 131
    },
    {
      "id": "fdcf6e5a-ca42-437d-bc0e-9bc69803ebb5",
      "cell_type": "code",
      "source": "def frequency_counter (string):\n    \n\n    words = string.split(\" \")\n    words_dict = {}\n    \n    for word in words:\n        print(word)\n\n\n\n\nfrequency_counter(\"Mary had a little lamb Little lamb, little lamb Mary had a little lamb.Its fleece was white as snow And everywhere that Mary went Mary went, Mary went \\\nEverywhere that Mary went The lamb was sure to go\")",
      "metadata": {
        "trusted": true
      },
      "outputs": [
        {
          "name": "stdout",
          "output_type": "stream",
          "text": "Mary\nhad\na\nlittle\nlamb\nLittle\nlamb,\nlittle\nlamb\nMary\nhad\na\nlittle\nlamb.Its\nfleece\nwas\nwhite\nas\nsnow\nAnd\neverywhere\nthat\nMary\nwent\nMary\nwent,\nMary\nwent\nEverywhere\nthat\nMary\nwent\nThe\nlamb\nwas\nsure\nto\ngo\n"
        }
      ],
      "execution_count": 153
    },
    {
      "id": "f508f094-66f5-4eb9-9f97-64dce3ebba04",
      "cell_type": "code",
      "source": "if \".\" in \"lamb.its\": \n    print(\"lamb.its\".replace(\".\", \" \"))\nelse:\n    print(\"no\")",
      "metadata": {
        "trusted": true
      },
      "outputs": [
        {
          "name": "stdout",
          "output_type": "stream",
          "text": "lamb its\n"
        }
      ],
      "execution_count": 145
    },
    {
      "id": "f8c1aa5e-bd2f-49c9-99f2-959643031d38",
      "cell_type": "code",
      "source": "def freq(string):\n    \n    #step1: A list variable is declared and initialized to an empty list.\n    words = []\n    \n    #step2: Break the string into list of words\n    words = string.split() # or string.lower().split()\n    \n    #step3: Declare a dictionary\n    Dict = {}\n    \n    #step4: Use for loop to iterate words and values to the dictionary\n    for key in words:\n        Dict[key] = words.count(key)\n        \n    #step5: Print the dictionary\n    print(\"The Frequency of words is:\",Dict)\n    \n#step6: Call function and pass string in it\nfreq(\"Mary had a little lamb Little lamb, little lamb Mary had a little lamb.Its fleece was white as snow And everywhere that Mary went Mary went, Mary went \\\nEverywhere that Mary went The lamb was sure to go\")",
      "metadata": {
        "trusted": true
      },
      "outputs": [
        {
          "name": "stdout",
          "output_type": "stream",
          "text": "The Frequency of words is: {'Mary': 6, 'had': 2, 'a': 2, 'little': 3, 'lamb': 3, 'Little': 1, 'lamb,': 1, 'lamb.Its': 1, 'fleece': 1, 'was': 2, 'white': 1, 'as': 1, 'snow': 1, 'And': 1, 'everywhere': 1, 'that': 2, 'went': 3, 'went,': 1, 'Everywhere': 1, 'The': 1, 'sure': 1, 'to': 1, 'go': 1}\n"
        }
      ],
      "execution_count": 178
    },
    {
      "id": "cde47e09-7284-4ce5-b4a1-4231448563ad",
      "cell_type": "code",
      "source": "def ratings (rating=4):\n    print(rating)\nratings()",
      "metadata": {
        "trusted": true
      },
      "outputs": [
        {
          "name": "stdout",
          "output_type": "stream",
          "text": "4\n"
        }
      ],
      "execution_count": 184
    },
    {
      "id": "d0c775bd-7264-4fca-87c9-3aea18caded1",
      "cell_type": "code",
      "source": "def movies (**names_and_sometimes_rating):\n    for key, value in names_and_sometimes_rating.items():\n        print(key, value)\n        \nmovies(Thegodfather=7)",
      "metadata": {
        "trusted": true
      },
      "outputs": [
        {
          "name": "stdout",
          "output_type": "stream",
          "text": "Thegodfather 7\n"
        }
      ],
      "execution_count": 198
    },
    {
      "id": "407f75fc-2de6-4586-a04c-ea90c0a7c3b1",
      "cell_type": "code",
      "source": "def con(a,b):\n    return (a+b)\ncon(\"hello\", \"world\")",
      "metadata": {
        "trusted": true
      },
      "outputs": [
        {
          "execution_count": 16,
          "output_type": "execute_result",
          "data": {
            "text/plain": "'helloworld'"
          },
          "metadata": {}
        }
      ],
      "execution_count": 19
    },
    {
      "id": "cc96b2ff-4721-4464-9767-109f64af50d0",
      "cell_type": "code",
      "source": "def count_little (string):\n    # convert to lower case then add to list\n    words = string.lower().split(\" \")\n    # add a counter \n    little_counter = 0\n    # loop over the created list\n    for word in words:\n        if word == \"little\":\n            # update the counter\n            little_counter += 1\n\n    print(little_counter)\n            \n        \ncount_little(\"Mary had a little lamb Little lamb, little lamb Mary had a little lamb.Its fleece was white as snow And everywhere that Mary went Mary went, Mary went Everywhere that Mary went The lamb was sure to go\")",
      "metadata": {
        "trusted": true
      },
      "outputs": [
        {
          "name": "stdout",
          "output_type": "stream",
          "text": "4\n"
        }
      ],
      "execution_count": 16
    },
    {
      "id": "6aa179ef-9a8f-468c-9e93-eb5104567eac",
      "cell_type": "code",
      "source": "# results = 10 / 0 \n# print(results)\n# # Raises ZeroDivisonError\n\n# num = int(\"abc\")\n# # Raises ValueError\n\n# with open(\"nonexistent_file.txt\", \"r\") as file:\n#         content = file.read() # Raises FileNotfoundError\n\n# my_list  = [1,2,3]\n# value = my_list[1] # No IndexError, within range\n# missing = my_list[5] # Raises IndexError\n\n# my_dict = {\"name\": \"alice\", \"age\": 30}\n# value = my_dict.get(\"city\") # No KeyError, using .get() method\n# missing = my_dict[\"city\"] # Raises KeyError\n\n# results = \"hello\" + 5 # Raises typeError\n\n# text = \"example\"\n# length = len(text) # No AttributeError, correct method usage\n# missing = text.some_method() # Raises AttributeError\n\n# using Try - except\ntry:\n    # Attempting to divide 10 by 0 \n    results = 10/0\n\nexcept ZeroDivisionError:\n    # Handling the ZeroDivisionError and printing an error message \n    print(\"Error: Cannot divide by zero\")\n# This line will be executed regardless of whether an exception occurred\nprint(\"outside of try and except block\")",
      "metadata": {
        "trusted": true
      },
      "outputs": [
        {
          "name": "stdout",
          "output_type": "stream",
          "text": "Error: Cannot divide by zero\noutside of try and except block\n"
        }
      ],
      "execution_count": 35
    },
    {
      "id": "d9ab4411-272a-4a6f-bf0a-59f823ee060a",
      "cell_type": "code",
      "source": "# try: \n#     1/0\n# except: \n#     print(\"You can't divide by zero\")\n# print(\"hello world\")",
      "metadata": {
        "trusted": true
      },
      "outputs": [],
      "execution_count": 11
    },
    {
      "id": "a70e4dda-18fc-4f85-ad09-68edfc9095e8",
      "cell_type": "code",
      "source": "# a = 1 \n\n# try: \n#     b = int(input(\"Please enter a number to divdie a\"))\n#     a = a/b\n#     print(\"Success a =\", a)\n# except: \n#     print(\"Pick another number\")",
      "metadata": {
        "trusted": true
      },
      "outputs": [],
      "execution_count": 12
    },
    {
      "id": "72286f04-dc56-41fb-94b3-9932649abf33",
      "cell_type": "code",
      "source": "# a = 1 \n# try: \n#     b = int(input(\"Please enter a number to divide a\"))\n#     a = a/b\n#     print(\"Success a =\", a)\n# except ZeroDivisionError:\n#     print(\"The number you provided can't divide 1 because it is 0\")\n# except ValueError:\n#     print(\"You did not provide a number\")\n# except: \n#     print(\"Something went wrong\")",
      "metadata": {
        "trusted": true
      },
      "outputs": [],
      "execution_count": 13
    },
    {
      "id": "93f56a51-b1fb-4521-a734-a420700702a5",
      "cell_type": "code",
      "source": "a = 1 \ntry: \n    b = int(input(\"Please enter a number to divide a\"))\n    a = a/b\nexcept ZeroDivisionError:\n    print(\"You can't divide by zero, please pick another number\")\nexcept ValueError:\n    print(\"Please pick a number\")\nexcept: \n    print(\"Something went wrong\")\nelse:\n    print(\"Success a = \", a)",
      "metadata": {
        "trusted": true
      },
      "outputs": [
        {
          "output_type": "stream",
          "name": "stdin",
          "text": "Please enter a number to divide a 2\n"
        },
        {
          "name": "stdout",
          "output_type": "stream",
          "text": "Success a =  0.5\n"
        }
      ],
      "execution_count": 10
    },
    {
      "id": "58447377-9beb-49fb-9d21-3da3a6b1b5bf",
      "cell_type": "code",
      "source": "def safe_divide (numerator, denominator):\n    try: \n        results = numerator/denominator\n        return f\"The results of the divison is {results}\"\n    except ZeroDivisionError:\n        return \"You can't pick zero as a denominator\"\n\n    \ntry:\n    user_numerator = int(input(\"Please enter the number that you want to use as a numerator\"))\n    user_denominator = int(input(\"Please enter the number that you want to use as a denominator \"))\n    print(safe_divide(user_numerator, user_denominator))\nexcept ValueError:\n    print(\"Please pick a number instead\")\n",
      "metadata": {
        "trusted": true
      },
      "outputs": [
        {
          "output_type": "stream",
          "name": "stdin",
          "text": "Please enter the number that you want to use as a numerator a\n"
        },
        {
          "name": "stdout",
          "output_type": "stream",
          "text": "Please pick a number instead\n"
        }
      ],
      "execution_count": 56
    },
    {
      "id": "285453fd-e559-46ca-8427-b1e75aab166b",
      "cell_type": "code",
      "source": "# def square_root (num):\n   \n#     return num ** 0.5\n\n    \n# square_root(49)\n    ",
      "metadata": {
        "trusted": true
      },
      "outputs": [
        {
          "execution_count": 62,
          "output_type": "execute_result",
          "data": {
            "text/plain": "7.0"
          },
          "metadata": {}
        }
      ],
      "execution_count": 62
    },
    {
      "id": "50c31eda-21d8-4960-b734-63ca68e4e293",
      "cell_type": "code",
      "source": "def square_root (num):\n    if num >= 0:\n        return math.sqrt(num)\n    else:\n        return \"You can't pick a negative number\"\n\ntry:\n    print(square_root(int(input(\"Please enter a number\"))))\nexcept ValueError:\n    print(\"That is not a number, please enter a number\")\n",
      "metadata": {
        "trusted": true
      },
      "outputs": [
        {
          "output_type": "stream",
          "name": "stdin",
          "text": "Please enter a number /\n"
        },
        {
          "name": "stdout",
          "output_type": "stream",
          "text": "That is not a number, please enter a number\n"
        }
      ],
      "execution_count": 75
    },
    {
      "id": "7c6a3d68-7845-4530-a0a6-378950826165",
      "cell_type": "code",
      "source": "def modify_number (num):\n    results = num/(num - 5) \n    return results\n    \ntry: \n    print(modify_number(float(input(\"Please enter a number\"))))\nexcept Exception as e:\n    print(\"An error occurred during calculation\", e)\n    ",
      "metadata": {
        "trusted": true
      },
      "outputs": [
        {
          "output_type": "stream",
          "name": "stdin",
          "text": "Please enter a number 10\n"
        },
        {
          "name": "stdout",
          "output_type": "stream",
          "text": "2.0\n"
        }
      ],
      "execution_count": 97
    },
    {
      "id": "9d034e54-1ba6-4cec-95d3-6aacc0378983",
      "cell_type": "code",
      "source": "# def complex_calculation (num):\n#     try: \n#         results = num / (num - 5)\n#         print(f\"Results: {results}\")\n#     except Exception as e:\n#         print(\"An error occured during calculation.\")\n\n# user_input = float(input(\"Enter a number: \"))\n# complex_calculation(user_input)",
      "metadata": {
        "trusted": true
      },
      "outputs": [
        {
          "output_type": "stream",
          "name": "stdin",
          "text": "Enter a number:  10\n"
        },
        {
          "name": "stdout",
          "output_type": "stream",
          "text": "Results: 2.0\n"
        }
      ],
      "execution_count": 95
    },
    {
      "id": "21e106dc-50ac-47b8-a107-ae15b48d78ed",
      "cell_type": "code",
      "source": "# class Circle (object):\n#     def __init__(self, radius, color= \"red\"):\n#         self.radius = radius \n#         self.color = color\n#     def add_radius (self, r):\n#         self.radius = self.radius + r \n# class Rectangle (object):\n#     def __init__(self, width, height):\n#         self.width = width\n#         self.height = height\n\n# RedCircle = Circle(10, \"red\")\n# RedCircle.color = \"blue\"\n# print(RedCircle.color)\n\n# RedCircle.add_radius(5)\n# RedCircle.radius\n\n",
      "metadata": {
        "trusted": true
      },
      "outputs": [
        {
          "name": "stdout",
          "output_type": "stream",
          "text": "blue\n"
        },
        {
          "execution_count": 13,
          "output_type": "execute_result",
          "data": {
            "text/plain": "15"
          },
          "metadata": {}
        }
      ],
      "execution_count": 13
    },
    {
      "id": "e54c997f-8936-4993-8ac0-b296f9e3ad98",
      "cell_type": "code",
      "source": "class Car (object):\n    # Class attribute (shared by all instances)\n    max_speed = 120 \n    # Constructor method (initialize instance attributes)\n    def __init__(self, make, model, color, speed=0):\n        self.make = make \n        self.model = model\n        self.color = color \n        self.speed = speed # initial speed is set to 0 \n\n    # Method for accelerating the car \n    def accelerate(self, acceleration):\n        if acceleration <= self.max_speed: \n            self.speed = acceleration\n        else: \n            self.speed = max_speed\n    # Method for finding the speed of the car \n    def get_speed(self):\n        return self.speed\n\nCamry = Car(\"Toyota\", \"Camry\", \"White\")\nprint(Camry.speed)\nCamry.accelerate(120)\nCamry.get_speed()",
      "metadata": {
        "trusted": true
      },
      "outputs": [
        {
          "name": "stdout",
          "output_type": "stream",
          "text": "0\n"
        },
        {
          "execution_count": 39,
          "output_type": "execute_result",
          "data": {
            "text/plain": "120"
          },
          "metadata": {}
        }
      ],
      "execution_count": 39
    },
    {
      "id": "b8edb3e3-d059-44ab-b7c7-eaa048cba091",
      "cell_type": "code",
      "source": "# Create a class Circle\nclass Circle:\n\n    # Constructor \n    def __init__ (self, radius=3, color= \"blue\"):\n        self.radius = radius\n        self.color = color\n    # Method\n    def add_radius (self, r):\n        self.radius = self.radius + r\n        return (self.radius)\n    # Method\n    def drawCircle (self):\n        plt.gca().add_patch(plt.Circle((0,0), radius=self.radius, fc=self.color))\n        plt.axis(\"scaled\")\n        plt.show()\n\nRedCircle = Circle(10, \"red\")\n# if you want to check the methods \n# dir(RedCircle)\n\nRedCircle.radius\nRedCircle.color\nRedCircle.radius = 12\nprint(RedCircle.radius)\n\nBlueCircle = Circle(radius = 100)\nBlueCircle.radius\nBlueCircle.color\nBlueCircle.drawCircle()\nRedCircle.drawCircle()\n",
      "metadata": {
        "trusted": true
      },
      "outputs": [
        {
          "name": "stdout",
          "output_type": "stream",
          "text": "12\n"
        },
        {
          "output_type": "display_data",
          "data": {
            "text/plain": "<Figure size 640x480 with 1 Axes>",
            "image/png": "[encoded data removed]"
          },
          "metadata": {}
        },
        {
          "output_type": "display_data",
          "data": {
            "text/plain": "<Figure size 640x480 with 1 Axes>",
            "image/png": "[encoded data removed]"
          },
          "metadata": {}
        }
      ],
      "execution_count": 30
    },
    {
      "id": "4e365527-747d-4a11-81a4-fc203b4fa094",
      "cell_type": "code",
      "source": "class Rectangle:\n\n    # constructor\n    def __init__(self, width=2, height=3, color=\"r\"):\n        self.width = width\n        self.height = height\n        self.color = color\n    # Method \n    def draw_rectangle (self):\n        plt.gca().add_patch(plt.Rectangle((0,0), self.width, self.height, fc=self.color))\n        plt.axis(\"scaled\")\n        plt.show()\n\ntall_blue_rectangle = Rectangle(2,3,\"blue\")\ntall_blue_rectangle.draw_rectangle()\n\nwide_yellow_rectangle = Rectangle(20, 5, \"yellow\")\nwide_yellow_rectangle.draw_rectangle()",
      "metadata": {
        "trusted": true
      },
      "outputs": [
        {
          "output_type": "display_data",
          "data": {
            "text/plain": "<Figure size 640x480 with 1 Axes>",
            "image/png": "[encoded data removed]"
          },
          "metadata": {}
        },
        {
          "output_type": "display_data",
          "data": {
            "text/plain": "<Figure size 640x480 with 1 Axes>",
            "image/png": "[encoded data removed]"
          },
          "metadata": {}
        }
      ],
      "execution_count": 29
    },
    {
      "id": "0f4b6b6a-9f8d-4b4b-88b4-019ed68f19ba",
      "cell_type": "code",
      "source": "class Vehicles:\n    \n    def __init__(self, maximum_speed, mileage, color = \"white\"):\n        self.maximum_speed = maximum_speed\n        self.mileage = mileage\n        self.color = color\n\n    def seating_capacity (self, seating_capacity):\n        self.seating_capacity = seating_capacity\n\n    def show_attributes (self):\n        return {\n            \"color\": self.color,\n            \"maximum_speed\": self.maximum_speed,\n            \"mileage\": self.mileage,\n            \"seating_capacity\": self.seating_capacity\n        }\n        \n\ncamry = Vehicles(120, 10, \"red\")\ncamry.color\ncamry.seating_capacity(4)\ncamry.seating_capacity\ncamry.show_attributes()\n\ncrown_victoria = Vehicles(200, 20)\ncrown_victoria.seating_capacity(5)\n\nhummer_h1 = Vehicles(180, 25)\nhummer_h1.seating_capacity(4)\n\nprint(hummer_h1.show_attributes(), crown_victoria.show_attributes())\n",
      "metadata": {
        "trusted": true
      },
      "outputs": [
        {
          "name": "stdout",
          "output_type": "stream",
          "text": "{'color': 'white', 'maximum_speed': 180, 'mileage': 25, 'seating_capacity': 4} {'color': 'white', 'maximum_speed': 200, 'mileage': 20, 'seating_capacity': 5}\n"
        }
      ],
      "execution_count": 28
    },
    {
      "id": "e10ef1cb-3a90-40a3-b9e8-a34a8570e00c",
      "cell_type": "code",
      "source": "given_string = \"Lorem ipsum dolor! diam amet, consetetur Lorem magna. sed diam nonumy eirmod tempor. diam et labore? et diam magna. et diam amet.\"\n\n# Create a class called text analyzer\nclass TextAnalyzer:\n    # Define the construtor function \n    def __init__(self, text):\n        # Make text lower case \n        self.text = text.lower()\n        # Remove commas, periods, exclamation marks, question marks\n        self.formatted_text = self.text.replace(\"!\", \"\").replace(\".\", \"\").replace(\",\", \"\").replace(\"?\", \"\")\n        # Create a method to add the words to a dict with the word as key and the count as value\n    def word_counter (self):\n        # Make a list of all words\n        word_list = self.formatted_text.split(\" \")\n        # Make an empty dictionary to track words and their count\n        word_counter_dict = {}\n        \n        for word in word_list:\n        # Add the word as a key in the dictionary and the value will be the counter\n            word_counter_dict[word] = word_counter_dict.get(word, 0) + 1\n        \n        return word_counter_dict\n        # Create a method to look for a word and |return the number of times it was mentioned\n    def frequency_of_word (self,word):\n        # import the dict of words \n        dict_of_words = self.word_counter()\n        frequency_of_word = dict_of_words.get(word, 0)\n        return frequency_of_word\n        \nreview = TextAnalyzer(\"Hello. ?wor?ld! wow name yasir, wwhat maybe, ! sky,, hello word word wordd hello\")        \ntest_2 = TextAnalyzer(given_string)\nprint(test_2.word_counter())\ntest_2.frequency_of_word(\"diam\")",
      "metadata": {
        "trusted": true
      },
      "outputs": [
        {
          "name": "stdout",
          "output_type": "stream",
          "text": "{'lorem': 2, 'ipsum': 1, 'dolor': 1, 'diam': 5, 'amet': 2, 'consetetur': 1, 'magna': 2, 'sed': 1, 'nonumy': 1, 'eirmod': 1, 'tempor': 1, 'et': 3, 'labore': 1}\n"
        },
        {
          "execution_count": 5,
          "output_type": "execute_result",
          "data": {
            "text/plain": "5"
          },
          "metadata": {}
        }
      ],
      "execution_count": 5
    },
    {
      "id": "35f768b0-266e-4c31-93e7-ea90c749b9ab",
      "cell_type": "code",
      "source": "name = \"YASIR\"\nname.lower()",
      "metadata": {
        "trusted": true
      },
      "outputs": [
        {
          "execution_count": 34,
          "output_type": "execute_result",
          "data": {
            "text/plain": "'yasir'"
          },
          "metadata": {}
        }
      ],
      "execution_count": 34
    },
    {
      "id": "e9578715-6b7d-4c04-9a64-276b076f5fac",
      "cell_type": "code",
      "source": "# given_string = \"Lorem ipsum dolor! diam amet, consetetur Lorem magna. sed diam nonumy eirmod tempor. diam et labore? et diam magna. et diam amet.\"\n\n# class TextAnalyzer:\n    \n#     def __init__(self,text):\n#         self.text = text.lower()\n        \n#     def word_counter (self):\n#         # r to make it raw string, [] character class: match any single charcter that's inside the rackets, a-z: matches lowercase letters a through z, A-Z: match Uppercase letters A through Z\n#         # ^ at the beginning means not so [^a-zA-Z] means \"anything that is NOT a letter\"\n#         cleaned_text_list = re.sub(r\"[^a-zA-Z]\", \" \", self.text).split()\n#         words_dict = {}\n\n#         for word in cleaned_text_list:\n#             # add the key and values + start counting \n#             words_dict[word] = words_dict.get(word, 0) + 1\n            \n#         return words_dict\n\n#     def word_count_finder (self, word):\n#         # Clean the coming word \n#         cleaned_word = re.sub(r\"[^a-zA-Z]\", \"\", word).lower()\n#         # Get the dict of words from the word_counter\n#         frequency_of_word_dict = self.word_counter()\n#         # find how many times the word was mentioned \n#         frequency_of_word = frequency_of_word_dict.get(cleaned_word,0)\n#         return frequency_of_word\n\n        \n# text_1 = TextAnalyzer(given_string)\n# text_1.word_counter()\n# text_1.word_count_finder(\"d3iam__\")\n# text_1.word_count_finder(\"aysir\")",
      "metadata": {
        "trusted": true
      },
      "outputs": [
        {
          "execution_count": 61,
          "output_type": "execute_result",
          "data": {
            "text/plain": "0"
          },
          "metadata": {}
        }
      ],
      "execution_count": 61
    },
    {
      "id": "1f4615a4-4661-4bec-a5d6-b058f09d1324",
      "cell_type": "code",
      "source": "given_string = \"Lorem ipsum dolor! diam amet, consetetur Lorem magna. sed diam nonumy eirmod tempor. diam et labore? et diam magna. et diam amet.\"\n\nclass TextAnalyzer:\n\n    def __init__(self, text):\n        self.text = text.lower()\n\n\n    def word_counter (self):\n        cleaned_text_list = re.sub(r\"[^a-zA-Z]\", \" \", self.text).split()\n        word_count_dict = {}\n\n        for word in cleaned_text_list:\n            word_count_dict[word] = word_count_dict.get(word, 0) + 1\n        return word_count_dict\n\n    def word_frequency (self, word):\n        cleaned_word = re.sub(r\"[^a-zA-Z]\", \"\", word.lower())\n        frequency_of_word = self.word_counter().get(cleaned_word, 0)\n\n        return frequency_of_word\n        \ntest_2 = TextAnalyzer(given_string)\nprint(test_2.word_counter())\ntest_2.word_frequency(\"d**ia3m\")",
      "metadata": {
        "trusted": true
      },
      "outputs": [
        {
          "name": "stdout",
          "output_type": "stream",
          "text": "{'lorem': 2, 'ipsum': 1, 'dolor': 1, 'diam': 5, 'amet': 2, 'consetetur': 1, 'magna': 2, 'sed': 1, 'nonumy': 1, 'eirmod': 1, 'tempor': 1, 'et': 3, 'labore': 1}\n"
        },
        {
          "execution_count": 76,
          "output_type": "execute_result",
          "data": {
            "text/plain": "5"
          },
          "metadata": {}
        }
      ],
      "execution_count": 76
    },
    {
      "id": "de070a5c-e0f2-4202-85c9-cf875546d0f4",
      "cell_type": "code",
      "source": "age = 20 \n10 <= age <= 40",
      "metadata": {
        "trusted": true
      },
      "outputs": [
        {
          "execution_count": 77,
          "output_type": "execute_result",
          "data": {
            "text/plain": "True"
          },
          "metadata": {}
        }
      ],
      "execution_count": 77
    },
    {
      "id": "4ae9cad4-9826-41a1-a6df-347af009994a",
      "cell_type": "code",
      "source": "sum([1,2])",
      "metadata": {
        "trusted": true
      },
      "outputs": [
        {
          "execution_count": 79,
          "output_type": "execute_result",
          "data": {
            "text/plain": "3"
          },
          "metadata": {}
        }
      ],
      "execution_count": 79
    },
    {
      "id": "cd3f6842-f0ce-421e-8bc7-478ba7ac9f99",
      "cell_type": "code",
      "source": "from pyodide.http import pyfetch\n\nimport pandas as pd\n\nfilename = \"https://cf-courses-data.s3.us.cloud-object-storage.appdomain.cloud/IBMDeveloperSkillsNetwork-PY0101EN-SkillsNetwork/labs/Module%204/data/example1.txt\"\n\nasync def download(url, filename):\n\n    response = await pyfetch(url)\n\n    if response.status == 200:\n\n        with open(filename, \"wb\") as f:\n\n            f.write(await response.bytes())\n\nawait download(filename, \"example1.txt\")\n\nprint(\"done\")",
      "metadata": {
        "trusted": true
      },
      "outputs": [
        {
          "name": "stdout",
          "output_type": "stream",
          "text": "done\n"
        }
      ],
      "execution_count": 81
    },
    {
      "id": "1c18c198-f360-41eb-833b-09be8787e20d",
      "cell_type": "code",
      "source": "# example1 = \"example1.txt\"\n# example2 = \"example2.txt\"\n# lines = [\"this is line 1 \\n\", \"this is line 2 \\n\", \"this is line 3 \\n\"]\n\n# # # with open(example1, \"w\") as file1:\n# #     for line in lines:\n# #         file1.write(line)\n    \n# with open(example1, \"r\") as source_file:\n#     with open(example2, \"w\") as destination_file:\n#         for line in source_file:\n#             destination_file.write(line)",
      "metadata": {
        "trusted": true
      },
      "outputs": [],
      "execution_count": 2
    },
    {
      "id": "f8756c66-679e-4c3b-a160-3091cd0ae038",
      "cell_type": "code",
      "source": "my_list = [\" 77551  2018-10-1  yes\"]\n\"no\" in my_list[0]\n",
      "metadata": {
        "trusted": true
      },
      "outputs": [
        {
          "execution_count": 15,
          "output_type": "execute_result",
          "data": {
            "text/plain": "False"
          },
          "metadata": {}
        }
      ],
      "execution_count": 15
    },
    {
      "id": "1b245b1b-4bb7-4876-9ca9-14f32e91431c",
      "cell_type": "code",
      "source": "data = [10,20,30,40,50]\ns = pd.Series(data)\nprint(s)",
      "metadata": {
        "trusted": true
      },
      "outputs": [
        {
          "name": "stdout",
          "output_type": "stream",
          "text": "0    10\n1    20\n2    30\n3    40\n4    50\ndtype: int64\n[10 20 30 40 50]\n"
        }
      ],
      "execution_count": 30
    },
    {
      "id": "deecefca-215f-45e8-9fcb-5cf1fbc7f8c5",
      "cell_type": "code",
      "source": "print(s.values)\nprint(s.index)\nprint(s.shape)\nprint(s.size)\nprint(s.mean(), s.sum(), s.min(), s.max())\nprint(s.unique(), s.nunique())\n# print(s.sort_values(), s.sort_index())\nprint(s.isnull(), s.notnull())\n# s.apply()",
      "metadata": {
        "trusted": true
      },
      "outputs": [
        {
          "name": "stdout",
          "output_type": "stream",
          "text": "[10 20 30 40 50]\nRangeIndex(start=0, stop=5, step=1)\n(5,)\n5\n30.0 150 10 50\n[10 20 30 40 50] 5\n0    False\n1    False\n2    False\n3    False\n4    False\ndtype: bool 0    True\n1    True\n2    True\n3    True\n4    True\ndtype: bool\n"
        }
      ],
      "execution_count": 52
    },
    {
      "id": "6fe5566e-106f-4903-a841-b1d2e16e2669",
      "cell_type": "code",
      "source": "data = {\n    \"names\": [\"yasir\", \"faisal\", \"john\", \"ahmed\", \"rick\"],\n    \"ages\": [60, 30, 44, 25, 59],\n    \"occupations\": [\"data analyst\", \"police officer\", \"doctor\", \"firefighter\", \"programmer\"],\n    \"hoppies\": [\"football\", \"football\", \"basketball\", \"volleyball\", \"racing\"]\n}\ndf = pd.DataFrame(data)\nprint(df)",
      "metadata": {
        "trusted": true
      },
      "outputs": [
        {
          "name": "stdout",
          "output_type": "stream",
          "text": "    names  ages     occupations     hoppies\n0   yasir    60    data analyst    football\n1  faisal    30  police officer    football\n2    john    44          doctor  basketball\n3   ahmed    25     firefighter  volleyball\n4    rick    59      programmer      racing\n"
        }
      ],
      "execution_count": 101
    },
    {
      "id": "d4ca2462-0540-4030-af0a-01b5357bacae",
      "cell_type": "code",
      "source": "# to access column \nprint(df[\"names\"], \"\\n\",  df[\"hoppies\"])",
      "metadata": {
        "trusted": true
      },
      "outputs": [
        {
          "name": "stdout",
          "output_type": "stream",
          "text": "0     yasir\n1    faisal\n2      john\n3     ahmed\n4      rick\nName: names, dtype: object \n 0      football\n1      football\n2    basketball\n3    volleyball\n4        racing\nName: hoppies, dtype: object\n"
        }
      ],
      "execution_count": 102
    },
    {
      "id": "3cfccf77-761c-4927-b1bf-5f7a7ef983a8",
      "cell_type": "code",
      "source": "# to access rows \nprint(df.iloc[0:2])\nprint(\"________________________________________________\")\nprint(df.iloc[2])",
      "metadata": {
        "trusted": true
      },
      "outputs": [
        {
          "name": "stdout",
          "output_type": "stream",
          "text": "    names  ages     occupations   hoppies\n0   yasir    60    data analyst  football\n1  faisal    30  police officer  football\n________________________________________________\nnames                john\nages                   44\noccupations        doctor\nhoppies        basketball\nName: 2, dtype: object\n"
        }
      ],
      "execution_count": 103
    },
    {
      "id": "bf2d31ee-ea7c-4c29-95e6-e5937fec7345",
      "cell_type": "code",
      "source": "# slicing \nprint(df[[\"names\", \"occupations\"]])\nprint(\"_______________________________________\")\nprint(df[[\"names\", \"ages\"]])",
      "metadata": {
        "trusted": true
      },
      "outputs": [
        {
          "name": "stdout",
          "output_type": "stream",
          "text": "    names     occupations\n0   yasir    data analyst\n1  faisal  police officer\n2    john          doctor\n3   ahmed     firefighter\n4    rick      programmer\n_______________________________________\n    names  ages\n0   yasir    60\n1  faisal    50\n2    john    40\n3   ahmed    80\n4    rick    99\n"
        }
      ],
      "execution_count": 75
    },
    {
      "id": "e11088db-c6be-4b88-bb88-ccea908543f8",
      "cell_type": "code",
      "source": "# using methods \nprint(f\"The age of the oldest person is the group is {df[\"ages\"].max()}\")\nprint(\"_______________________________________________\", \"\\n\")\n# conditional filtering \nyoung = df[df[\"ages\"] < 50]\nprint(young)",
      "metadata": {
        "trusted": true
      },
      "outputs": [
        {
          "name": "stdout",
          "output_type": "stream",
          "text": "The age of the oldest person is the group is 60\n_______________________________________________ \n\n    names  ages     occupations     hoppies\n1  faisal    30  police officer    football\n2    john    44          doctor  basketball\n3   ahmed    25     firefighter  volleyball\n"
        }
      ],
      "execution_count": 104
    },
    {
      "id": "dba0c71a-85c2-4358-8207-097a98f38c22",
      "cell_type": "code",
      "source": "df.to_csv(\"people_data.csv\", index = False)",
      "metadata": {
        "trusted": true
      },
      "outputs": [],
      "execution_count": 105
    },
    {
      "id": "7120f221-23c7-4f50-9bda-10a0abb164b0",
      "cell_type": "code",
      "source": "iris_df = pd.read_csv(\"iris.csv\")\niris_df",
      "metadata": {
        "trusted": true
      },
      "outputs": [
        {
          "execution_count": 4,
          "output_type": "execute_result",
          "data": {
            "text/plain": "     sepal_length  sepal_width  petal_length  petal_width    species\n0             5.1          3.5           1.4          0.2     setosa\n1             4.9          3.0           1.4          0.2     setosa\n2             4.7          3.2           1.3          0.2     setosa\n3             4.6          3.1           1.5          0.2     setosa\n4             5.0          3.6           1.4          0.2     setosa\n..            ...          ...           ...          ...        ...\n145           6.7          3.0           5.2          2.3  virginica\n146           6.3          2.5           5.0          1.9  virginica\n147           6.5          3.0           5.2          2.0  virginica\n148           6.2          3.4           5.4          2.3  virginica\n149           5.9          3.0           5.1          1.8  virginica\n\n[150 rows x 5 columns]",
            "text/html": "<div>\n<style scoped>\n    .dataframe tbody tr th:only-of-type {\n        vertical-align: middle;\n    }\n\n    .dataframe tbody tr th {\n        vertical-align: top;\n    }\n\n    .dataframe thead th {\n        text-align: right;\n    }\n</style>\n<table border=\"1\" class=\"dataframe\">\n  <thead>\n    <tr style=\"text-align: right;\">\n      <th></th>\n      <th>sepal_length</th>\n      <th>sepal_width</th>\n      <th>petal_length</th>\n      <th>petal_width</th>\n      <th>species</th>\n    </tr>\n  </thead>\n  <tbody>\n    <tr>\n      <th>0</th>\n      <td>5.1</td>\n      <td>3.5</td>\n      <td>1.4</td>\n      <td>0.2</td>\n      <td>setosa</td>\n    </tr>\n    <tr>\n      <th>1</th>\n      <td>4.9</td>\n      <td>3.0</td>\n      <td>1.4</td>\n      <td>0.2</td>\n      <td>setosa</td>\n    </tr>\n    <tr>\n      <th>2</th>\n      <td>4.7</td>\n      <td>3.2</td>\n      <td>1.3</td>\n      <td>0.2</td>\n      <td>setosa</td>\n    </tr>\n    <tr>\n      <th>3</th>\n      <td>4.6</td>\n      <td>3.1</td>\n      <td>1.5</td>\n      <td>0.2</td>\n      <td>setosa</td>\n    </tr>\n    <tr>\n      <th>4</th>\n      <td>5.0</td>\n      <td>3.6</td>\n      <td>1.4</td>\n      <td>0.2</td>\n      <td>setosa</td>\n    </tr>\n    <tr>\n      <th>...</th>\n      <td>...</td>\n      <td>...</td>\n      <td>...</td>\n      <td>...</td>\n      <td>...</td>\n    </tr>\n    <tr>\n      <th>145</th>\n      <td>6.7</td>\n      <td>3.0</td>\n      <td>5.2</td>\n      <td>2.3</td>\n      <td>virginica</td>\n    </tr>\n    <tr>\n      <th>146</th>\n      <td>6.3</td>\n      <td>2.5</td>\n      <td>5.0</td>\n      <td>1.9</td>\n      <td>virginica</td>\n    </tr>\n    <tr>\n      <th>147</th>\n      <td>6.5</td>\n      <td>3.0</td>\n      <td>5.2</td>\n      <td>2.0</td>\n      <td>virginica</td>\n    </tr>\n    <tr>\n      <th>148</th>\n      <td>6.2</td>\n      <td>3.4</td>\n      <td>5.4</td>\n      <td>2.3</td>\n      <td>virginica</td>\n    </tr>\n    <tr>\n      <th>149</th>\n      <td>5.9</td>\n      <td>3.0</td>\n      <td>5.1</td>\n      <td>1.8</td>\n      <td>virginica</td>\n    </tr>\n  </tbody>\n</table>\n<p>150 rows × 5 columns</p>\n</div>"
          },
          "metadata": {}
        }
      ],
      "execution_count": 4
    },
    {
      "id": "96c57948-a3c1-4b0f-84f0-d42da0c071ec",
      "cell_type": "code",
      "source": "iris_df[[\"sepal_length\", \"species\"]]",
      "metadata": {
        "trusted": true
      },
      "outputs": [
        {
          "execution_count": 11,
          "output_type": "execute_result",
          "data": {
            "text/plain": "     sepal_length    species\n0             5.1     setosa\n1             4.9     setosa\n2             4.7     setosa\n3             4.6     setosa\n4             5.0     setosa\n..            ...        ...\n145           6.7  virginica\n146           6.3  virginica\n147           6.5  virginica\n148           6.2  virginica\n149           5.9  virginica\n\n[150 rows x 2 columns]",
            "text/html": "<div>\n<style scoped>\n    .dataframe tbody tr th:only-of-type {\n        vertical-align: middle;\n    }\n\n    .dataframe tbody tr th {\n        vertical-align: top;\n    }\n\n    .dataframe thead th {\n        text-align: right;\n    }\n</style>\n<table border=\"1\" class=\"dataframe\">\n  <thead>\n    <tr style=\"text-align: right;\">\n      <th></th>\n      <th>sepal_length</th>\n      <th>species</th>\n    </tr>\n  </thead>\n  <tbody>\n    <tr>\n      <th>0</th>\n      <td>5.1</td>\n      <td>setosa</td>\n    </tr>\n    <tr>\n      <th>1</th>\n      <td>4.9</td>\n      <td>setosa</td>\n    </tr>\n    <tr>\n      <th>2</th>\n      <td>4.7</td>\n      <td>setosa</td>\n    </tr>\n    <tr>\n      <th>3</th>\n      <td>4.6</td>\n      <td>setosa</td>\n    </tr>\n    <tr>\n      <th>4</th>\n      <td>5.0</td>\n      <td>setosa</td>\n    </tr>\n    <tr>\n      <th>...</th>\n      <td>...</td>\n      <td>...</td>\n    </tr>\n    <tr>\n      <th>145</th>\n      <td>6.7</td>\n      <td>virginica</td>\n    </tr>\n    <tr>\n      <th>146</th>\n      <td>6.3</td>\n      <td>virginica</td>\n    </tr>\n    <tr>\n      <th>147</th>\n      <td>6.5</td>\n      <td>virginica</td>\n    </tr>\n    <tr>\n      <th>148</th>\n      <td>6.2</td>\n      <td>virginica</td>\n    </tr>\n    <tr>\n      <th>149</th>\n      <td>5.9</td>\n      <td>virginica</td>\n    </tr>\n  </tbody>\n</table>\n<p>150 rows × 2 columns</p>\n</div>"
          },
          "metadata": {}
        }
      ],
      "execution_count": 11
    },
    {
      "id": "bc17cbe7-0326-4f3e-a1d9-ff98e3847e89",
      "cell_type": "code",
      "source": "iris_df.loc[:, [\"sepal_length\", \"sepal_width\", \"species\"]]",
      "metadata": {
        "trusted": true
      },
      "outputs": [
        {
          "execution_count": 20,
          "output_type": "execute_result",
          "data": {
            "text/plain": "     sepal_length  sepal_width    species\n0             5.1          3.5     setosa\n1             4.9          3.0     setosa\n2             4.7          3.2     setosa\n3             4.6          3.1     setosa\n4             5.0          3.6     setosa\n..            ...          ...        ...\n145           6.7          3.0  virginica\n146           6.3          2.5  virginica\n147           6.5          3.0  virginica\n148           6.2          3.4  virginica\n149           5.9          3.0  virginica\n\n[150 rows x 3 columns]",
            "text/html": "<div>\n<style scoped>\n    .dataframe tbody tr th:only-of-type {\n        vertical-align: middle;\n    }\n\n    .dataframe tbody tr th {\n        vertical-align: top;\n    }\n\n    .dataframe thead th {\n        text-align: right;\n    }\n</style>\n<table border=\"1\" class=\"dataframe\">\n  <thead>\n    <tr style=\"text-align: right;\">\n      <th></th>\n      <th>sepal_length</th>\n      <th>sepal_width</th>\n      <th>species</th>\n    </tr>\n  </thead>\n  <tbody>\n    <tr>\n      <th>0</th>\n      <td>5.1</td>\n      <td>3.5</td>\n      <td>setosa</td>\n    </tr>\n    <tr>\n      <th>1</th>\n      <td>4.9</td>\n      <td>3.0</td>\n      <td>setosa</td>\n    </tr>\n    <tr>\n      <th>2</th>\n      <td>4.7</td>\n      <td>3.2</td>\n      <td>setosa</td>\n    </tr>\n    <tr>\n      <th>3</th>\n      <td>4.6</td>\n      <td>3.1</td>\n      <td>setosa</td>\n    </tr>\n    <tr>\n      <th>4</th>\n      <td>5.0</td>\n      <td>3.6</td>\n      <td>setosa</td>\n    </tr>\n    <tr>\n      <th>...</th>\n      <td>...</td>\n      <td>...</td>\n      <td>...</td>\n    </tr>\n    <tr>\n      <th>145</th>\n      <td>6.7</td>\n      <td>3.0</td>\n      <td>virginica</td>\n    </tr>\n    <tr>\n      <th>146</th>\n      <td>6.3</td>\n      <td>2.5</td>\n      <td>virginica</td>\n    </tr>\n    <tr>\n      <th>147</th>\n      <td>6.5</td>\n      <td>3.0</td>\n      <td>virginica</td>\n    </tr>\n    <tr>\n      <th>148</th>\n      <td>6.2</td>\n      <td>3.4</td>\n      <td>virginica</td>\n    </tr>\n    <tr>\n      <th>149</th>\n      <td>5.9</td>\n      <td>3.0</td>\n      <td>virginica</td>\n    </tr>\n  </tbody>\n</table>\n<p>150 rows × 3 columns</p>\n</div>"
          },
          "metadata": {}
        }
      ],
      "execution_count": 20
    },
    {
      "id": "496f02bc-491d-485d-9f98-45b48da5729d",
      "cell_type": "code",
      "source": "iris_df[0:5]",
      "metadata": {
        "trusted": true
      },
      "outputs": [
        {
          "execution_count": 6,
          "output_type": "execute_result",
          "data": {
            "text/plain": "   sepal_length  sepal_width  petal_length  petal_width species\n0           5.1          3.5           1.4          0.2  setosa\n1           4.9          3.0           1.4          0.2  setosa\n2           4.7          3.2           1.3          0.2  setosa\n3           4.6          3.1           1.5          0.2  setosa\n4           5.0          3.6           1.4          0.2  setosa",
            "text/html": "<div>\n<style scoped>\n    .dataframe tbody tr th:only-of-type {\n        vertical-align: middle;\n    }\n\n    .dataframe tbody tr th {\n        vertical-align: top;\n    }\n\n    .dataframe thead th {\n        text-align: right;\n    }\n</style>\n<table border=\"1\" class=\"dataframe\">\n  <thead>\n    <tr style=\"text-align: right;\">\n      <th></th>\n      <th>sepal_length</th>\n      <th>sepal_width</th>\n      <th>petal_length</th>\n      <th>petal_width</th>\n      <th>species</th>\n    </tr>\n  </thead>\n  <tbody>\n    <tr>\n      <th>0</th>\n      <td>5.1</td>\n      <td>3.5</td>\n      <td>1.4</td>\n      <td>0.2</td>\n      <td>setosa</td>\n    </tr>\n    <tr>\n      <th>1</th>\n      <td>4.9</td>\n      <td>3.0</td>\n      <td>1.4</td>\n      <td>0.2</td>\n      <td>setosa</td>\n    </tr>\n    <tr>\n      <th>2</th>\n      <td>4.7</td>\n      <td>3.2</td>\n      <td>1.3</td>\n      <td>0.2</td>\n      <td>setosa</td>\n    </tr>\n    <tr>\n      <th>3</th>\n      <td>4.6</td>\n      <td>3.1</td>\n      <td>1.5</td>\n      <td>0.2</td>\n      <td>setosa</td>\n    </tr>\n    <tr>\n      <th>4</th>\n      <td>5.0</td>\n      <td>3.6</td>\n      <td>1.4</td>\n      <td>0.2</td>\n      <td>setosa</td>\n    </tr>\n  </tbody>\n</table>\n</div>"
          },
          "metadata": {}
        }
      ],
      "execution_count": 6
    },
    {
      "id": "7ba28a1f-5ea8-4c91-b964-630bd438a1fc",
      "cell_type": "code",
      "source": "iris_df.loc[iris_df[\"sepal_length\"] > 4.9, [\"sepal_length\", \"species\"]].head(2)",
      "metadata": {
        "trusted": true
      },
      "outputs": [
        {
          "execution_count": 7,
          "output_type": "execute_result",
          "data": {
            "text/plain": "   sepal_length species\n0           5.1  setosa\n4           5.0  setosa",
            "text/html": "<div>\n<style scoped>\n    .dataframe tbody tr th:only-of-type {\n        vertical-align: middle;\n    }\n\n    .dataframe tbody tr th {\n        vertical-align: top;\n    }\n\n    .dataframe thead th {\n        text-align: right;\n    }\n</style>\n<table border=\"1\" class=\"dataframe\">\n  <thead>\n    <tr style=\"text-align: right;\">\n      <th></th>\n      <th>sepal_length</th>\n      <th>species</th>\n    </tr>\n  </thead>\n  <tbody>\n    <tr>\n      <th>0</th>\n      <td>5.1</td>\n      <td>setosa</td>\n    </tr>\n    <tr>\n      <th>4</th>\n      <td>5.0</td>\n      <td>setosa</td>\n    </tr>\n  </tbody>\n</table>\n</div>"
          },
          "metadata": {}
        }
      ],
      "execution_count": 7
    },
    {
      "id": "c090f56a-81c1-4ccd-bd83-1c2f8a122838",
      "cell_type": "code",
      "source": "sepal_length_per_specie = iris_df.groupby(\"species\")[\"sepal_length\"].mean()\nprint(sepal_length_per_specie)\nprint(\"__________________________________________\")\nprint(iris_df.groupby(\"species\")[\"sepal_width\"].median())\nprint(\"__________________________________________\")\nprint(iris_df.groupby(\"species\")[\"petal_length\"].mean())\nprint(\"___________________________________________\")\nprint(iris_df.groupby(\"species\")[[\"sepal_length\", \"sepal_width\"]].mean())\nprint(\"___________________________________________\")\nprint(iris_df.groupby(\"species\")[[\"petal_length\", \"petal_width\"]].median())\nprint(\"___________________________________________\")\nprint(iris_df.groupby(\"species\")[\"petal_length\"].agg([\"min\", \"max\", \"mean\"]), \"\\n\" , \"            petal_length\")",
      "metadata": {
        "trusted": true
      },
      "outputs": [
        {
          "name": "stdout",
          "output_type": "stream",
          "text": "species\nsetosa        5.006\nversicolor    5.936\nvirginica     6.588\nName: sepal_length, dtype: float64\n__________________________________________\nspecies\nsetosa        3.4\nversicolor    2.8\nvirginica     3.0\nName: sepal_width, dtype: float64\n__________________________________________\nspecies\nsetosa        1.462\nversicolor    4.260\nvirginica     5.552\nName: petal_length, dtype: float64\n___________________________________________\n            sepal_length  sepal_width\nspecies                              \nsetosa             5.006        3.428\nversicolor         5.936        2.770\nvirginica          6.588        2.974\n___________________________________________\n            petal_length  petal_width\nspecies                              \nsetosa              1.50          0.2\nversicolor          4.35          1.3\nvirginica           5.55          2.0\n___________________________________________\n            min  max   mean\nspecies                    \nsetosa      1.0  1.9  1.462\nversicolor  3.0  5.1  4.260\nvirginica   4.5  6.9  5.552 \n             petal_length\n"
        }
      ],
      "execution_count": 50
    },
    {
      "id": "c6184c53-695a-486f-9cab-24a267bbf860",
      "cell_type": "code",
      "source": "iris_df.groupby(\"species\")[\"sepal_width\"].agg(lambda x: x.mode().iloc[0])",
      "metadata": {
        "trusted": true
      },
      "outputs": [
        {
          "execution_count": 57,
          "output_type": "execute_result",
          "data": {
            "text/plain": "species\nsetosa        3.4\nversicolor    3.0\nvirginica     3.0\nName: sepal_width, dtype: float64"
          },
          "metadata": {}
        }
      ],
      "execution_count": 57
    },
    {
      "id": "6b8a27bc-612a-410e-b668-dde9634e7d1b",
      "cell_type": "code",
      "source": "# Practice question \n# Find the average petal length for each species.\navg_pl_by_species = iris_df.groupby(\"species\")[\"petal_length\"].mean()\nprint(avg_pl_by_species)\nprint(\"\\n\",\"____________________________________________\", \"\\n\")\n# Find the average sepal length and sepal width for each species.\n\navg_slw_by_species = iris_df.groupby(\"species\")[[\"sepal_length\", \"sepal_width\"]].mean()\nprint(avg_slw_by_species)\nprint(\"\\n\",\"____________________________________________\", \"\\n\")\n# For each species, get the minimum, maximum, and mean of petal length.\nmin_max_mean_by_species = iris_df.groupby(\"species\")[\"petal_length\"].agg([\"min\", \"max\", \"mean\"])\nprint(min_max_mean_by_species)\nprint(\"\\n\",\"____________________________________________\", \"\\n\")\n# For each species, return the first mode of sepal width.\nsw_mod_by_specie = iris_df.groupby(\"species\")[\"sepal_width\"].agg(lambda x: x.mode().iloc[0])\nprint(sw_mod_by_specie)\nprint(\"\\n\",\"____________________________________________\", \"\\n\")\n#Count how many rows belong to each species.\nrows_by_species = iris_df.groupby(\"species\").size()\nprint(rows_by_species)",
      "metadata": {
        "trusted": true
      },
      "outputs": [
        {
          "name": "stdout",
          "output_type": "stream",
          "text": "species\nsetosa        1.462\nversicolor    4.260\nvirginica     5.552\nName: petal_length, dtype: float64\n\n ____________________________________________ \n\n            sepal_length  sepal_width\nspecies                              \nsetosa             5.006        3.428\nversicolor         5.936        2.770\nvirginica          6.588        2.974\n\n ____________________________________________ \n\n            min  max   mean\nspecies                    \nsetosa      1.0  1.9  1.462\nversicolor  3.0  5.1  4.260\nvirginica   4.5  6.9  5.552\n\n ____________________________________________ \n\nspecies\nsetosa        3.4\nversicolor    3.0\nvirginica     3.0\nName: sepal_width, dtype: float64\n\n ____________________________________________ \n\nspecies\nsetosa        50\nversicolor    50\nvirginica     50\ndtype: int64\n"
        }
      ],
      "execution_count": 94
    },
    {
      "id": "e6b9cf45-38fb-4310-92f3-e9aa1e66cc7f",
      "cell_type": "code",
      "source": "titanic_df = pd.read_csv(\"titanic.csv\")\ntitanic_df",
      "metadata": {
        "trusted": true
      },
      "outputs": [
        {
          "execution_count": 95,
          "output_type": "execute_result",
          "data": {
            "text/plain": "     PassengerId  Survived  Pclass  \\\n0              1         0       3   \n1              2         1       1   \n2              3         1       3   \n3              4         1       1   \n4              5         0       3   \n..           ...       ...     ...   \n886          887         0       2   \n887          888         1       1   \n888          889         0       3   \n889          890         1       1   \n890          891         0       3   \n\n                                                  Name     Sex   Age  SibSp  \\\n0                              Braund, Mr. Owen Harris    male  22.0      1   \n1    Cumings, Mrs. John Bradley (Florence Briggs Th...  female  38.0      1   \n2                               Heikkinen, Miss. Laina  female  26.0      0   \n3         Futrelle, Mrs. Jacques Heath (Lily May Peel)  female  35.0      1   \n4                             Allen, Mr. William Henry    male  35.0      0   \n..                                                 ...     ...   ...    ...   \n886                              Montvila, Rev. Juozas    male  27.0      0   \n887                       Graham, Miss. Margaret Edith  female  19.0      0   \n888           Johnston, Miss. Catherine Helen \"Carrie\"  female   NaN      1   \n889                              Behr, Mr. Karl Howell    male  26.0      0   \n890                                Dooley, Mr. Patrick    male  32.0      0   \n\n     Parch            Ticket     Fare Cabin Embarked  \n0        0         A/5 21171   7.2500   NaN        S  \n1        0          PC 17599  71.2833   C85        C  \n2        0  STON/O2. 3101282   7.9250   NaN        S  \n3        0            113803  53.1000  C123        S  \n4        0            373450   8.0500   NaN        S  \n..     ...               ...      ...   ...      ...  \n886      0            211536  13.0000   NaN        S  \n887      0            112053  30.0000   B42        S  \n888      2        W./C. 6607  23.4500   NaN        S  \n889      0            111369  30.0000  C148        C  \n890      0            370376   7.7500   NaN        Q  \n\n[891 rows x 12 columns]",
            "text/html": "<div>\n<style scoped>\n    .dataframe tbody tr th:only-of-type {\n        vertical-align: middle;\n    }\n\n    .dataframe tbody tr th {\n        vertical-align: top;\n    }\n\n    .dataframe thead th {\n        text-align: right;\n    }\n</style>\n<table border=\"1\" class=\"dataframe\">\n  <thead>\n    <tr style=\"text-align: right;\">\n      <th></th>\n      <th>PassengerId</th>\n      <th>Survived</th>\n      <th>Pclass</th>\n      <th>Name</th>\n      <th>Sex</th>\n      <th>Age</th>\n      <th>SibSp</th>\n      <th>Parch</th>\n      <th>Ticket</th>\n      <th>Fare</th>\n      <th>Cabin</th>\n      <th>Embarked</th>\n    </tr>\n  </thead>\n  <tbody>\n    <tr>\n      <th>0</th>\n      <td>1</td>\n      <td>0</td>\n      <td>3</td>\n      <td>Braund, Mr. Owen Harris</td>\n      <td>male</td>\n      <td>22.0</td>\n      <td>1</td>\n      <td>0</td>\n      <td>A/5 21171</td>\n      <td>7.2500</td>\n      <td>NaN</td>\n      <td>S</td>\n    </tr>\n    <tr>\n      <th>1</th>\n      <td>2</td>\n      <td>1</td>\n      <td>1</td>\n      <td>Cumings, Mrs. John Bradley (Florence Briggs Th...</td>\n      <td>female</td>\n      <td>38.0</td>\n      <td>1</td>\n      <td>0</td>\n      <td>PC 17599</td>\n      <td>71.2833</td>\n      <td>C85</td>\n      <td>C</td>\n    </tr>\n    <tr>\n      <th>2</th>\n      <td>3</td>\n      <td>1</td>\n      <td>3</td>\n      <td>Heikkinen, Miss. Laina</td>\n      <td>female</td>\n      <td>26.0</td>\n      <td>0</td>\n      <td>0</td>\n      <td>STON/O2. 3101282</td>\n      <td>7.9250</td>\n      <td>NaN</td>\n      <td>S</td>\n    </tr>\n    <tr>\n      <th>3</th>\n      <td>4</td>\n      <td>1</td>\n      <td>1</td>\n      <td>Futrelle, Mrs. Jacques Heath (Lily May Peel)</td>\n      <td>female</td>\n      <td>35.0</td>\n      <td>1</td>\n      <td>0</td>\n      <td>113803</td>\n      <td>53.1000</td>\n      <td>C123</td>\n      <td>S</td>\n    </tr>\n    <tr>\n      <th>4</th>\n      <td>5</td>\n      <td>0</td>\n      <td>3</td>\n      <td>Allen, Mr. William Henry</td>\n      <td>male</td>\n      <td>35.0</td>\n      <td>0</td>\n      <td>0</td>\n      <td>373450</td>\n      <td>8.0500</td>\n      <td>NaN</td>\n      <td>S</td>\n    </tr>\n    <tr>\n      <th>...</th>\n      <td>...</td>\n      <td>...</td>\n      <td>...</td>\n      <td>...</td>\n      <td>...</td>\n      <td>...</td>\n      <td>...</td>\n      <td>...</td>\n      <td>...</td>\n      <td>...</td>\n      <td>...</td>\n      <td>...</td>\n    </tr>\n    <tr>\n      <th>886</th>\n      <td>887</td>\n      <td>0</td>\n      <td>2</td>\n      <td>Montvila, Rev. Juozas</td>\n      <td>male</td>\n      <td>27.0</td>\n      <td>0</td>\n      <td>0</td>\n      <td>211536</td>\n      <td>13.0000</td>\n      <td>NaN</td>\n      <td>S</td>\n    </tr>\n    <tr>\n      <th>887</th>\n      <td>888</td>\n      <td>1</td>\n      <td>1</td>\n      <td>Graham, Miss. Margaret Edith</td>\n      <td>female</td>\n      <td>19.0</td>\n      <td>0</td>\n      <td>0</td>\n      <td>112053</td>\n      <td>30.0000</td>\n      <td>B42</td>\n      <td>S</td>\n    </tr>\n    <tr>\n      <th>888</th>\n      <td>889</td>\n      <td>0</td>\n      <td>3</td>\n      <td>Johnston, Miss. Catherine Helen \"Carrie\"</td>\n      <td>female</td>\n      <td>NaN</td>\n      <td>1</td>\n      <td>2</td>\n      <td>W./C. 6607</td>\n      <td>23.4500</td>\n      <td>NaN</td>\n      <td>S</td>\n    </tr>\n    <tr>\n      <th>889</th>\n      <td>890</td>\n      <td>1</td>\n      <td>1</td>\n      <td>Behr, Mr. Karl Howell</td>\n      <td>male</td>\n      <td>26.0</td>\n      <td>0</td>\n      <td>0</td>\n      <td>111369</td>\n      <td>30.0000</td>\n      <td>C148</td>\n      <td>C</td>\n    </tr>\n    <tr>\n      <th>890</th>\n      <td>891</td>\n      <td>0</td>\n      <td>3</td>\n      <td>Dooley, Mr. Patrick</td>\n      <td>male</td>\n      <td>32.0</td>\n      <td>0</td>\n      <td>0</td>\n      <td>370376</td>\n      <td>7.7500</td>\n      <td>NaN</td>\n      <td>Q</td>\n    </tr>\n  </tbody>\n</table>\n<p>891 rows × 12 columns</p>\n</div>"
          },
          "metadata": {}
        }
      ],
      "execution_count": 95
    },
    {
      "id": "a9aa512c-122f-467e-bb4a-d477240f4aa8",
      "cell_type": "code",
      "source": "titanic_df[[\"Name\", \"Sex\"]]\nmale_passengers = len(titanic_df[titanic_df[\"Sex\"] == \"male\"])\nfemale_passengers = (titanic_df[\"Sex\"] == \"female\").sum()\nprint(f\"there was {female_passengers} female passengers and {male_passengers} male passengers\", \"\\n\" , f\"The total was {female_passengers + male_passengers}\")\noldest_passenger = titanic_df[\"Age\"].max()\nyoungest_passenger = titanic_df[\"Age\"].min() * 12\navg_passenger_age = titanic_df[\"Age\"].mean()\nnum_of_survivors = (titanic_df[\"Survived\"] == 1).sum()\nnum_of_female_survivors = ((titanic_df[\"Sex\"] == \"female\") & (titanic_df[\"Survived\"] == 1)).sum()\nnum_of_male_survivors = ((titanic_df[\"Sex\"] == \"male\") & (titanic_df[\"Survived\"] == 1)).sum()\nsurvivors_by_sex = titanic_df.groupby(\"Sex\")[\"Survived\"].sum()\nmale_survival_rate = survivors_by_sex.get(\"male\", 0) / male_passengers if male_passengers else float(\"nan\")\nfemale_survival_rate = survivors_by_sex.get(\"female\", 0) / female_passengers if female_passengers else float(\"nan\")\n\n\n\nprint(\"\\n\", \"______________________________________________\" ,\"\\n\")\nprint(f\"The oldest passenger was {int(oldest_passenger)} years old\")\nprint(\"\\n\", \"______________________________________________\" ,\"\\n\")\nprint(f\"The youngest passenger was {int(youngest_passenger)} months old\")\nprint(\"\\n\", \"______________________________________________\" ,\"\\n\")\nprint(f\"Average age was: {int(avg_passenger_age)} \")\nprint(\"\\n\", \"______________________________________________\" ,\"\\n\")\nprint(f\"The number of people who survived the tragedy is {num_of_survivors}\")\nprint(\"\\n\", \"______________________________________________\" ,\"\\n\")\nprint(f\"The number of females who survived the tragedy is {num_of_female_survivors}\")\nprint(\"\\n\", \"______________________________________________\" ,\"\\n\")\nprint(f\"The number of males who survived the tragedy is {num_of_male_survivors}\")\nprint(\"\\n\", \"______________________________________________\" ,\"\\n\")\nprint(f\"The percentage of survivors who are males {(int((num_of_male_survivors/num_of_survivors) * 100))}%\")\nprint(\"\\n\", \"______________________________________________\" ,\"\\n\")\nprint(f\"The percentage of survivors who are females {(int((num_of_female_survivors/num_of_survivors) * 100))}%\")\nprint(\"\\n\", \"______________________________________________\" ,\"\\n\")\nprint(f\"male survival rate is {Decimal(male_survival_rate * 100).quantize(Decimal(\"0.00\"), rounding = ROUND_DOWN)} and female survival rate is {Decimal(female_survival_rate * 100).quantize(Decimal(\"0.00\"), rounding=ROUND_DOWN)}\")",
      "metadata": {
        "trusted": true
      },
      "outputs": [
        {
          "name": "stdout",
          "output_type": "stream",
          "text": "there was 314 female passengers and 577 male passengers \n The total was 891\n\n ______________________________________________ \n\nThe oldest passenger was 80 years old\n\n ______________________________________________ \n\nThe youngest passenger was 5 months old\n\n ______________________________________________ \n\nAverage age was: 29 \n\n ______________________________________________ \n\nThe number of people who survived the tragedy is 342\n\n ______________________________________________ \n\nThe number of females who survived the tragedy is 233\n\n ______________________________________________ \n\nThe number of males who survived the tragedy is 109\n\n ______________________________________________ \n\nThe percentage of survivors who are males 31%\n\n ______________________________________________ \n\nThe percentage of survivors who are females 68%\n\n ______________________________________________ \n\nmale survival rate is 18.89 and female survival rate is 74.20\n"
        }
      ],
      "execution_count": 206
    },
    {
      "id": "7301f90f-7225-4bed-aee1-a0ddf6efbf8c",
      "cell_type": "code",
      "source": "",
      "metadata": {
        "trusted": true
      },
      "outputs": [],
      "execution_count": null
    },
    {
      "id": "68835fa8-5073-4241-b9f0-4e8b063f3fe5",
      "cell_type": "code",
      "source": "# Vectors operations using numpy\n\n# Adding vectors \nu= np.array([1,0])\nv = np.array([0,1])\nz = u + v \n\nprint(\"adding vectors:\" , z)\n# subtracting vectors \nu= np.array([1,0])\nv = np.array([0,1])\nz = u - v \nprint(\"Subtracting vectors:\", z)\n# Muliplying by a scaler\ny = np.array([1,2])\nx = y*2\nprint(\"Multiplying by a scaler:\", x)\n# Product of two numpy arrays \nf = np.array([1,2])\ng = np.array([3,2])\nr = f*g\nprint(\"Product of two arrays:\", r)\n# Dot product \nu = np.array([1,2])\nv = np.array([3,1])\nresults = np.dot(u,v)\nprint(\"Dot productd:\", results)\n# Adding constant to a numpy array\nu = np.array([1,2,3,-1])\nz = u + 1\nprint(\"Adding a constant to an array:\", z)",
      "metadata": {
        "trusted": true
      },
      "outputs": [
        {
          "name": "stdout",
          "output_type": "stream",
          "text": "adding vectors: [1 1]\nSubtracting vectors: [ 1 -1]\nMultiplying by a scaler: [2 4]\nProduct of two arrays: [3 4]\nDot productd: 5\nAdding a constant to an array: [2 3 4 0]\n"
        }
      ],
      "execution_count": 38
    },
    {
      "id": "762a08a3-84aa-4119-a669-91423e68ae72",
      "cell_type": "code",
      "source": "# Universal functions\na = np.array([1,-1,1,-1])\n# Finding the mean\nmean_a = a.mean()\nprint(\"mean = \", mean_a)\n# Finding maximum value \nb = np.array([1,-2,3,4,5])\nmax_b = b.max()\nprint(\"maximum value = \", max_b)\n# using numpy to create functions that map numpy arrays to new numpy arrays \nx = np.array([0,np.pi/2, np.pi])\ny = np.sin(x)\nprint(y)\n# plotting mathematical functions \n# the first number is the beginning of the sequence, the second number is the ending point of the sequence, and finally, the parameter num indicates the number of sample to generate. \nnp.linspace(-2,2,num=5)",
      "metadata": {
        "trusted": true
      },
      "outputs": [
        {
          "name": "stdout",
          "output_type": "stream",
          "text": "mean =  0.0\nmaximum value =  5\n[0.0000000e+00 1.0000000e+00 1.2246468e-16]\n"
        },
        {
          "execution_count": 58,
          "output_type": "execute_result",
          "data": {
            "text/plain": "array([-2., -1.,  0.,  1.,  2.])"
          },
          "metadata": {}
        }
      ],
      "execution_count": 58
    },
    {
      "id": "d400abf9-7639-4772-bd8e-490506ce7814",
      "cell_type": "code",
      "source": "x = np.linspace(0, 2*np.pi, 100)\ny = np.sin(x)\nplt.plot(x,y)",
      "metadata": {
        "trusted": true
      },
      "outputs": [
        {
          "execution_count": 59,
          "output_type": "execute_result",
          "data": {
            "text/plain": "[<matplotlib.lines.Line2D at 0x71a2a38>]"
          },
          "metadata": {}
        },
        {
          "output_type": "display_data",
          "data": {
            "text/plain": "<Figure size 640x480 with 1 Axes>",
            "image/png": "[encoded data removed]"
          },
          "metadata": {}
        }
      ],
      "execution_count": 59
    },
    {
      "id": "18413cf9-66a2-41af-8217-63a997cb3009",
      "cell_type": "code",
      "source": "arr = np.array([1, 2, 3, 4, 5, 6, 7, 8])\n# Getting only the even numbers in the array\na = arr[1::2]\na",
      "metadata": {
        "trusted": true
      },
      "outputs": [
        {
          "execution_count": 63,
          "output_type": "execute_result",
          "data": {
            "text/plain": "array([2, 4, 6, 8])"
          },
          "metadata": {}
        }
      ],
      "execution_count": 63
    },
    {
      "id": "721aff4b-4649-44d8-813b-a2bc8c17a228",
      "cell_type": "code",
      "source": "c = np.array([20,1,2,3,4])\nselect = [0,2,3,4]\nselect\nd = c[select] # <== passing mutiple indexes \nd",
      "metadata": {
        "trusted": true
      },
      "outputs": [
        {
          "execution_count": 69,
          "output_type": "execute_result",
          "data": {
            "text/plain": "array([20,  2,  3,  4])"
          },
          "metadata": {}
        }
      ],
      "execution_count": 69
    },
    {
      "id": "080e898f-a10d-4094-aca5-270d9eaeba73",
      "cell_type": "code",
      "source": "b = np.array([10, 20, 30, 40, 50, 60, 70])\n# numpy statistical functions\nmean = b.mean()\nprint(\"The dataset has a mean of:\", mean)\nstandard_deviation = a.std()\nprint(\"The dataset has a standard deviation of:\", Decimal(standard_deviation).quantize(Decimal(\"0.00\")))\nlargest_num = b.max()\nprint(\"The largest number in the dataset:\", largest_num)\nsmallest_num = b.min()\nprint(\"The smallest number in the dataset:\", smallest_num)",
      "metadata": {
        "trusted": true
      },
      "outputs": [
        {
          "name": "stdout",
          "output_type": "stream",
          "text": "The dataset has a mean of: 40.0\nThe dataset has a standard deviation of: 1.41\nThe largest number in the dataset: 70\nThe smallest number in the dataset: 10\n"
        }
      ],
      "execution_count": 90
    },
    {
      "id": "18d39205-ec3e-4bbb-86c0-d7dab191915e",
      "cell_type": "code",
      "source": "u = np.array([1,0])\nv = np.array([0,1])\nz = np.add(u,v)\n\n\n# This is a visualization of what is happening above (array addition) # \ndef Plotvec1(u, z, v):\n    \n    ax = plt.axes() # to generate the full window axes\n    ax.arrow(0, 0, *u, head_width=0.05, color='r', head_length=0.1)# Add an arrow to the  U Axes with arrow head width 0.05, color red and arrow head length 0.1\n    plt.text(*(u + 0.1), 'u')#Adds the text u to the Axes \n    \n    ax.arrow(0, 0, *v, head_width=0.05, color='b', head_length=0.1)# Add an arrow to the  v Axes with arrow head width 0.05, color red and arrow head length 0.1\n    plt.text(*(v + 0.1), 'v')#Adds the text v to the Axes \n    \n    ax.arrow(0, 0, *z, head_width=0.05, head_length=0.1)\n    plt.text(*(z + 0.1), 'z')#Adds the text z to the Axes \n    plt.ylim(-2, 2)#set the ylim to bottom(-2), top(2)\n    plt.xlim(-2, 2)#set the xlim to left(-2), right(2)\n\nPlotvec1(u, z, v)",
      "metadata": {
        "trusted": true
      },
      "outputs": [
        {
          "output_type": "display_data",
          "data": {
            "text/plain": "<Figure size 640x480 with 1 Axes>",
            "image/png": "[encoded data removed]"
          },
          "metadata": {}
        }
      ],
      "execution_count": 98
    },
    {
      "id": "16568111-344a-4eb5-890f-336fcd2fc2f2",
      "cell_type": "code",
      "source": "# Array subraction\narr1 = np.array([10, 20, 30, 40, 50, 60])\narr2 = np.array([20, 21, 22, 23, 24, 25])\narr3 = np.subtract(arr1, arr2)\narr3",
      "metadata": {
        "trusted": true
      },
      "outputs": [
        {
          "execution_count": 111,
          "output_type": "execute_result",
          "data": {
            "text/plain": "array([-10,  -1,   8,  17,  26,  35])"
          },
          "metadata": {}
        }
      ],
      "execution_count": 111
    },
    {
      "id": "1ad70348-4c33-4b90-a8f0-475c6e81ce8c",
      "cell_type": "code",
      "source": "# Array multiplication \narr1 = np.array([10, 20, 30, 40, 50, 60])\narr2 = np.array([2, 1, 2, 3, 4, 5])\narr3 = np.multiply(arr1, arr2)\nprint(arr3)",
      "metadata": {
        "trusted": true
      },
      "outputs": [
        {
          "name": "stdout",
          "output_type": "stream",
          "text": "[ 20  20  60 120 200 300]\n"
        }
      ],
      "execution_count": 113
    },
    {
      "id": "a6bed53e-b27f-4630-9914-c0af4c26494b",
      "cell_type": "code",
      "source": "# Array division \narr1 = np.array([10, 20, 30, 40, 50, 60])\narr2 = np.array([3, 5, 10, 8, 2, 33])\narr3 = np.divide(arr1, arr2)\nprint(arr3)",
      "metadata": {
        "trusted": true
      },
      "outputs": [
        {
          "name": "stdout",
          "output_type": "stream",
          "text": "[ 3.33333333  4.          3.          5.         25.          1.81818182]\n"
        }
      ],
      "execution_count": 115
    },
    {
      "id": "40f185c0-dbd8-4a76-8eda-30d940aa5819",
      "cell_type": "code",
      "source": "# Dot product (you basically multiply the number at the same index then add the results)\narr1 = np.array([3, 5])\narr2 = np.array([2, 4])\narr3 = np.dot(arr1, arr2)\narr3",
      "metadata": {
        "trusted": true
      },
      "outputs": [
        {
          "execution_count": 116,
          "output_type": "execute_result",
          "data": {
            "text/plain": "np.int32(26)"
          },
          "metadata": {}
        }
      ],
      "execution_count": 116
    },
    {
      "id": "9714a8aa-113a-4781-8556-d0b9834253b5",
      "cell_type": "code",
      "source": "# Adding a constant to an array \narr = np.array([1, 2, 3, -1]) \narr + 5",
      "metadata": {
        "trusted": true
      },
      "outputs": [
        {
          "execution_count": 117,
          "output_type": "execute_result",
          "data": {
            "text/plain": "array([6, 7, 8, 4])"
          },
          "metadata": {}
        }
      ],
      "execution_count": 117
    },
    {
      "id": "f8b7b1c8-f529-42ed-a524-5b649ccb5f99",
      "cell_type": "code",
      "source": "# using linspace \na = np.linspace(-2,2,5)\nprint(a)",
      "metadata": {
        "trusted": true
      },
      "outputs": [
        {
          "name": "stdout",
          "output_type": "stream",
          "text": "[-2. -1.  0.  1.  2.]\n"
        }
      ],
      "execution_count": 119
    },
    {
      "id": "f10ee4f8-f280-4702-92ad-5ffbb1542279",
      "cell_type": "code",
      "source": "z = np.array([2, 4])\nz*-2",
      "metadata": {
        "trusted": true
      },
      "outputs": [
        {
          "execution_count": 137,
          "output_type": "execute_result",
          "data": {
            "text/plain": "array([-4, -8])"
          },
          "metadata": {}
        }
      ],
      "execution_count": 137
    },
    {
      "id": "7bf5a0a8-8d13-49f5-a3ae-df6596f5227e",
      "cell_type": "code",
      "source": "a = np.array([[1,2,3], [4,5,6],[7,8,9]])\n# You can access the elements in the array using both methods \nprint(a[2][2])\nprint(a[1,2])\nprint(a[0:2,2])",
      "metadata": {
        "trusted": true
      },
      "outputs": [
        {
          "name": "stdout",
          "output_type": "stream",
          "text": "9\n6\n[3 6]\n"
        }
      ],
      "execution_count": 13
    },
    {
      "id": "17cb2ef5-6780-4865-b5ae-612d39eeaf2c",
      "cell_type": "code",
      "source": "# Matrix multiplication  \na = np.array([[0,1,1],[1,0,1]])\nb = np.array([[1,1], [1,1], [-1,1]])\nc= np.dot (a,b)\nc",
      "metadata": {
        "trusted": true
      },
      "outputs": [
        {
          "execution_count": 16,
          "output_type": "execute_result",
          "data": {
            "text/plain": "array([[0, 2],\n       [0, 2]])"
          },
          "metadata": {}
        }
      ],
      "execution_count": 16
    },
    {
      "id": "19998374-b0d0-4fc7-a9db-e2bfac04246f",
      "cell_type": "code",
      "source": "a = [[11, 12, 13], [21, 22, 23], [31, 32, 33]]\na = np.array(a)\n# The nested list inside the bigger list is at rank two; that is why it says 2 when we use ndim. \nprint(a.ndim)\n# Picture the matrix in your mind, and you will see why it is (3,3).\nprint(a.shape)\n# Number of elements in the matrix\nprint(a.size)",
      "metadata": {
        "trusted": true
      },
      "outputs": [
        {
          "name": "stdout",
          "output_type": "stream",
          "text": "2\n(3, 3)\n9\n"
        }
      ],
      "execution_count": 27
    },
    {
      "id": "334e31a5-109e-48cf-b369-3720035afd10",
      "cell_type": "code",
      "source": "x = np.array([[1,0],[0,1]])\ny = np.array([[2,1], [1,2]])\nprint(\"x:\",\"\\n\", x)\nprint(\"y:\",'\\n', y)\n# Adding matrices \nz = x+y\nprint(\"After adding matrices x and y:\", z)\n# Subtracting matrices \nr = x-y\nprint(\"After subracting matrices x and y:\", r)",
      "metadata": {
        "trusted": true
      },
      "outputs": [
        {
          "name": "stdout",
          "output_type": "stream",
          "text": "x: \n [[1 0]\n [0 1]]\ny: \n [[2 1]\n [1 2]]\nAfter adding matrices x and y: [[3 1]\n [1 3]]\nAfter subracting matrices x and y: [[-1 -1]\n [-1 -1]]\n"
        }
      ],
      "execution_count": 49
    },
    {
      "id": "dd9db386-69a8-4685-9d45-716520aaf1ac",
      "cell_type": "code",
      "source": "# Multiplying a matrix by a scaler \nprint(y)\nz = 2 * y\nprint(z)",
      "metadata": {
        "trusted": true
      },
      "outputs": [
        {
          "name": "stdout",
          "output_type": "stream",
          "text": "[[2 1]\n [1 2]]\n[[4 2]\n [2 4]]\n"
        }
      ],
      "execution_count": 54
    },
    {
      "id": "1fb7c5cf-1f62-4963-8350-757004d49fb9",
      "cell_type": "code",
      "source": "# matrices multiplication (element-wise multiplication) <== they need to be the same size like for example (2,2)(2,2) or (5,3)(5,3)\nprint(x)\nprint(y)\nz = x * y\nz",
      "metadata": {
        "trusted": true
      },
      "outputs": [
        {
          "name": "stdout",
          "output_type": "stream",
          "text": "[[1 0]\n [0 1]]\n[[2 1]\n [1 2]]\n"
        },
        {
          "execution_count": 58,
          "output_type": "execute_result",
          "data": {
            "text/plain": "array([[2, 0],\n       [0, 2]])"
          },
          "metadata": {}
        }
      ],
      "execution_count": 58
    },
    {
      "id": "af67dfe7-63b4-46ca-9b2e-ec5cedbfd368",
      "cell_type": "code",
      "source": "# matrices multiplication <= the column of the first matrix must be equal to the row of the second matrix for example (3,4)(4,2)\na = np.array([[0,1,1], [1,0,1]])\nb = np.array([[1,1],[1,1],[-1,1]])\nz = np.dot(a,b)\nz",
      "metadata": {
        "trusted": true
      },
      "outputs": [
        {
          "execution_count": 68,
          "output_type": "execute_result",
          "data": {
            "text/plain": "array([[0, 2],\n       [0, 2]])"
          },
          "metadata": {}
        }
      ],
      "execution_count": 68
    },
    {
      "id": "d6d4a8a6-bd85-47e8-b792-58455e4b09e0",
      "cell_type": "code",
      "source": "C = np.array([[1,1],[2,2],[3,3]])\n# This is how you get the transposed matrix\nC.T",
      "metadata": {
        "trusted": true
      },
      "outputs": [
        {
          "execution_count": 69,
          "output_type": "execute_result",
          "data": {
            "text/plain": "array([[1, 2, 3],\n       [1, 2, 3]])"
          },
          "metadata": {}
        }
      ],
      "execution_count": 69
    },
    {
      "id": "668b2147-e090-463e-822f-890308c3918c",
      "cell_type": "code",
      "source": "a = np.array([[1, 2, 3, 4], [5, 6, 7, 8], [9, 10, 11, 12]])\nb= np.array([[0, 1], [1, 0], [1, 1], [-1, 0]])\nz = np.dot(a,b)\nprint(z)",
      "metadata": {
        "trusted": true
      },
      "outputs": [
        {
          "name": "stdout",
          "output_type": "stream",
          "text": "[[ 1  4]\n [ 5 12]\n [ 9 20]]\n"
        }
      ],
      "execution_count": 79
    },
    {
      "id": "22b6d44c-488d-48e9-8a5a-7a63e067a7fb",
      "cell_type": "code",
      "source": "\n",
      "metadata": {
        "trusted": true
      },
      "outputs": [],
      "execution_count": null
    },
    {
      "id": "1c6a8ae8-fb25-47df-aca1-83dfd88236b5",
      "cell_type": "code",
      "source": "",
      "metadata": {
        "trusted": true
      },
      "outputs": [],
      "execution_count": null
    }
  ]
}